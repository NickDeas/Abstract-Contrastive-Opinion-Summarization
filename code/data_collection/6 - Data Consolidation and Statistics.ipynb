{
 "cells": [
  {
   "cell_type": "markdown",
   "id": "03f99f80",
   "metadata": {},
   "source": [
    "# Imports "
   ]
  },
  {
   "cell_type": "code",
   "execution_count": 108,
   "id": "dfbd39d6",
   "metadata": {},
   "outputs": [],
   "source": [
    "import pandas as pd\n",
    "\n",
    "from ast import literal_eval\n",
    "\n",
    "import re\n",
    "import json\n",
    "\n",
    "from tqdm import tqdm\n",
    "tqdm.pandas()\n",
    "\n",
    "import urlexpander\n",
    "\n",
    "from sklearn.model_selection import train_test_split\n",
    "\n",
    "from nltk import tokenize\n",
    "from nltk.sentiment.vader import SentimentIntensityAnalyzer\n",
    "\n",
    "import matplotlib.pyplot as plt\n",
    "\n",
    "from rouge_score import rouge_scorer\n",
    "from torchmetrics.text.bert import BERTScore\n",
    "from nltk.translate import bleu_score"
   ]
  },
  {
   "cell_type": "markdown",
   "id": "e9873997",
   "metadata": {},
   "source": [
    "# Settings and Configuration "
   ]
  },
  {
   "cell_type": "code",
   "execution_count": 104,
   "id": "42abe06e",
   "metadata": {},
   "outputs": [],
   "source": [
    "DATA_BASE      = '../../data/'\n",
    "FLIPSIDE_DATA  = DATA_BASE + '/webpage_data/full_flipside_data_clean.csv'\n",
    "TWITTER_DATA   = DATA_BASE + 'twitter_data/all_tweet_data.csv'\n",
    "REDDIT_DATA    = DATA_BASE + 'reddit_data/all_reddit.csv'\n",
    "\n",
    "FINAL_OUT_FP   = DATA_BASE + '/data_clean/polisum_raw.csv'\n",
    "CLEAN_OUT_FP   = DATA_BASE + '/data_clean/polisum_clean.csv'\n",
    "LEFT_OUT_FP    = DATA_BASE + '/data_clean/polisum_left.csv'\n",
    "RIGHT_OUT_FP   = DATA_BASE + '/data_clean/polisum_right.csv'\n",
    "SINGLE_OUT_FP  = DATA_BASE + '/data_clean/polisum_one_side.csv'\n",
    "COCOSUM_FP     = DATA_BASE + '/data_clean/polisum_cocosum/'\n",
    "\n",
    "MIN_TOKS       = 7\n",
    "SENT_SPLIT_TOK = '|||'\n",
    "PRIMERA_TOK    = '<doc-sep>'\n",
    "LEFT_TOK       = '<LEFT> '\n",
    "RIGHT_TOK      = '<RIGHT> '\n",
    "\n",
    "PLOT_STYLE     = 'fivethirtyeight'"
   ]
  },
  {
   "cell_type": "markdown",
   "id": "34d86d6e",
   "metadata": {},
   "source": [
    "# Reading & Preparing Data "
   ]
  },
  {
   "cell_type": "code",
   "execution_count": 3,
   "id": "8f5bb62d",
   "metadata": {},
   "outputs": [
    {
     "name": "stderr",
     "output_type": "stream",
     "text": [
      "C:\\Users\\ndeas\\miniconda3\\lib\\site-packages\\IPython\\core\\interactiveshell.py:3343: DtypeWarning: Columns (19) have mixed types.Specify dtype option on import or set low_memory=False.\n",
      "  exec(code_obj, self.user_global_ns, self.user_ns)\n"
     ]
    }
   ],
   "source": [
    "flipside = pd.read_csv(FLIPSIDE_DATA)\n",
    "twitter = pd.read_csv(TWITTER_DATA)\n",
    "reddit  = pd.read_csv(REDDIT_DATA)"
   ]
  },
  {
   "cell_type": "markdown",
   "id": "482949ca",
   "metadata": {},
   "source": [
    "# Cleaning Data"
   ]
  },
  {
   "cell_type": "code",
   "execution_count": 4,
   "id": "c7761ad9",
   "metadata": {},
   "outputs": [],
   "source": [
    "URL_REGEX = '(?!mailto:)(?:(?:http|https|ftp)://)(?:\\\\S+(?::\\\\S*)?@)?(?:(?:(?:[1-9]\\\\d?|1\\\\d\\\\d|2[01]\\\\d|22[0-3])(?:\\\\.(?:1?\\\\d{1,2}|2[0-4]\\\\d|25[0-5])){2}(?:\\\\.(?:[0-9]\\\\d?|1\\\\d\\\\d|2[0-4]\\\\d|25[0-4]))|(?:(?:[a-z\\\\u00a1-\\\\uffff0-9]+-?)*[a-z\\\\u00a1-\\\\uffff0-9]+)(?:\\\\.(?:[a-z\\\\u00a1-\\\\uffff0-9]+-?)*[a-z\\\\u00a1-\\\\uffff0-9]+)*(?:\\\\.(?:[a-z\\\\u00a1-\\\\uffff]{2,})))|localhost)(?::\\\\d{2,5})?(?:(/|\\\\?|#)[^\\\\s]*)?'"
   ]
  },
  {
   "cell_type": "code",
   "execution_count": 28,
   "id": "64ffdc09",
   "metadata": {},
   "outputs": [],
   "source": [
    "def filter_urls(text):\n",
    "    new_text = re.sub(URL_REGEX, '<URL>', text)\n",
    "    return new_text"
   ]
  },
  {
   "cell_type": "code",
   "execution_count": 29,
   "id": "911e22f8",
   "metadata": {},
   "outputs": [],
   "source": [
    "def split_sents(text):\n",
    "    posts = text.split(SENT_SPLIT_TOK)\n",
    "    sents = [sent for post in posts for sent in tokenize.sent_tokenize(post)]\n",
    "    return SENT_SPLIT_TOK.join(sents)"
   ]
  },
  {
   "cell_type": "code",
   "execution_count": 36,
   "id": "295182fa",
   "metadata": {},
   "outputs": [],
   "source": [
    "def reorder_sm_text(row):\n",
    "    tw_text = str(row['twitter_text']).split(SENT_SPLIT_TOK)\n",
    "    re_text = str(row['reddit_text']).split(SENT_SPLIT_TOK)\n",
    "    \n",
    "    tw_text.sort(key = len, reverse = True)\n",
    "    re_text.sort(key = len, reverse = True)\n",
    "    \n",
    "    match_len, larger = 0, []\n",
    "    if len(tw_text) > len(re_text):\n",
    "        match_len = len(re_text)\n",
    "        larger = tw_text\n",
    "    else:\n",
    "        match_len = len(tw_text)\n",
    "        larger = re_text\n",
    "    \n",
    "    comb_text = [''] * (2 * match_len)\n",
    "    comb_text[::2] = tw_text[:match_len]\n",
    "    comb_text[1::2] = re_text[:match_len]\n",
    "    comb_text += larger[match_len:]\n",
    "    \n",
    "    return SENT_SPLIT_TOK.join(comb_text)"
   ]
  },
  {
   "cell_type": "markdown",
   "id": "a7b78f68",
   "metadata": {},
   "source": [
    "## Flipside "
   ]
  },
  {
   "cell_type": "code",
   "execution_count": 8,
   "id": "8608e27a",
   "metadata": {},
   "outputs": [],
   "source": [
    "flipside['date'] = pd.to_datetime(flipside['date'])\n",
    "flipside = flipside.astype(str)"
   ]
  },
  {
   "cell_type": "markdown",
   "id": "d360e6c3",
   "metadata": {},
   "source": [
    "## Reddit "
   ]
  },
  {
   "cell_type": "code",
   "execution_count": 9,
   "id": "ef8a9381",
   "metadata": {},
   "outputs": [],
   "source": [
    "reddit['title'] = reddit['title'].fillna('')\n",
    "reddit['selftext'] = reddit['selftext'].fillna('')\n",
    "reddit['text'] = reddit['title'] + ' ' + reddit['selftext']"
   ]
  },
  {
   "cell_type": "code",
   "execution_count": 10,
   "id": "18e37995",
   "metadata": {},
   "outputs": [
    {
     "name": "stderr",
     "output_type": "stream",
     "text": [
      "100%|████████████████████████████████████████████████████████████████████████| 14191/14191 [00:00<00:00, 170110.14it/s]\n"
     ]
    }
   ],
   "source": [
    "reddit['no_url_text'] = reddit['text'].progress_apply(filter_urls)"
   ]
  },
  {
   "cell_type": "code",
   "execution_count": 11,
   "id": "33f74033",
   "metadata": {},
   "outputs": [],
   "source": [
    "reddit_clean = reddit[reddit['no_url_text'].str.replace('(<URL>)', '', regex = True).str.split(' ').apply(len) > MIN_TOKS]"
   ]
  },
  {
   "cell_type": "code",
   "execution_count": 12,
   "id": "138af209",
   "metadata": {},
   "outputs": [],
   "source": [
    "reddit_clean = reddit_clean[['title_q', 'date_q', 'no_url_text']]\n",
    "reddit_clean['date_q'] = pd.to_datetime(reddit_clean['date_q'])\n",
    "reddit_clean = reddit_clean.astype(str)"
   ]
  },
  {
   "cell_type": "code",
   "execution_count": 13,
   "id": "4809d998",
   "metadata": {},
   "outputs": [],
   "source": [
    "reddit_texts = reddit_clean.groupby(['title_q','date_q'])['no_url_text']\n",
    "reddit_texts = reddit_texts.transform(lambda texts: SENT_SPLIT_TOK.join(texts))\n",
    "reddit_clean['no_url_text'] = reddit_texts"
   ]
  },
  {
   "cell_type": "code",
   "execution_count": 14,
   "id": "d4c3c376",
   "metadata": {},
   "outputs": [],
   "source": [
    "reddit_clean = reddit_clean.drop_duplicates().reset_index(drop = True)"
   ]
  },
  {
   "cell_type": "code",
   "execution_count": 15,
   "id": "c4893df4",
   "metadata": {},
   "outputs": [
    {
     "name": "stderr",
     "output_type": "stream",
     "text": [
      "100%|██████████████████████████████████████████████████████████████████████████████| 971/971 [00:00<00:00, 2101.22it/s]\n"
     ]
    }
   ],
   "source": [
    "reddit_clean['texts'] = reddit_clean['no_url_text'].progress_apply(split_sents)"
   ]
  },
  {
   "cell_type": "markdown",
   "id": "30981ffc",
   "metadata": {},
   "source": [
    "## Twitter "
   ]
  },
  {
   "cell_type": "code",
   "execution_count": 16,
   "id": "7c1ae195",
   "metadata": {},
   "outputs": [
    {
     "name": "stderr",
     "output_type": "stream",
     "text": [
      "100%|████████████████████████████████████████████████████████████████████████| 34134/34134 [00:00<00:00, 117723.30it/s]\n"
     ]
    }
   ],
   "source": [
    "twitter['no_url_text'] = twitter['text'].progress_apply(filter_urls)"
   ]
  },
  {
   "cell_type": "code",
   "execution_count": 17,
   "id": "e67f225a",
   "metadata": {},
   "outputs": [],
   "source": [
    "twitter_clean = twitter[twitter['no_url_text'].str.replace('(<URL>)', '', regex = True).str.split(' ').apply(len) > MIN_TOKS]"
   ]
  },
  {
   "cell_type": "code",
   "execution_count": 18,
   "id": "312c9a44",
   "metadata": {},
   "outputs": [],
   "source": [
    "twitter_clean = twitter_clean[['title_q', 'date_q', 'no_url_text']]\n",
    "twitter_clean['date_q'] = pd.to_datetime(twitter_clean['date_q'])\n",
    "twitter_clean = twitter_clean.astype(str)"
   ]
  },
  {
   "cell_type": "code",
   "execution_count": 19,
   "id": "168697e7",
   "metadata": {},
   "outputs": [],
   "source": [
    "tweet_texts = twitter_clean.groupby(['title_q','date_q'])['no_url_text']\n",
    "tweet_texts = tweet_texts.transform(lambda texts: SENT_SPLIT_TOK.join(texts))\n",
    "twitter_clean['no_url_text'] = tweet_texts"
   ]
  },
  {
   "cell_type": "code",
   "execution_count": 20,
   "id": "777b0ffe",
   "metadata": {},
   "outputs": [],
   "source": [
    "twitter_clean = twitter_clean.drop_duplicates().reset_index(drop = True)"
   ]
  },
  {
   "cell_type": "code",
   "execution_count": 21,
   "id": "2857f971",
   "metadata": {},
   "outputs": [
    {
     "name": "stderr",
     "output_type": "stream",
     "text": [
      "100%|███████████████████████████████████████████████████████████████████████████████| 977/977 [00:01<00:00, 508.90it/s]\n"
     ]
    }
   ],
   "source": [
    "twitter_clean['texts'] = twitter_clean['no_url_text'].progress_apply(split_sents)"
   ]
  },
  {
   "cell_type": "markdown",
   "id": "5c544bd9",
   "metadata": {},
   "source": [
    "# Consolidation "
   ]
  },
  {
   "cell_type": "code",
   "execution_count": 22,
   "id": "74a76ec9",
   "metadata": {},
   "outputs": [],
   "source": [
    "sm_texts = reddit_clean.merge(twitter_clean, on = ['title_q', 'date_q'], how = 'outer')"
   ]
  },
  {
   "cell_type": "code",
   "execution_count": 23,
   "id": "a80d74d1",
   "metadata": {},
   "outputs": [],
   "source": [
    "sm_texts = sm_texts[['title_q', 'date_q', 'texts_x',  'texts_y']]\n",
    "sm_texts.columns = ['title', 'date', 'reddit_text', 'twitter_text']\n",
    "sm_texts = sm_texts.fillna('').astype(str)"
   ]
  },
  {
   "cell_type": "code",
   "execution_count": 24,
   "id": "10cf5ca7",
   "metadata": {},
   "outputs": [
    {
     "name": "stderr",
     "output_type": "stream",
     "text": [
      "100%|█████████████████████████████████████████████████████████████████████████████| 977/977 [00:00<00:00, 15263.66it/s]\n"
     ]
    }
   ],
   "source": [
    "sm_texts['sm_text'] = sm_texts['reddit_text'] + SENT_SPLIT_TOK + sm_texts['twitter_text']\n",
    "sm_texts['sm_text'] = sm_texts['sm_text'].progress_apply(lambda text: re.sub('^\\s*\\|\\|\\|', '', text))"
   ]
  },
  {
   "cell_type": "code",
   "execution_count": 25,
   "id": "d3d39881",
   "metadata": {},
   "outputs": [
    {
     "name": "stderr",
     "output_type": "stream",
     "text": [
      "100%|████████████████████████████████████████████████████████████████████████████| 977/977 [00:00<00:00, 193980.36it/s]\n",
      "100%|█████████████████████████████████████████████████████████████████████████████| 977/977 [00:00<00:00, 76299.83it/s]\n",
      "100%|█████████████████████████████████████████████████████████████████████████████| 977/977 [00:00<00:00, 54175.50it/s]\n"
     ]
    }
   ],
   "source": [
    "sm_texts['num_reddit'] = sm_texts['reddit_text'].progress_apply(lambda text: len(text.split('|||')))\n",
    "sm_texts['num_twitter'] = sm_texts['twitter_text'].progress_apply(lambda text: len(text.split('|||')))\n",
    "sm_texts['num_sm'] = sm_texts['sm_text'].progress_apply(lambda text: len(text.split('|||')))"
   ]
  },
  {
   "cell_type": "code",
   "execution_count": 26,
   "id": "cef55481",
   "metadata": {},
   "outputs": [],
   "source": [
    "polisum = flipside.merge(sm_texts, on = ['title', 'date'])"
   ]
  },
  {
   "cell_type": "markdown",
   "id": "caa70584",
   "metadata": {},
   "source": [
    "# Saving Polisum Variants "
   ]
  },
  {
   "cell_type": "code",
   "execution_count": 27,
   "id": "60eaef2b",
   "metadata": {},
   "outputs": [],
   "source": [
    "polisum.to_csv(FINAL_OUT_FP, index = None)"
   ]
  },
  {
   "cell_type": "code",
   "execution_count": 11,
   "id": "725ae122",
   "metadata": {},
   "outputs": [],
   "source": [
    "sid = SentimentIntensityAnalyzer()"
   ]
  },
  {
   "cell_type": "code",
   "execution_count": 42,
   "id": "ca282432",
   "metadata": {},
   "outputs": [],
   "source": [
    "def get_sentiments(text):\n",
    "    '''\n",
    "        Scores each sentence in text by sentiment, sorts the sentences,\n",
    "            and splits the sentences in half\n",
    "    '''\n",
    "    \n",
    "    text_l = re.split(r'\\|\\|\\|', text)\n",
    "    text_l = [t for t in text_l if t != '']\n",
    "    \n",
    "    sent_scores = []\n",
    "    for sent in text_l:\n",
    "        sentiments = sid.polarity_scores(sent)\n",
    "        sent_scores.append(sentiments)\n",
    "    \n",
    "    text_sents = [(text, sent['compound']) for text, sent in zip(text_l, sent_scores)]\n",
    "    text_sents.sort(key = lambda s: s[1])\n",
    "    \n",
    "    pos_text = [text for text, _ in text_sents[:len(text_sents)//2]]\n",
    "    neg_text = [text for text, _ in text_sents[len(text_sents)//2:]]\n",
    "    \n",
    "    return '|||'.join(pos_text), '|||'.join(neg_text)\n",
    "\n",
    "def get_sentiments_row(row):\n",
    "    text = str(row['sm_text'])\n",
    "    pos, neg = get_sentiments(text)\n",
    "    \n",
    "    row['h1_text'] = pos\n",
    "    row['h2_text'] = neg\n",
    "    \n",
    "    return row"
   ]
  },
  {
   "cell_type": "code",
   "execution_count": 116,
   "id": "ca94a0b8",
   "metadata": {},
   "outputs": [],
   "source": [
    "# Filter out rows that do not contain reference summaries\n",
    "polisum_clean = polisum_clean[~polisum_clean['left_sum'].isna()]\n",
    "polisum_clean = polisum_clean[~polisum_clean['right_sum'].isna()]"
   ]
  },
  {
   "cell_type": "code",
   "execution_count": 44,
   "id": "930c0ad4",
   "metadata": {},
   "outputs": [
    {
     "name": "stderr",
     "output_type": "stream",
     "text": [
      "100%|████████████████████████████████████████████████████████████████████████████████| 977/977 [00:13<00:00, 72.68it/s]\n"
     ]
    }
   ],
   "source": [
    "polisum_clean = polisum_clean.progress_apply(get_sentiments_row, axis = 1)"
   ]
  },
  {
   "cell_type": "code",
   "execution_count": 45,
   "id": "36ce219e",
   "metadata": {},
   "outputs": [
    {
     "name": "stderr",
     "output_type": "stream",
     "text": [
      "C:\\Users\\ndeas\\miniconda3\\lib\\site-packages\\ipykernel_launcher.py:2: FutureWarning: The default value of regex will change from True to False in a future version.\n",
      "  \n",
      "C:\\Users\\ndeas\\miniconda3\\lib\\site-packages\\ipykernel_launcher.py:3: FutureWarning: The default value of regex will change from True to False in a future version.\n",
      "  This is separate from the ipykernel package so we can avoid doing imports until\n"
     ]
    }
   ],
   "source": [
    "# Change splitting string to the same as sm_text, '|||'\n",
    "polisum_clean['right_op'] = polisum_clean['right_op'].str.replace('\\|+', SENT_SPLIT_TOK)\n",
    "polisum_clean['left_op'] = polisum_clean['left_op'].str.replace('\\|+', SENT_SPLIT_TOK)"
   ]
  },
  {
   "cell_type": "code",
   "execution_count": 46,
   "id": "41046d93",
   "metadata": {},
   "outputs": [
    {
     "name": "stderr",
     "output_type": "stream",
     "text": [
      "100%|█████████████████████████████████████████████████████████████████████████████| 977/977 [00:00<00:00, 15177.05it/s]\n"
     ]
    }
   ],
   "source": [
    "# Reorder social media to alternate between twitter and reddit\n",
    "polisum_clean['sm_text'] = polisum_clean.progress_apply(reorder_sm_text, axis = 1)"
   ]
  },
  {
   "cell_type": "code",
   "execution_count": 47,
   "id": "5441a3ce",
   "metadata": {},
   "outputs": [
    {
     "name": "stderr",
     "output_type": "stream",
     "text": [
      "C:\\Users\\ndeas\\miniconda3\\lib\\site-packages\\ipykernel_launcher.py:3: FutureWarning: The default value of regex will change from True to False in a future version.\n",
      "  This is separate from the ipykernel package so we can avoid doing imports until\n"
     ]
    }
   ],
   "source": [
    "# Replace usernames with <UNAME> token\n",
    "polisum_clean['sm_text'] = polisum_clean['sm_text'].str.replace('@[A-Za-z0-9_]+', '<UNAME>', regex = True)\n",
    "polisum_clean['sm_text_primera'] = polisum_clean['sm_text'].str.replace(SENT_SPLIT_TOK.replace('|', '\\|'), PRIMERA_TOK)\n",
    "polisum_clean = polisum_clean.reset_index(drop = True)"
   ]
  },
  {
   "cell_type": "code",
   "execution_count": 119,
   "id": "b18082ad",
   "metadata": {},
   "outputs": [],
   "source": [
    "polisum_left = polisum_clean.drop('right_sum', axis = 1)\n",
    "polisum_left['perspective'] = 'left'\n",
    "polisum_left['sm_text'] = LEFT_TOK + ' ' + polisum_left['sm_text']\n",
    "polisum_left['sm_text_primera'] = LEFT_TOK + ' ' + polisum_left['sm_text_primera']\n",
    "polisum_left = polisum_left.rename({'left_sum': 'ref_sum'}, axis = 1)\n",
    "\n",
    "polisum_right = polisum_clean.drop('left_sum', axis = 1)\n",
    "polisum_right['perspective'] = 'right'\n",
    "polisum_right['sm_text'] = RIGHT_TOK + ' ' + polisum_right['sm_text']\n",
    "polisum_right['sm_text_primera'] = RIGHT_TOK + ' ' + polisum_right['sm_text_primera']\n",
    "polisum_right = polisum_right.rename({'right_sum': 'ref_sum'}, axis = 1)"
   ]
  },
  {
   "cell_type": "code",
   "execution_count": 120,
   "id": "07818a44",
   "metadata": {},
   "outputs": [],
   "source": [
    "polisum_side = pd.concat([polisum_left, polisum_right], axis = 0).reset_index(drop = True)"
   ]
  },
  {
   "cell_type": "code",
   "execution_count": 121,
   "id": "277f6233",
   "metadata": {},
   "outputs": [],
   "source": [
    "# Save all cleaned datasets\n",
    "polisum_clean.to_csv(CLEAN_OUT_FP, index = False)\n",
    "polisum_left.to_csv(LEFT_OUT_FP, index = False)\n",
    "polisum_right.to_csv(RIGHT_OUT_FP, index = False)\n",
    "polisum_side.to_csv(SINGLE_OUT_FP, index = False)"
   ]
  },
  {
   "cell_type": "code",
   "execution_count": 127,
   "id": "be6f7c33",
   "metadata": {},
   "outputs": [],
   "source": [
    "polisum_coco = polisum_clean[['title', 'date', 'h1_text', 'h2_text', 'left_sum', 'right_sum']]"
   ]
  },
  {
   "cell_type": "code",
   "execution_count": 128,
   "id": "f5889bcb",
   "metadata": {},
   "outputs": [
    {
     "name": "stderr",
     "output_type": "stream",
     "text": [
      "100%|█████████████████████████████████████████████████████████████████████████████| 735/735 [00:00<00:00, 36086.69it/s]\n",
      "C:\\Users\\ndeas\\miniconda3\\lib\\site-packages\\ipykernel_launcher.py:1: SettingWithCopyWarning: \n",
      "A value is trying to be set on a copy of a slice from a DataFrame.\n",
      "Try using .loc[row_indexer,col_indexer] = value instead\n",
      "\n",
      "See the caveats in the documentation: https://pandas.pydata.org/pandas-docs/stable/user_guide/indexing.html#returning-a-view-versus-a-copy\n",
      "  \"\"\"Entry point for launching an IPython kernel.\n",
      "100%|█████████████████████████████████████████████████████████████████████████████| 735/735 [00:00<00:00, 50325.90it/s]\n",
      "C:\\Users\\ndeas\\miniconda3\\lib\\site-packages\\ipykernel_launcher.py:2: SettingWithCopyWarning: \n",
      "A value is trying to be set on a copy of a slice from a DataFrame.\n",
      "Try using .loc[row_indexer,col_indexer] = value instead\n",
      "\n",
      "See the caveats in the documentation: https://pandas.pydata.org/pandas-docs/stable/user_guide/indexing.html#returning-a-view-versus-a-copy\n",
      "  \n"
     ]
    }
   ],
   "source": [
    "polisum_coco['h1_text'] = polisum_coco['h1_text'].progress_apply(lambda s: s.split(SENT_SPLIT_TOK))\n",
    "polisum_coco['h2_text'] = polisum_coco['h2_text'].progress_apply(lambda s: s.split(SENT_SPLIT_TOK))"
   ]
  },
  {
   "cell_type": "code",
   "execution_count": 129,
   "id": "a40af863",
   "metadata": {},
   "outputs": [],
   "source": [
    "polisum_test_coco, polisum_dev_coco = train_test_split(polisum_coco, test_size = 0.2) "
   ]
  },
  {
   "cell_type": "code",
   "execution_count": 131,
   "id": "32e155fd",
   "metadata": {},
   "outputs": [],
   "source": [
    "# Converts dataset into format expected by cocosum\n",
    "# Samples outputted as json with keys entity_a, entity_a_summary, entity_a_uid, the same colums for entity b, and common summary\n",
    "polisum_dev_jsonl = []\n",
    "for sdict in polisum_dev_coco.to_dict(orient = 'records'):\n",
    "    coco_data = {\n",
    "        f'entity_a': sdict['title'] + '_' + sdict['date'] + '_l',\n",
    "        f'entity_b': sdict['title'] + '_' + sdict['date'] + '_r',\n",
    "        f'entity_a_summary': sdict['left_sum'],\n",
    "        f'entity_b_summary': sdict['right_sum'],\n",
    "        f'common_summary': str(sdict['left_sum']) + ' ' + str(sdict['right_sum']),\n",
    "        f'entity_a_uid': ['uid' for _ in sdict['h1_text']],\n",
    "        f'entity_b_uid': ['uid' for _ in sdict['h2_text']],\n",
    "        f'entity_a_reviews': sdict['h1_text'],\n",
    "        f'entity_b_reviews': sdict['h2_text']\n",
    "    }\n",
    "    polisum_dev_jsonl.append(coco_data)\n",
    "with open(COCOSUM_FP + 'dev.json', 'w', encoding = 'utf-8') as f:\n",
    "    json.dump(polisum_dev_jsonl, f)\n",
    "    \n",
    "polisum_test_jsonl = []\n",
    "for sdict in polisum_test_coco.to_dict(orient = 'records'):\n",
    "    coco_data = {\n",
    "        f'entity_a': sdict['title'] + '_' + sdict['date'] + '_l',\n",
    "        f'entity_b': sdict['title'] + '_' + sdict['date'] + '_r',\n",
    "        f'entity_a_summary': sdict['left_sum'],\n",
    "        f'entity_b_summary': sdict['right_sum'],\n",
    "        f'common_summary': str(sdict['left_sum']) + ' ' + str(sdict['right_sum']),\n",
    "        f'entity_a_uid': ['uid' for _ in sdict['h1_text']],\n",
    "        f'entity_b_uid': ['uid' for _ in sdict['h2_text']],\n",
    "        f'entity_a_reviews': sdict['h1_text'],\n",
    "        f'entity_b_reviews': sdict['h2_text']\n",
    "    }\n",
    "    polisum_test_jsonl.append(coco_data)\n",
    "with open(COCOSUM_FP + 'test.json', 'w', encoding = 'utf-8') as f:\n",
    "    json.dump(polisum_test_jsonl, f)"
   ]
  },
  {
   "cell_type": "markdown",
   "id": "05679c47",
   "metadata": {},
   "source": [
    "# Polisum Data Summary"
   ]
  },
  {
   "cell_type": "markdown",
   "id": "46548ee1",
   "metadata": {},
   "source": [
    "## Functions "
   ]
  },
  {
   "cell_type": "code",
   "execution_count": 36,
   "id": "8e92b346",
   "metadata": {},
   "outputs": [],
   "source": [
    "def get_ngrams(text, ngram = 1):\n",
    "    return zip(*[str(text).split()[i:] for i in range(ngram)])\n",
    "\n",
    "def get_novel_ngrams(ref, source, ngrams = (1, 2, 3, 4)):\n",
    "    diffs = []\n",
    "    for ngram in ngrams:\n",
    "        ref_ng = get_ngrams(ref, ngram = ngram)\n",
    "        src_ng = get_ngrams(source, ngram = ngram)\n",
    "        diff = set(ref_ng).difference(src_ng)\n",
    "        diffs.append(len(diff))\n",
    "    \n",
    "    return diffs\n",
    "        \n",
    "def calc_novel_ngrams_row(row):\n",
    "    text = row['sm_text']\n",
    "    refl = row['left_sum']\n",
    "    refr = row['right_sum']\n",
    "    \n",
    "    nov_ngramsl = get_novel_ngrams(refl, text)\n",
    "    nov_ngramsr = get_novel_ngrams(refr, text)\n",
    "    \n",
    "    return nov_ngramsl, nov_ngramsr"
   ]
  },
  {
   "cell_type": "code",
   "execution_count": 37,
   "id": "aa24df51",
   "metadata": {},
   "outputs": [],
   "source": [
    "scorer = rouge_scorer.RougeScorer(['rouge1', 'rouge2', 'rougeL'], use_stemmer = True)\n",
    "def get_max_rouge(row):\n",
    "    left_sum = row['left_sum']\n",
    "    right_sum = row['right_sum']\n",
    "    \n",
    "    stext = re.split(SENT_SPLIT_TOK.replace('|', '\\|'), row['sm_text'])\n",
    "    \n",
    "    lscores, rscores = [], []\n",
    "    for text in stext:\n",
    "        lscores.append(scorer.score(str(left_sum), str(text)))\n",
    "        rscores.append(scorer.score(str(right_sum), str(text)))\n",
    "    \n",
    "    l_text_scores = list(zip(stext, lscores))\n",
    "    r_text_scores = list(zip(stext, rscores))\n",
    "    \n",
    "    max_l = get_max_scores(l_text_scores)\n",
    "    max_r = get_max_scores(r_text_scores)\n",
    "    \n",
    "    return max_l, max_r\n",
    "        \n",
    "def get_max_scores(scores, maximize = 'rouge2'):\n",
    "    scores.sort(key = lambda score: score[1][maximize].fmeasure, reverse = True)\n",
    "    return scores[0]\n",
    "\n",
    "def reformat_rouge(rouge_scores):\n",
    "    rouges = {rtype: {'prec': [], 'rec': [], 'f1': []} for rtype in ('rouge1', 'rouge2', 'rougeL')}\n",
    "    \n",
    "    for text_score in rouge_scores:\n",
    "        for rtype in ('rouge1', 'rouge2', 'rougeL'):\n",
    "            rouges[rtype]['prec'].append(text_score[1][rtype].precision)\n",
    "            rouges[rtype]['rec'].append(text_score[1][rtype].recall)\n",
    "            rouges[rtype]['f1'].append(text_score[1][rtype].fmeasure)\n",
    "    \n",
    "    return rouges"
   ]
  },
  {
   "cell_type": "markdown",
   "id": "8cecfe2e",
   "metadata": {},
   "source": [
    "## Statistics "
   ]
  },
  {
   "cell_type": "code",
   "execution_count": 38,
   "id": "22dc6354",
   "metadata": {},
   "outputs": [],
   "source": [
    "polisum = pd.read_csv(CLEAN_OUT_FP)"
   ]
  },
  {
   "cell_type": "markdown",
   "id": "0f36fbfb",
   "metadata": {},
   "source": [
    "### Lengths "
   ]
  },
  {
   "cell_type": "code",
   "execution_count": 39,
   "id": "b2a30377",
   "metadata": {},
   "outputs": [],
   "source": [
    "avg_num_twitter = polisum['num_twitter'].mean()\n",
    "avg_num_reddit  = polisum['num_reddit'].mean()\n",
    "avg_num_comb    = polisum['num_sm'].mean()\n",
    "std_num_comb    = polisum['num_sm'].std()\n",
    "\n",
    "avg_len_left    = polisum['left_sum'].str.split(' ').apply(len).mean()\n",
    "avg_len_right   = polisum['right_sum'].str.split(' ').apply(len).mean()\n",
    "std_len_left    = polisum['left_sum'].str.split(' ').apply(len).std()\n",
    "std_len_right   = polisum['right_sum'].str.split(' ').apply(len).std()"
   ]
  },
  {
   "cell_type": "markdown",
   "id": "a12e3a72",
   "metadata": {},
   "source": [
    "### Novel N-Grams "
   ]
  },
  {
   "cell_type": "code",
   "execution_count": 40,
   "id": "89cce75e",
   "metadata": {},
   "outputs": [
    {
     "name": "stderr",
     "output_type": "stream",
     "text": [
      "100%|███████████████████████████████████████████████████████████████████████████████| 735/735 [00:01<00:00, 530.62it/s]\n"
     ]
    }
   ],
   "source": [
    "novel_ngrams = polisum.progress_apply(calc_novel_ngrams_row, axis = 1)\n",
    "novel_l = [nngrams[0] for nngrams in novel_ngrams]\n",
    "novel_r = [nngrams[1] for nngrams in novel_ngrams]\n",
    "\n",
    "novel_l_dict = {1: 0, 2: 0, 3: 0, 4: 0}\n",
    "novel_r_dict = {1: 0, 2: 0, 3: 0, 4: 0}\n",
    "\n",
    "for nov_list in novel_l:\n",
    "    for i, nov_cnt in enumerate(nov_list):\n",
    "        novel_l_dict[i+1] += nov_cnt\n",
    "for nov_list in novel_r:\n",
    "    for i, nov_cnt in enumerate(nov_list):\n",
    "        novel_r_dict[i+1] += nov_cnt"
   ]
  },
  {
   "cell_type": "code",
   "execution_count": 41,
   "id": "9e095aac",
   "metadata": {},
   "outputs": [],
   "source": [
    "tot_ref_len_l = sum(polisum['left_sum'].str.split().apply(lambda tl: len(tl) if isinstance(tl, list) else 1))\n",
    "tot_ref_len_r = sum(polisum['right_sum'].str.split().apply(lambda tl: len(tl) if isinstance(tl, list) else 1))\n",
    "\n",
    "novel_l_dict = {key: (1. * val) / (tot_ref_len_l - (key - 1.)) for key, val in novel_l_dict.items()}\n",
    "novel_r_dict = {key: (1. * val) / (tot_ref_len_r - (key - 1.)) for key, val in novel_r_dict.items()}"
   ]
  },
  {
   "cell_type": "markdown",
   "id": "5886afa6",
   "metadata": {},
   "source": [
    "### Rouge Scores "
   ]
  },
  {
   "cell_type": "code",
   "execution_count": 42,
   "id": "9941f2dc",
   "metadata": {},
   "outputs": [
    {
     "name": "stderr",
     "output_type": "stream",
     "text": [
      "100%|████████████████████████████████████████████████████████████████████████████████| 735/735 [01:13<00:00, 10.02it/s]\n"
     ]
    }
   ],
   "source": [
    "# Maximum Rouge Scores\n",
    "all_rouge_scores = polisum.progress_apply(get_max_rouge, axis = 1)"
   ]
  },
  {
   "cell_type": "code",
   "execution_count": 43,
   "id": "d0634139",
   "metadata": {},
   "outputs": [],
   "source": [
    "left_text_scores  = [score_pair[0] for score_pair in all_rouge_scores]\n",
    "right_text_scores = [score_pair[1] for score_pair in all_rouge_scores]\n",
    "\n",
    "left_texts        = [score[0] for score in left_text_scores]\n",
    "right_texts       = [score[0] for score in right_text_scores]\n",
    "left_rscores      = reformat_rouge(left_text_scores)\n",
    "right_rscores     = reformat_rouge(right_text_scores)"
   ]
  },
  {
   "cell_type": "code",
   "execution_count": 44,
   "id": "09305076",
   "metadata": {},
   "outputs": [],
   "source": [
    "left_rscores = {rtype: {metric: sum(scores)/len(scores) for metric, scores in rouge_scores.items()} for rtype, rouge_scores in left_rscores.items()}\n",
    "right_rscores = {rtype: {metric: sum(scores)/len(scores) for metric, scores in rouge_scores.items()} for rtype, rouge_scores in right_rscores.items()}"
   ]
  },
  {
   "cell_type": "markdown",
   "id": "db29582c",
   "metadata": {},
   "source": [
    "### Self-Bleu"
   ]
  },
  {
   "cell_type": "code",
   "execution_count": 45,
   "id": "14c10952",
   "metadata": {},
   "outputs": [],
   "source": [
    "def get_self_bleus(preds1, preds2):\n",
    "    self_bleus = []\n",
    "    for pred1, pred2 in zip(preds1, preds2):\n",
    "        bleu = bleu_score.sentence_bleu(pred1, pred2, weights = (1.0,))\n",
    "        self_bleus.append(bleu)\n",
    "    return self_bleus"
   ]
  },
  {
   "cell_type": "code",
   "execution_count": 46,
   "id": "1da71daf",
   "metadata": {},
   "outputs": [],
   "source": [
    "self_bleus = get_self_bleus(left_texts, right_texts)\n",
    "self_bleu  = sum(self_bleus)/len(self_bleus)"
   ]
  },
  {
   "cell_type": "markdown",
   "id": "0929117e",
   "metadata": {},
   "source": [
    "### BERT-Score "
   ]
  },
  {
   "cell_type": "code",
   "execution_count": 47,
   "id": "77d39304",
   "metadata": {},
   "outputs": [],
   "source": [
    "bert_scorer = BERTScore(model_name_or_path = 'roberta-large-mnli', \n",
    "                        rescale_with_baseline = True, \n",
    "                        lang = 'en',\n",
    "                        verbose = True)"
   ]
  },
  {
   "cell_type": "code",
   "execution_count": 48,
   "id": "8aa52077",
   "metadata": {},
   "outputs": [
    {
     "name": "stderr",
     "output_type": "stream",
     "text": [
      "Some weights of the model checkpoint at roberta-large-mnli were not used when initializing RobertaModel: ['classifier.dense.weight', 'classifier.dense.bias', 'classifier.out_proj.bias', 'classifier.out_proj.weight']\n",
      "- This IS expected if you are initializing RobertaModel from the checkpoint of a model trained on another task or with another architecture (e.g. initializing a BertForSequenceClassification model from a BertForPreTraining model).\n",
      "- This IS NOT expected if you are initializing RobertaModel from the checkpoint of a model that you expect to be exactly identical (initializing a BertForSequenceClassification model from a BertForSequenceClassification model).\n"
     ]
    },
    {
     "data": {
      "application/vnd.jupyter.widget-view+json": {
       "model_id": "b610fb40248a4d5db1ff372f4047dd37",
       "version_major": 2,
       "version_minor": 0
      },
      "text/plain": [
       "  0%|          | 0/23 [00:00<?, ?it/s]"
      ]
     },
     "metadata": {},
     "output_type": "display_data"
    },
    {
     "data": {
      "application/vnd.jupyter.widget-view+json": {
       "model_id": "a4c84396f1d44a689d77ec7838da9778",
       "version_major": 2,
       "version_minor": 0
      },
      "text/plain": [
       "  0%|          | 0/23 [00:00<?, ?it/s]"
      ]
     },
     "metadata": {},
     "output_type": "display_data"
    },
    {
     "name": "stderr",
     "output_type": "stream",
     "text": [
      "Some weights of the model checkpoint at roberta-large-mnli were not used when initializing RobertaModel: ['classifier.dense.weight', 'classifier.dense.bias', 'classifier.out_proj.bias', 'classifier.out_proj.weight']\n",
      "- This IS expected if you are initializing RobertaModel from the checkpoint of a model trained on another task or with another architecture (e.g. initializing a BertForSequenceClassification model from a BertForPreTraining model).\n",
      "- This IS NOT expected if you are initializing RobertaModel from the checkpoint of a model that you expect to be exactly identical (initializing a BertForSequenceClassification model from a BertForSequenceClassification model).\n"
     ]
    },
    {
     "data": {
      "application/vnd.jupyter.widget-view+json": {
       "model_id": "1f940ea8f35f43dfaece47470228c46b",
       "version_major": 2,
       "version_minor": 0
      },
      "text/plain": [
       "  0%|          | 0/46 [00:00<?, ?it/s]"
      ]
     },
     "metadata": {},
     "output_type": "display_data"
    },
    {
     "data": {
      "application/vnd.jupyter.widget-view+json": {
       "model_id": "692c77e1cb5140cd946f8f340583ccad",
       "version_major": 2,
       "version_minor": 0
      },
      "text/plain": [
       "  0%|          | 0/46 [00:00<?, ?it/s]"
      ]
     },
     "metadata": {},
     "output_type": "display_data"
    }
   ],
   "source": [
    "l_bscores = bert_scorer(left_texts, polisum['left_sum'].astype(str).tolist())\n",
    "r_bscores = bert_scorer(right_texts, polisum['right_sum'].astype(str).tolist())"
   ]
  },
  {
   "cell_type": "code",
   "execution_count": 49,
   "id": "d9df5a58",
   "metadata": {},
   "outputs": [],
   "source": [
    "l_bscore = sum(l_bscores['f1'])/len(l_bscores['f1'])\n",
    "r_bscore = sum(r_bscores['f1'])/len(r_bscores['f1'])"
   ]
  },
  {
   "cell_type": "markdown",
   "id": "ba4c85a7",
   "metadata": {},
   "source": [
    "## Statistics Summary "
   ]
  },
  {
   "cell_type": "code",
   "execution_count": 50,
   "id": "9e88c279",
   "metadata": {},
   "outputs": [
    {
     "name": "stdout",
     "output_type": "stream",
     "text": [
      "---Polisum Statistics---\n",
      "Avg. Num Twitter:    63.44\n",
      "Avg. Num Reddit:     14.89\n",
      "Avg. Num Comb:       78.33 (20.31)\n",
      "Avg. Len Left:       17.09 (5.92)\n",
      "Avg. Len Right:      16.93 (5.96)\n",
      "Novel Left N-grams:  1-48.03 2-87.75 3-87.47 4-82.14\n",
      "Novel Right N-grams: 1-47.17 2-87.56 3-87.33 4-82.07\n",
      "--------------------------------------\n",
      "                     Left   |  Right\n",
      "                     -------+-------\n",
      "Rouge-1:             22.45  |  22.25\n",
      "Rouge-2:              8.77  |   8.67\n",
      "Rouge-L:             19.06  |  19.11\n",
      "BERT-Score:          13.51  |  15.51\n",
      "Self-BLEU:                26.59\n"
     ]
    }
   ],
   "source": [
    "print('---Polisum Statistics---')\n",
    "print(f'Avg. Num Twitter:    {avg_num_twitter:.2f}')\n",
    "print(f'Avg. Num Reddit:     {avg_num_reddit:.2f}')\n",
    "print(f'Avg. Num Comb:       {avg_num_comb:.2f} ({std_num_comb:.2f})')\n",
    "print(f'Avg. Len Left:       {avg_len_left:.2f} ({std_len_left:.2f})')\n",
    "print(f'Avg. Len Right:      {avg_len_right:.2f} ({std_len_right:.2f})')\n",
    "print(f'Novel Left N-grams:  {\" \".join([str(n) + \"-\" + str(perc * 100.)[:5] for n, perc in novel_l_dict.items()])}')\n",
    "print(f'Novel Right N-grams: {\" \".join([str(n) + \"-\" + str(perc * 100.)[:5] for n, perc in novel_r_dict.items()])}')\n",
    "print('--------------------------------------')\n",
    "print(f'                     Left   |  Right')\n",
    "print(f'                     -------+-------')\n",
    "print(f'Rouge-1:             {left_rscores[\"rouge1\"][\"f1\"]*100.:5.2f}  |  {right_rscores[\"rouge1\"][\"f1\"]*100.:5.2f}')\n",
    "print(f'Rouge-2:             {left_rscores[\"rouge2\"][\"f1\"]*100.:5.2f}  |  {right_rscores[\"rouge2\"][\"f1\"]*100.:5.2f}')\n",
    "print(f'Rouge-L:             {left_rscores[\"rougeL\"][\"f1\"]*100.:5.2f}  |  {right_rscores[\"rougeL\"][\"f1\"]*100.:5.2f}')\n",
    "print(f'BERT-Score:          {l_bscore*100.:5.2f}  |  {r_bscore*100.:5.2f}')\n",
    "print(f'Self-BLEU:                {self_bleu*100.:5.2f}')"
   ]
  },
  {
   "cell_type": "markdown",
   "id": "e32249de",
   "metadata": {},
   "source": [
    "## Plots "
   ]
  },
  {
   "cell_type": "code",
   "execution_count": 51,
   "id": "3ba32ec4",
   "metadata": {},
   "outputs": [
    {
     "data": {
      "image/png": "[encoded data removed]",
      "text/plain": [
       "<Figure size 432x288 with 1 Axes>"
      ]
     },
     "metadata": {},
     "output_type": "display_data"
    }
   ],
   "source": [
    "# Plot histogram of source sentence counts\n",
    "with plt.style.context(PLOT_STYLE):\n",
    "    plt.hist(polisum['num_twitter'], alpha = 0.5, label = 'Twitter', bins = 20)\n",
    "    plt.hist(polisum['num_reddit'], alpha = 0.5, label = 'Reddit', bins = 20)\n",
    "    plt.hist(polisum['num_sm'], alpha = 0.5, label = 'Combined', bins = 20)\n",
    "\n",
    "    plt.legend()\n",
    "    plt.ylabel('Frequency')\n",
    "    plt.xlabel('# Sentences')\n",
    "    plt.savefig('../../results/source_length_histogram.png', dpi = 100)"
   ]
  },
  {
   "cell_type": "code",
   "execution_count": 52,
   "id": "81759a49",
   "metadata": {},
   "outputs": [
    {
     "data": {
      "image/png": "[encoded data removed]",
      "text/plain": [
       "<Figure size 432x288 with 1 Axes>"
      ]
     },
     "metadata": {},
     "output_type": "display_data"
    }
   ],
   "source": [
    "# Plot histogram of reference summary lengths\n",
    "with plt.style.context(PLOT_STYLE):\n",
    "    plt.hist(polisum['left_sum'].str.split(' ').apply(len), alpha = 0.5, label = 'Left', bins = 20)\n",
    "    plt.hist(polisum['right_sum'].str.split(' ').apply(len), alpha = 0.5, label = 'Right', bins = 20)\n",
    "\n",
    "    plt.legend()\n",
    "    plt.ylabel('Frequency')\n",
    "    plt.xlabel('Reference Summary Token Length')\n",
    "    plt.savefig('../../results/ref_length_histogram.png', dpi = 100)"
   ]
  }
 ],
 "metadata": {
  "kernelspec": {
   "display_name": "Python 3",
   "language": "python",
   "name": "python3"
  },
  "language_info": {
   "codemirror_mode": {
    "name": "ipython",
    "version": 3
   },
   "file_extension": ".py",
   "mimetype": "text/x-python",
   "name": "python",
   "nbconvert_exporter": "python",
   "pygments_lexer": "ipython3",
   "version": "3.7.7"
  }
 },
 "nbformat": 4,
 "nbformat_minor": 5
}
