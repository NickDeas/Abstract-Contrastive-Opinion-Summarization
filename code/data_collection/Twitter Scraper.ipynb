{
 "cells": [
  {
   "cell_type": "code",
   "execution_count": 124,
   "id": "0991cd72",
   "metadata": {},
   "outputs": [],
   "source": [
    "import pandas as pd\n",
    "import numpy as np\n",
    "\n",
    "import requests\n",
    "\n",
    "from ast import literal_eval\n",
    "\n",
    "from tqdm import tqdm\n",
    "tqdm.pandas()\n",
    "\n",
    "import time\n",
    "\n",
    "import urlexpander"
   ]
  },
  {
   "cell_type": "code",
   "execution_count": 2,
   "id": "1ed77859",
   "metadata": {},
   "outputs": [],
   "source": [
    "art_data = pd.read_csv('../../data/webpage_data/full_flipside_data.csv')"
   ]
  },
  {
   "cell_type": "code",
   "execution_count": 3,
   "id": "4959ade4",
   "metadata": {},
   "outputs": [
    {
     "data": {
      "text/html": [
       "<div>\n",
       "<style scoped>\n",
       "    .dataframe tbody tr th:only-of-type {\n",
       "        vertical-align: middle;\n",
       "    }\n",
       "\n",
       "    .dataframe tbody tr th {\n",
       "        vertical-align: top;\n",
       "    }\n",
       "\n",
       "    .dataframe thead th {\n",
       "        text-align: right;\n",
       "    }\n",
       "</style>\n",
       "<table border=\"1\" class=\"dataframe\">\n",
       "  <thead>\n",
       "    <tr style=\"text-align: right;\">\n",
       "      <th></th>\n",
       "      <th>article_url</th>\n",
       "      <th>date</th>\n",
       "      <th>title</th>\n",
       "      <th>left_sum</th>\n",
       "      <th>right_sum</th>\n",
       "      <th>linked_arts</th>\n",
       "    </tr>\n",
       "  </thead>\n",
       "  <tbody>\n",
       "    <tr>\n",
       "      <th>0</th>\n",
       "      <td>https:/theflipside.io/archives/checks-in-the-mail</td>\n",
       "      <td>March 20, 2020</td>\n",
       "      <td>Checks In The Mail</td>\n",
       "      <td>The left supports cash payments and argues tha...</td>\n",
       "      <td>The right is generally supportive of helping c...</td>\n",
       "      <td>['https://apnews.com/0373a78b0aacc49d1f6bd8901...</td>\n",
       "    </tr>\n",
       "    <tr>\n",
       "      <th>1</th>\n",
       "      <td>https:/theflipside.io/archives/eos-regarding-t...</td>\n",
       "      <td>January 26, 2021</td>\n",
       "      <td>EOs Regarding Transgender Rights</td>\n",
       "      <td>The left is supportive of both policies.</td>\n",
       "      <td>The right is critical of both policies.</td>\n",
       "      <td>['https://apnews.com/article/biden-reverse-ban...</td>\n",
       "    </tr>\n",
       "    <tr>\n",
       "      <th>2</th>\n",
       "      <td>https:/theflipside.io/archives/facebook-and-br...</td>\n",
       "      <td>April 2, 2019</td>\n",
       "      <td>Facebook and Breaking Up Big Tech</td>\n",
       "      <td>The left is skeptical of Zuckerberg’s motives,...</td>\n",
       "      <td>The right is disturbed by the free speech impl...</td>\n",
       "      <td>['https://www.washingtonpost.com/opinions/mark...</td>\n",
       "    </tr>\n",
       "    <tr>\n",
       "      <th>3</th>\n",
       "      <td>https:/theflipside.io/archives/general-electio...</td>\n",
       "      <td>October 28, 2020</td>\n",
       "      <td>General Election Update</td>\n",
       "      <td>The left is optimistic about Biden’s chances.</td>\n",
       "      <td>The right is cautiously optimistic about Trump...</td>\n",
       "      <td>['https://theflipside.us15.list-manage.com/tra...</td>\n",
       "    </tr>\n",
       "    <tr>\n",
       "      <th>4</th>\n",
       "      <td>https:/theflipside.io/archives/impeachment-hea...</td>\n",
       "      <td>November 22, 2019</td>\n",
       "      <td>Impeachment Hearings Continue</td>\n",
       "      <td>The left supports impeachment, arguing that th...</td>\n",
       "      <td>The right opposes impeachment, arguing that th...</td>\n",
       "      <td>['https://theflipside.us15.list-manage.com/tra...</td>\n",
       "    </tr>\n",
       "  </tbody>\n",
       "</table>\n",
       "</div>"
      ],
      "text/plain": [
       "                                         article_url               date  \\\n",
       "0  https:/theflipside.io/archives/checks-in-the-mail     March 20, 2020   \n",
       "1  https:/theflipside.io/archives/eos-regarding-t...   January 26, 2021   \n",
       "2  https:/theflipside.io/archives/facebook-and-br...      April 2, 2019   \n",
       "3  https:/theflipside.io/archives/general-electio...   October 28, 2020   \n",
       "4  https:/theflipside.io/archives/impeachment-hea...  November 22, 2019   \n",
       "\n",
       "                                title  \\\n",
       "0                  Checks In The Mail   \n",
       "1    EOs Regarding Transgender Rights   \n",
       "2   Facebook and Breaking Up Big Tech   \n",
       "3             General Election Update   \n",
       "4       Impeachment Hearings Continue   \n",
       "\n",
       "                                            left_sum  \\\n",
       "0  The left supports cash payments and argues tha...   \n",
       "1           The left is supportive of both policies.   \n",
       "2  The left is skeptical of Zuckerberg’s motives,...   \n",
       "3      The left is optimistic about Biden’s chances.   \n",
       "4  The left supports impeachment, arguing that th...   \n",
       "\n",
       "                                           right_sum  \\\n",
       "0  The right is generally supportive of helping c...   \n",
       "1            The right is critical of both policies.   \n",
       "2  The right is disturbed by the free speech impl...   \n",
       "3  The right is cautiously optimistic about Trump...   \n",
       "4  The right opposes impeachment, arguing that th...   \n",
       "\n",
       "                                         linked_arts  \n",
       "0  ['https://apnews.com/0373a78b0aacc49d1f6bd8901...  \n",
       "1  ['https://apnews.com/article/biden-reverse-ban...  \n",
       "2  ['https://www.washingtonpost.com/opinions/mark...  \n",
       "3  ['https://theflipside.us15.list-manage.com/tra...  \n",
       "4  ['https://theflipside.us15.list-manage.com/tra...  "
      ]
     },
     "execution_count": 3,
     "metadata": {},
     "output_type": "execute_result"
    }
   ],
   "source": [
    "art_data.head()"
   ]
  },
  {
   "cell_type": "code",
   "execution_count": 4,
   "id": "e9a58a33",
   "metadata": {},
   "outputs": [],
   "source": [
    "art_data['linked_arts'] = art_data['linked_arts'].str.replace('\\n', ',')"
   ]
  },
  {
   "cell_type": "code",
   "execution_count": 5,
   "id": "c887f3db",
   "metadata": {},
   "outputs": [],
   "source": [
    "art_data['news_list'] = art_data['linked_arts'].apply(literal_eval)"
   ]
  },
  {
   "cell_type": "code",
   "execution_count": 6,
   "id": "0bcd9648",
   "metadata": {},
   "outputs": [],
   "source": [
    "art_data['num_news'] = art_data['news_list'].apply(len)"
   ]
  },
  {
   "cell_type": "markdown",
   "id": "54cc125a",
   "metadata": {},
   "source": [
    "# Shortening Num URLS "
   ]
  },
  {
   "cell_type": "code",
   "execution_count": 7,
   "id": "8221ca81",
   "metadata": {},
   "outputs": [
    {
     "name": "stderr",
     "output_type": "stream",
     "text": [
      "100%|████████████████████████████████████████████████████████████████████████████| 982/982 [00:00<00:00, 196058.96it/s]\n"
     ]
    }
   ],
   "source": [
    "art_data['first_news_list'] = art_data['news_list'].progress_apply(lambda l: l[:5])"
   ]
  },
  {
   "cell_type": "code",
   "execution_count": 8,
   "id": "4886fd8e",
   "metadata": {},
   "outputs": [],
   "source": [
    "art_data.to_csv('./temp_art_data.csv', index = None)"
   ]
  },
  {
   "cell_type": "markdown",
   "id": "d32c1f34",
   "metadata": {},
   "source": [
    "# Getting Real URLS "
   ]
  },
  {
   "cell_type": "code",
   "execution_count": 9,
   "id": "38e07e9c",
   "metadata": {},
   "outputs": [],
   "source": [
    "def get_real_url(url):\n",
    "    try:\n",
    "        resp = requests.get(url, allow_redirects = True)\n",
    "    except ConnectionError as e:\n",
    "        continue\n",
    "    \n",
    "    try:\n",
    "        return resp.url\n",
    "    except:\n",
    "        return 'no_source'\n",
    "    \n",
    "def get_real_url_list(news_list):\n",
    "    news_list_real = []\n",
    "    for news in news_list:\n",
    "        if 'theflipside' in news:\n",
    "            news_list_real.append(get_real_url(news))\n",
    "        else:\n",
    "            news_list_real.append(news)\n",
    "    \n",
    "    return news_list_real"
   ]
  },
  {
   "cell_type": "code",
   "execution_count": 10,
   "id": "6cf398ab",
   "metadata": {},
   "outputs": [],
   "source": [
    "all_news = [news for newslist in art_data['first_news_list'].values for news in newslist]\n",
    "fs_news = [news for news in all_news if 'theflipside' in news]"
   ]
  },
  {
   "cell_type": "code",
   "execution_count": 11,
   "id": "0ff9af70",
   "metadata": {},
   "outputs": [],
   "source": [
    "url_map = {}"
   ]
  },
  {
   "cell_type": "code",
   "execution_count": 12,
   "id": "15b43bc5",
   "metadata": {},
   "outputs": [],
   "source": [
    "start = 0"
   ]
  },
  {
   "cell_type": "code",
   "execution_count": 31,
   "id": "0962d349",
   "metadata": {},
   "outputs": [
    {
     "name": "stdout",
     "output_type": "stream",
     "text": [
      "Finished 287 of 288\r"
     ]
    }
   ],
   "source": [
    "for i, fs_url in enumerate(fs_news[start:]):\n",
    "    rurl = get_real_url(fs_url)\n",
    "    url_map[fs_url] = rurl\n",
    "    time.sleep(0.15)\n",
    "    start += 1\n",
    "    print(f'Finished {i + 1} of {len(fs_news) - 903}', end = '\\r')"
   ]
  },
  {
   "cell_type": "code",
   "execution_count": 27,
   "id": "94a2321f",
   "metadata": {},
   "outputs": [
    {
     "data": {
      "text/plain": [
       "'https://theflipside.us15.list-manage.com/track/click?u=281c839c990f42b374467ae5f&id=bf72f389fa&e=6f16cb1c23'"
      ]
     },
     "execution_count": 27,
     "metadata": {},
     "output_type": "execute_result"
    }
   ],
   "source": [
    "fs_news[start]"
   ]
  },
  {
   "cell_type": "code",
   "execution_count": 28,
   "id": "b3726bd4",
   "metadata": {},
   "outputs": [],
   "source": [
    "url_map[fs_news[start]] = 'www.wisconsingrassroots.net/wisconsin_election_officials_field_guide'"
   ]
  },
  {
   "cell_type": "code",
   "execution_count": 32,
   "id": "9096efbd",
   "metadata": {},
   "outputs": [
    {
     "data": {
      "text/plain": [
       "1191"
      ]
     },
     "execution_count": 32,
     "metadata": {},
     "output_type": "execute_result"
    }
   ],
   "source": [
    "start"
   ]
  },
  {
   "cell_type": "code",
   "execution_count": 30,
   "id": "5b436c7a",
   "metadata": {},
   "outputs": [],
   "source": [
    "start += 1"
   ]
  },
  {
   "cell_type": "code",
   "execution_count": 33,
   "id": "1fe734d9",
   "metadata": {},
   "outputs": [
    {
     "data": {
      "text/plain": [
       "1170"
      ]
     },
     "execution_count": 33,
     "metadata": {},
     "output_type": "execute_result"
    }
   ],
   "source": [
    "len(url_map)"
   ]
  },
  {
   "cell_type": "code",
   "execution_count": 35,
   "id": "396572a7",
   "metadata": {},
   "outputs": [],
   "source": [
    "with open('url_map.txt', 'w') as f:\n",
    "    f.write(str(url_map))"
   ]
  },
  {
   "cell_type": "code",
   "execution_count": 37,
   "id": "3edf089b",
   "metadata": {},
   "outputs": [],
   "source": [
    "def get_real_urls(old_urls):\n",
    "    old_urls = [url_map[url] if url in url_map.keys() else url for url in old_urls]\n",
    "    return old_urls"
   ]
  },
  {
   "cell_type": "code",
   "execution_count": 38,
   "id": "ee31b7c0",
   "metadata": {},
   "outputs": [
    {
     "name": "stderr",
     "output_type": "stream",
     "text": [
      "100%|████████████████████████████████████████████████████████████████████████████| 982/982 [00:00<00:00, 162548.11it/s]\n"
     ]
    }
   ],
   "source": [
    "art_data['first_news_real'] = art_data['first_news_list'].progress_apply(get_real_urls)"
   ]
  },
  {
   "cell_type": "code",
   "execution_count": 40,
   "id": "955a58b5",
   "metadata": {},
   "outputs": [],
   "source": [
    "art_data.to_csv('../../data/webpage_data/full_flipside_data_proc.csv', index = None)"
   ]
  },
  {
   "cell_type": "code",
   "execution_count": 159,
   "id": "d8824fad",
   "metadata": {},
   "outputs": [],
   "source": [
    "all_first_news = [news for newslist in art_data['first_news_real'].values for news in newslist]"
   ]
  },
  {
   "cell_type": "code",
   "execution_count": 160,
   "id": "5eec8fa4",
   "metadata": {},
   "outputs": [
    {
     "data": {
      "text/plain": [
       "4907"
      ]
     },
     "execution_count": 160,
     "metadata": {},
     "output_type": "execute_result"
    }
   ],
   "source": [
    "len(all_first_news)"
   ]
  },
  {
   "cell_type": "code",
   "execution_count": 161,
   "id": "ff98a473",
   "metadata": {},
   "outputs": [
    {
     "data": {
      "text/plain": [
       "'https://apnews.com/0373a78b0aacc49d1f6bd8901c8ccc67'"
      ]
     },
     "execution_count": 161,
     "metadata": {},
     "output_type": "execute_result"
    }
   ],
   "source": [
    "all_first_news[0]"
   ]
  },
  {
   "cell_type": "code",
   "execution_count": 162,
   "id": "8393b951",
   "metadata": {},
   "outputs": [],
   "source": [
    "import urllib\n",
    "#     url_query = urllib.parse.quote_plus(search_query)"
   ]
  },
  {
   "cell_type": "code",
   "execution_count": 163,
   "id": "33da7b9b",
   "metadata": {},
   "outputs": [],
   "source": [
    "TWITTER_BASE = 'https://twitter.com/search?q=%s&src=typed_query'\n",
    "\n",
    "def get_twitter_search(news_url):\n",
    "    return TWITTER_BASE % (urllib.parse.quote_plus(news_url))"
   ]
  },
  {
   "cell_type": "code",
   "execution_count": 164,
   "id": "25d18f5f",
   "metadata": {},
   "outputs": [],
   "source": [
    "first_news_tw = '\\n'.join([get_twitter_search(fnews) for fnews in all_first_news])"
   ]
  },
  {
   "cell_type": "code",
   "execution_count": 53,
   "id": "96291a86",
   "metadata": {},
   "outputs": [],
   "source": [
    "with open('../../data/twitter_data/query_urls.txt', 'w') as f:\n",
    "    f.write(first_news_tw)"
   ]
  },
  {
   "cell_type": "code",
   "execution_count": 55,
   "id": "e420e115",
   "metadata": {},
   "outputs": [
    {
     "data": {
      "text/plain": [
       "4907"
      ]
     },
     "execution_count": 55,
     "metadata": {},
     "output_type": "execute_result"
    }
   ],
   "source": [
    "len(first_news_tw.split('\\n'))"
   ]
  },
  {
   "cell_type": "code",
   "execution_count": 56,
   "id": "d5bbe990",
   "metadata": {},
   "outputs": [
    {
     "name": "stderr",
     "output_type": "stream",
     "text": [
      "C:\\Users\\ndeas\\miniconda3\\lib\\site-packages\\IPython\\core\\interactiveshell.py:3343: DtypeWarning: Columns (20,21,22,23,24,25,26,31,32,46,47,48,49,50,51,52,53,54,55,56,57,58,59,60,61,62,63,200,201,203,204,206,207,209,210) have mixed types.Specify dtype option on import or set low_memory=False.\n",
      "  exec(code_obj, self.user_global_ns, self.user_ns)\n"
     ]
    }
   ],
   "source": [
    "batch1 = pd.read_csv('../../data/twitter_data/tweets_batch1.csv')"
   ]
  },
  {
   "cell_type": "code",
   "execution_count": 70,
   "id": "eb5c7918",
   "metadata": {},
   "outputs": [],
   "source": [
    "url_cols = [f'urls/{i}/expanded_url' for i in range(10)]"
   ]
  },
  {
   "cell_type": "code",
   "execution_count": 71,
   "id": "c4c3f4bc",
   "metadata": {},
   "outputs": [
    {
     "data": {
      "text/plain": [
       "['conversation_id',\n",
       " 'created_at',\n",
       " 'favorite_count',\n",
       " 'full_text',\n",
       " 'hashtags/0',\n",
       " 'hashtags/1',\n",
       " 'hashtags/2',\n",
       " 'hashtags/3',\n",
       " 'hashtags/4',\n",
       " 'hashtags/5',\n",
       " 'hashtags/6',\n",
       " 'hashtags/7',\n",
       " 'hashtags/8',\n",
       " 'hashtags/9',\n",
       " 'hashtags/10',\n",
       " 'hashtags/11',\n",
       " 'hashtags/12',\n",
       " 'hashtags/13',\n",
       " 'hashtags/14',\n",
       " 'hashtags/15',\n",
       " 'hashtags/16',\n",
       " 'hashtags/17',\n",
       " 'hashtags/18',\n",
       " 'hashtags/19',\n",
       " 'hashtags/20',\n",
       " 'hashtags/21',\n",
       " 'hashtags/22',\n",
       " 'id',\n",
       " 'reply_count',\n",
       " 'retweet_count',\n",
       " 'symbols/0',\n",
       " 'symbols/1',\n",
       " 'symbols/2',\n",
       " 'url',\n",
       " 'urls/0/display_url',\n",
       " 'urls/0/expanded_url',\n",
       " 'urls/0/url',\n",
       " 'urls/1/display_url',\n",
       " 'urls/1/expanded_url',\n",
       " 'urls/1/url',\n",
       " 'urls/2/display_url',\n",
       " 'urls/2/expanded_url',\n",
       " 'urls/2/url',\n",
       " 'urls/3/display_url',\n",
       " 'urls/3/expanded_url',\n",
       " 'urls/3/url',\n",
       " 'urls/4/display_url',\n",
       " 'urls/4/expanded_url',\n",
       " 'urls/4/url',\n",
       " 'urls/5/display_url',\n",
       " 'urls/5/expanded_url',\n",
       " 'urls/5/url',\n",
       " 'urls/6/display_url',\n",
       " 'urls/6/expanded_url',\n",
       " 'urls/6/url',\n",
       " 'urls/7/display_url',\n",
       " 'urls/7/expanded_url',\n",
       " 'urls/7/url',\n",
       " 'urls/8/display_url',\n",
       " 'urls/8/expanded_url',\n",
       " 'urls/8/url',\n",
       " 'urls/9/display_url',\n",
       " 'urls/9/expanded_url',\n",
       " 'urls/9/url',\n",
       " 'user_mentions/0/id_str',\n",
       " 'user_mentions/0/name',\n",
       " 'user_mentions/0/screen_name',\n",
       " 'user_mentions/1/id_str',\n",
       " 'user_mentions/1/name',\n",
       " 'user_mentions/1/screen_name',\n",
       " 'user_mentions/2/id_str',\n",
       " 'user_mentions/2/name',\n",
       " 'user_mentions/2/screen_name',\n",
       " 'user_mentions/3/id_str',\n",
       " 'user_mentions/3/name',\n",
       " 'user_mentions/3/screen_name',\n",
       " 'user_mentions/4/id_str',\n",
       " 'user_mentions/4/name',\n",
       " 'user_mentions/4/screen_name',\n",
       " 'user_mentions/5/id_str',\n",
       " 'user_mentions/5/name',\n",
       " 'user_mentions/5/screen_name',\n",
       " 'user_mentions/6/id_str',\n",
       " 'user_mentions/6/name',\n",
       " 'user_mentions/6/screen_name',\n",
       " 'user_mentions/7/id_str',\n",
       " 'user_mentions/7/name',\n",
       " 'user_mentions/7/screen_name',\n",
       " 'user_mentions/8/id_str',\n",
       " 'user_mentions/8/name',\n",
       " 'user_mentions/8/screen_name',\n",
       " 'user_mentions/9/id_str',\n",
       " 'user_mentions/9/name',\n",
       " 'user_mentions/9/screen_name',\n",
       " 'user_mentions/10/id_str',\n",
       " 'user_mentions/10/name',\n",
       " 'user_mentions/10/screen_name',\n",
       " 'user_mentions/11/id_str',\n",
       " 'user_mentions/11/name',\n",
       " 'user_mentions/11/screen_name',\n",
       " 'user_mentions/12/id_str',\n",
       " 'user_mentions/12/name',\n",
       " 'user_mentions/12/screen_name',\n",
       " 'user_mentions/13/id_str',\n",
       " 'user_mentions/13/name',\n",
       " 'user_mentions/13/screen_name',\n",
       " 'user_mentions/14/id_str',\n",
       " 'user_mentions/14/name',\n",
       " 'user_mentions/14/screen_name',\n",
       " 'user_mentions/15/id_str',\n",
       " 'user_mentions/15/name',\n",
       " 'user_mentions/15/screen_name',\n",
       " 'user_mentions/16/id_str',\n",
       " 'user_mentions/16/name',\n",
       " 'user_mentions/16/screen_name',\n",
       " 'user_mentions/17/id_str',\n",
       " 'user_mentions/17/name',\n",
       " 'user_mentions/17/screen_name',\n",
       " 'user_mentions/18/id_str',\n",
       " 'user_mentions/18/name',\n",
       " 'user_mentions/18/screen_name',\n",
       " 'user_mentions/19/id_str',\n",
       " 'user_mentions/19/name',\n",
       " 'user_mentions/19/screen_name',\n",
       " 'user_mentions/20/id_str',\n",
       " 'user_mentions/20/name',\n",
       " 'user_mentions/20/screen_name',\n",
       " 'user_mentions/21/id_str',\n",
       " 'user_mentions/21/name',\n",
       " 'user_mentions/21/screen_name',\n",
       " 'user_mentions/22/id_str',\n",
       " 'user_mentions/22/name',\n",
       " 'user_mentions/22/screen_name',\n",
       " 'user_mentions/23/id_str',\n",
       " 'user_mentions/23/name',\n",
       " 'user_mentions/23/screen_name',\n",
       " 'user_mentions/24/id_str',\n",
       " 'user_mentions/24/name',\n",
       " 'user_mentions/24/screen_name',\n",
       " 'user_mentions/25/id_str',\n",
       " 'user_mentions/25/name',\n",
       " 'user_mentions/25/screen_name',\n",
       " 'user_mentions/26/id_str',\n",
       " 'user_mentions/26/name',\n",
       " 'user_mentions/26/screen_name',\n",
       " 'user_mentions/27/id_str',\n",
       " 'user_mentions/27/name',\n",
       " 'user_mentions/27/screen_name',\n",
       " 'user_mentions/28/id_str',\n",
       " 'user_mentions/28/name',\n",
       " 'user_mentions/28/screen_name',\n",
       " 'user_mentions/29/id_str',\n",
       " 'user_mentions/29/name',\n",
       " 'user_mentions/29/screen_name',\n",
       " 'user_mentions/30/id_str',\n",
       " 'user_mentions/30/name',\n",
       " 'user_mentions/30/screen_name',\n",
       " 'user_mentions/31/id_str',\n",
       " 'user_mentions/31/name',\n",
       " 'user_mentions/31/screen_name',\n",
       " 'user_mentions/32/id_str',\n",
       " 'user_mentions/32/name',\n",
       " 'user_mentions/32/screen_name',\n",
       " 'user_mentions/33/id_str',\n",
       " 'user_mentions/33/name',\n",
       " 'user_mentions/33/screen_name',\n",
       " 'user_mentions/34/id_str',\n",
       " 'user_mentions/34/name',\n",
       " 'user_mentions/34/screen_name',\n",
       " 'user_mentions/35/id_str',\n",
       " 'user_mentions/35/name',\n",
       " 'user_mentions/35/screen_name',\n",
       " 'user_mentions/36/id_str',\n",
       " 'user_mentions/36/name',\n",
       " 'user_mentions/36/screen_name',\n",
       " 'user_mentions/37/id_str',\n",
       " 'user_mentions/37/name',\n",
       " 'user_mentions/37/screen_name',\n",
       " 'user_mentions/38/id_str',\n",
       " 'user_mentions/38/name',\n",
       " 'user_mentions/38/screen_name',\n",
       " 'user_mentions/39/id_str',\n",
       " 'user_mentions/39/name',\n",
       " 'user_mentions/39/screen_name',\n",
       " 'user_mentions/40/id_str',\n",
       " 'user_mentions/40/name',\n",
       " 'user_mentions/40/screen_name',\n",
       " 'user_mentions/41/id_str',\n",
       " 'user_mentions/41/name',\n",
       " 'user_mentions/41/screen_name',\n",
       " 'user_mentions/42/id_str',\n",
       " 'user_mentions/42/name',\n",
       " 'user_mentions/42/screen_name',\n",
       " 'user_mentions/43/id_str',\n",
       " 'user_mentions/43/name',\n",
       " 'user_mentions/43/screen_name',\n",
       " 'user_mentions/44/id_str',\n",
       " 'user_mentions/44/name',\n",
       " 'user_mentions/44/screen_name',\n",
       " 'user_mentions/45/id_str',\n",
       " 'user_mentions/45/name',\n",
       " 'user_mentions/45/screen_name',\n",
       " 'user_mentions/46/id_str',\n",
       " 'user_mentions/46/name',\n",
       " 'user_mentions/46/screen_name',\n",
       " 'user_mentions/47/id_str',\n",
       " 'user_mentions/47/name',\n",
       " 'user_mentions/47/screen_name',\n",
       " 'user_mentions/48/id_str',\n",
       " 'user_mentions/48/name',\n",
       " 'user_mentions/48/screen_name']"
      ]
     },
     "execution_count": 71,
     "metadata": {},
     "output_type": "execute_result"
    }
   ],
   "source": [
    "list(batch1.columns)"
   ]
  },
  {
   "cell_type": "code",
   "execution_count": 72,
   "id": "44fd2b2b",
   "metadata": {},
   "outputs": [
    {
     "data": {
      "text/html": [
       "<div>\n",
       "<style scoped>\n",
       "    .dataframe tbody tr th:only-of-type {\n",
       "        vertical-align: middle;\n",
       "    }\n",
       "\n",
       "    .dataframe tbody tr th {\n",
       "        vertical-align: top;\n",
       "    }\n",
       "\n",
       "    .dataframe thead th {\n",
       "        text-align: right;\n",
       "    }\n",
       "</style>\n",
       "<table border=\"1\" class=\"dataframe\">\n",
       "  <thead>\n",
       "    <tr style=\"text-align: right;\">\n",
       "      <th></th>\n",
       "      <th>urls/0/expanded_url</th>\n",
       "      <th>urls/1/expanded_url</th>\n",
       "      <th>urls/2/expanded_url</th>\n",
       "      <th>urls/3/expanded_url</th>\n",
       "      <th>urls/4/expanded_url</th>\n",
       "      <th>urls/5/expanded_url</th>\n",
       "      <th>urls/6/expanded_url</th>\n",
       "      <th>urls/7/expanded_url</th>\n",
       "      <th>urls/8/expanded_url</th>\n",
       "      <th>urls/9/expanded_url</th>\n",
       "    </tr>\n",
       "  </thead>\n",
       "  <tbody>\n",
       "    <tr>\n",
       "      <th>0</th>\n",
       "      <td>https://apnews.com/0373a78b0aacc49d1f6bd8901c8...</td>\n",
       "      <td>NaN</td>\n",
       "      <td>NaN</td>\n",
       "      <td>NaN</td>\n",
       "      <td>NaN</td>\n",
       "      <td>NaN</td>\n",
       "      <td>NaN</td>\n",
       "      <td>NaN</td>\n",
       "      <td>NaN</td>\n",
       "      <td>NaN</td>\n",
       "    </tr>\n",
       "    <tr>\n",
       "      <th>1</th>\n",
       "      <td>https://apnews.com/0373a78b0aacc49d1f6bd8901c8...</td>\n",
       "      <td>NaN</td>\n",
       "      <td>NaN</td>\n",
       "      <td>NaN</td>\n",
       "      <td>NaN</td>\n",
       "      <td>NaN</td>\n",
       "      <td>NaN</td>\n",
       "      <td>NaN</td>\n",
       "      <td>NaN</td>\n",
       "      <td>NaN</td>\n",
       "    </tr>\n",
       "    <tr>\n",
       "      <th>2</th>\n",
       "      <td>https://apnews.com/0373a78b0aacc49d1f6bd8901c8...</td>\n",
       "      <td>NaN</td>\n",
       "      <td>NaN</td>\n",
       "      <td>NaN</td>\n",
       "      <td>NaN</td>\n",
       "      <td>NaN</td>\n",
       "      <td>NaN</td>\n",
       "      <td>NaN</td>\n",
       "      <td>NaN</td>\n",
       "      <td>NaN</td>\n",
       "    </tr>\n",
       "    <tr>\n",
       "      <th>3</th>\n",
       "      <td>https://apnews.com/0373a78b0aacc49d1f6bd8901c8...</td>\n",
       "      <td>NaN</td>\n",
       "      <td>NaN</td>\n",
       "      <td>NaN</td>\n",
       "      <td>NaN</td>\n",
       "      <td>NaN</td>\n",
       "      <td>NaN</td>\n",
       "      <td>NaN</td>\n",
       "      <td>NaN</td>\n",
       "      <td>NaN</td>\n",
       "    </tr>\n",
       "    <tr>\n",
       "      <th>4</th>\n",
       "      <td>https://apnews.com/0373a78b0aacc49d1f6bd8901c8...</td>\n",
       "      <td>NaN</td>\n",
       "      <td>NaN</td>\n",
       "      <td>NaN</td>\n",
       "      <td>NaN</td>\n",
       "      <td>NaN</td>\n",
       "      <td>NaN</td>\n",
       "      <td>NaN</td>\n",
       "      <td>NaN</td>\n",
       "      <td>NaN</td>\n",
       "    </tr>\n",
       "    <tr>\n",
       "      <th>...</th>\n",
       "      <td>...</td>\n",
       "      <td>...</td>\n",
       "      <td>...</td>\n",
       "      <td>...</td>\n",
       "      <td>...</td>\n",
       "      <td>...</td>\n",
       "      <td>...</td>\n",
       "      <td>...</td>\n",
       "      <td>...</td>\n",
       "      <td>...</td>\n",
       "    </tr>\n",
       "    <tr>\n",
       "      <th>14497</th>\n",
       "      <td>https://www.cnbc.com/2021/10/27/how-the-democr...</td>\n",
       "      <td>NaN</td>\n",
       "      <td>NaN</td>\n",
       "      <td>NaN</td>\n",
       "      <td>NaN</td>\n",
       "      <td>NaN</td>\n",
       "      <td>NaN</td>\n",
       "      <td>NaN</td>\n",
       "      <td>NaN</td>\n",
       "      <td>NaN</td>\n",
       "    </tr>\n",
       "    <tr>\n",
       "      <th>14498</th>\n",
       "      <td>https://cnb.cx/3pY75VF</td>\n",
       "      <td>NaN</td>\n",
       "      <td>NaN</td>\n",
       "      <td>NaN</td>\n",
       "      <td>NaN</td>\n",
       "      <td>NaN</td>\n",
       "      <td>NaN</td>\n",
       "      <td>NaN</td>\n",
       "      <td>NaN</td>\n",
       "      <td>NaN</td>\n",
       "    </tr>\n",
       "    <tr>\n",
       "      <th>14499</th>\n",
       "      <td>http://dlvr.it/SBQ8qJ</td>\n",
       "      <td>NaN</td>\n",
       "      <td>NaN</td>\n",
       "      <td>NaN</td>\n",
       "      <td>NaN</td>\n",
       "      <td>NaN</td>\n",
       "      <td>NaN</td>\n",
       "      <td>NaN</td>\n",
       "      <td>NaN</td>\n",
       "      <td>NaN</td>\n",
       "    </tr>\n",
       "    <tr>\n",
       "      <th>14500</th>\n",
       "      <td>https://www.cnbc.com/2021/10/27/how-the-democr...</td>\n",
       "      <td>NaN</td>\n",
       "      <td>NaN</td>\n",
       "      <td>NaN</td>\n",
       "      <td>NaN</td>\n",
       "      <td>NaN</td>\n",
       "      <td>NaN</td>\n",
       "      <td>NaN</td>\n",
       "      <td>NaN</td>\n",
       "      <td>NaN</td>\n",
       "    </tr>\n",
       "    <tr>\n",
       "      <th>14501</th>\n",
       "      <td>http://dlvr.it/SBQ9yk</td>\n",
       "      <td>NaN</td>\n",
       "      <td>NaN</td>\n",
       "      <td>NaN</td>\n",
       "      <td>NaN</td>\n",
       "      <td>NaN</td>\n",
       "      <td>NaN</td>\n",
       "      <td>NaN</td>\n",
       "      <td>NaN</td>\n",
       "      <td>NaN</td>\n",
       "    </tr>\n",
       "  </tbody>\n",
       "</table>\n",
       "<p>14502 rows × 10 columns</p>\n",
       "</div>"
      ],
      "text/plain": [
       "                                     urls/0/expanded_url urls/1/expanded_url  \\\n",
       "0      https://apnews.com/0373a78b0aacc49d1f6bd8901c8...                 NaN   \n",
       "1      https://apnews.com/0373a78b0aacc49d1f6bd8901c8...                 NaN   \n",
       "2      https://apnews.com/0373a78b0aacc49d1f6bd8901c8...                 NaN   \n",
       "3      https://apnews.com/0373a78b0aacc49d1f6bd8901c8...                 NaN   \n",
       "4      https://apnews.com/0373a78b0aacc49d1f6bd8901c8...                 NaN   \n",
       "...                                                  ...                 ...   \n",
       "14497  https://www.cnbc.com/2021/10/27/how-the-democr...                 NaN   \n",
       "14498                             https://cnb.cx/3pY75VF                 NaN   \n",
       "14499                              http://dlvr.it/SBQ8qJ                 NaN   \n",
       "14500  https://www.cnbc.com/2021/10/27/how-the-democr...                 NaN   \n",
       "14501                              http://dlvr.it/SBQ9yk                 NaN   \n",
       "\n",
       "      urls/2/expanded_url urls/3/expanded_url urls/4/expanded_url  \\\n",
       "0                     NaN                 NaN                 NaN   \n",
       "1                     NaN                 NaN                 NaN   \n",
       "2                     NaN                 NaN                 NaN   \n",
       "3                     NaN                 NaN                 NaN   \n",
       "4                     NaN                 NaN                 NaN   \n",
       "...                   ...                 ...                 ...   \n",
       "14497                 NaN                 NaN                 NaN   \n",
       "14498                 NaN                 NaN                 NaN   \n",
       "14499                 NaN                 NaN                 NaN   \n",
       "14500                 NaN                 NaN                 NaN   \n",
       "14501                 NaN                 NaN                 NaN   \n",
       "\n",
       "      urls/5/expanded_url urls/6/expanded_url urls/7/expanded_url  \\\n",
       "0                     NaN                 NaN                 NaN   \n",
       "1                     NaN                 NaN                 NaN   \n",
       "2                     NaN                 NaN                 NaN   \n",
       "3                     NaN                 NaN                 NaN   \n",
       "4                     NaN                 NaN                 NaN   \n",
       "...                   ...                 ...                 ...   \n",
       "14497                 NaN                 NaN                 NaN   \n",
       "14498                 NaN                 NaN                 NaN   \n",
       "14499                 NaN                 NaN                 NaN   \n",
       "14500                 NaN                 NaN                 NaN   \n",
       "14501                 NaN                 NaN                 NaN   \n",
       "\n",
       "      urls/8/expanded_url urls/9/expanded_url  \n",
       "0                     NaN                 NaN  \n",
       "1                     NaN                 NaN  \n",
       "2                     NaN                 NaN  \n",
       "3                     NaN                 NaN  \n",
       "4                     NaN                 NaN  \n",
       "...                   ...                 ...  \n",
       "14497                 NaN                 NaN  \n",
       "14498                 NaN                 NaN  \n",
       "14499                 NaN                 NaN  \n",
       "14500                 NaN                 NaN  \n",
       "14501                 NaN                 NaN  \n",
       "\n",
       "[14502 rows x 10 columns]"
      ]
     },
     "execution_count": 72,
     "metadata": {},
     "output_type": "execute_result"
    }
   ],
   "source": [
    "batch1[url_cols]"
   ]
  },
  {
   "cell_type": "code",
   "execution_count": 129,
   "id": "8b80af0f",
   "metadata": {},
   "outputs": [],
   "source": [
    "tweet_urls = np.hstack(batch1[url_cols].values)"
   ]
  },
  {
   "cell_type": "code",
   "execution_count": 139,
   "id": "9d8e57fe",
   "metadata": {},
   "outputs": [],
   "source": [
    "tweet_urls = tweet_urls[tweet_urls == tweet_urls]"
   ]
  },
  {
   "cell_type": "code",
   "execution_count": 140,
   "id": "e19176d8",
   "metadata": {},
   "outputs": [],
   "source": [
    "resolved = urlexpander.expand(tweet_urls,\n",
    "                            chunksize = 1280,\n",
    "                            n_workers = 20,\n",
    "                            cache_file = 'tmp.json')"
   ]
  },
  {
   "cell_type": "code",
   "execution_count": 145,
   "id": "5f31cb5e",
   "metadata": {},
   "outputs": [],
   "source": [
    "resolved = urlexpander.expand(tweet_urls,\n",
    "#                              chunksize = 1280,\n",
    "                            n_workers = 20,\n",
    "                            cache_file = 'tmp.json')"
   ]
  },
  {
   "cell_type": "code",
   "execution_count": 148,
   "id": "090e2fba",
   "metadata": {},
   "outputs": [],
   "source": [
    "res_map = {key: val for key, val in zip(tweet_urls, resolved)}"
   ]
  },
  {
   "cell_type": "code",
   "execution_count": 149,
   "id": "f223e770",
   "metadata": {},
   "outputs": [],
   "source": [
    "def get_real_url(row):\n",
    "    urls = row[url_cols]\n",
    "    urls = urls.dropna()\n",
    "    urls = [res_map[url] if url in res_map.keys() else url for url in urls.values]\n",
    "    urls = [url[:url.find('?')] if '?' in url else url for url in urls]\n",
    "    urls = [url for url in urls if url in all_first_news]\n",
    "    if len(urls) > 0:\n",
    "        return urls[0]\n",
    "    return None"
   ]
  },
  {
   "cell_type": "code",
   "execution_count": 150,
   "id": "b9f237ad",
   "metadata": {},
   "outputs": [
    {
     "name": "stderr",
     "output_type": "stream",
     "text": [
      "100%|██████████████████████████████████████████████████████████████████████████| 14502/14502 [00:07<00:00, 2060.97it/s]\n"
     ]
    }
   ],
   "source": [
    "batch1_res = batch1.progress_apply(get_real_url, axis = 1)"
   ]
  },
  {
   "cell_type": "code",
   "execution_count": 152,
   "id": "c41b0a0e",
   "metadata": {},
   "outputs": [],
   "source": [
    "batch1['resolved_url'] = batch1_res"
   ]
  },
  {
   "cell_type": "code",
   "execution_count": 166,
   "id": "66310e4a",
   "metadata": {},
   "outputs": [],
   "source": [
    "all_resolved = [news for news in batch1['resolved_url'].values]"
   ]
  },
  {
   "cell_type": "code",
   "execution_count": 168,
   "id": "18f7ac51",
   "metadata": {},
   "outputs": [],
   "source": [
    "miss_queries = set(all_first_news).difference(set(all_resolved))"
   ]
  },
  {
   "cell_type": "code",
   "execution_count": 170,
   "id": "07f49207",
   "metadata": {},
   "outputs": [],
   "source": [
    "TWITTER_BASE = 'https://twitter.com/search?q=%s&src=typed_query'\n",
    "\n",
    "def get_twitter_search(news_url):\n",
    "    return TWITTER_BASE % (urllib.parse.quote_plus(news_url))"
   ]
  },
  {
   "cell_type": "code",
   "execution_count": 171,
   "id": "eabe054c",
   "metadata": {},
   "outputs": [],
   "source": [
    "first_news_tw2 = '\\n'.join([get_twitter_search(fnews) for fnews in miss_queries])"
   ]
  },
  {
   "cell_type": "code",
   "execution_count": 175,
   "id": "3ebe837b",
   "metadata": {},
   "outputs": [],
   "source": [
    "with open('../../data/twitter_data/query_urls2.txt', 'w') as f:\n",
    "    f.write(first_news_tw2)"
   ]
  },
  {
   "cell_type": "code",
   "execution_count": 176,
   "id": "030f911e",
   "metadata": {},
   "outputs": [
    {
     "data": {
      "text/plain": [
       "4592"
      ]
     },
     "execution_count": 176,
     "metadata": {},
     "output_type": "execute_result"
    }
   ],
   "source": [
    "len(first_news_tw2.split('\\n'))"
   ]
  },
  {
   "cell_type": "code",
   "execution_count": null,
   "id": "d975181d",
   "metadata": {},
   "outputs": [],
   "source": []
  }
 ],
 "metadata": {
  "kernelspec": {
   "display_name": "Python 3",
   "language": "python",
   "name": "python3"
  },
  "language_info": {
   "codemirror_mode": {
    "name": "ipython",
    "version": 3
   },
   "file_extension": ".py",
   "mimetype": "text/x-python",
   "name": "python",
   "nbconvert_exporter": "python",
   "pygments_lexer": "ipython3",
   "version": "3.7.7"
  }
 },
 "nbformat": 4,
 "nbformat_minor": 5
}
