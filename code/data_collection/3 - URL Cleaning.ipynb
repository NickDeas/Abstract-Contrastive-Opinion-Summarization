{
 "cells": [
  {
   "cell_type": "markdown",
   "id": "b9ae80c6",
   "metadata": {},
   "source": [
    "# Imports "
   ]
  },
  {
   "cell_type": "code",
   "execution_count": 44,
   "id": "e59fd29d",
   "metadata": {},
   "outputs": [],
   "source": [
    "import pandas as pd\n",
    "\n",
    "import urlexpander\n",
    "\n",
    "from ast import literal_eval\n",
    "\n",
    "import json\n",
    "\n",
    "from tqdm import tqdm\n",
    "tqdm.pandas()\n",
    "\n",
    "from typing import List, Tuple, Union, Optional"
   ]
  },
  {
   "cell_type": "markdown",
   "id": "15525a55",
   "metadata": {},
   "source": [
    "# Settings and Configuration "
   ]
  },
  {
   "cell_type": "code",
   "execution_count": 69,
   "id": "1a3f57d7",
   "metadata": {},
   "outputs": [],
   "source": [
    "SRC_DATA = '../../data/webpage_data/full_flipside_data.csv'\n",
    "DATA_OUT = '../../data/webpage_data/full_flipside_data_clean.csv'\n",
    "URL_MAP_FP = '../../data/webpage_data/url_map.json'\n",
    "\n",
    "URL_BUFF_LEN = 10 # Number of urls to include in expansion buffer (in case of resolution errors)\n",
    "MAX_URLS     = 5"
   ]
  },
  {
   "cell_type": "markdown",
   "id": "480b823f",
   "metadata": {},
   "source": [
    "# Data Loading and Cleaning"
   ]
  },
  {
   "cell_type": "code",
   "execution_count": 5,
   "id": "a5b129b3",
   "metadata": {},
   "outputs": [],
   "source": [
    "data = pd.read_csv(SRC_DATA)"
   ]
  },
  {
   "cell_type": "code",
   "execution_count": 10,
   "id": "28f3d274",
   "metadata": {},
   "outputs": [],
   "source": [
    "data['linked_arts'] = data['linked_arts'].str.replace('\\n', ', ', regex = False)\n",
    "data['linked_arts'] = data['linked_arts'].apply(literal_eval)"
   ]
  },
  {
   "cell_type": "code",
   "execution_count": 12,
   "id": "7247ed56",
   "metadata": {},
   "outputs": [],
   "source": [
    "data['top_arts'] = data['linked_arts'].apply(lambda l: l[:URL_BUFF_LEN])"
   ]
  },
  {
   "cell_type": "markdown",
   "id": "67ae9a83",
   "metadata": {},
   "source": [
    "# URL Resolution "
   ]
  },
  {
   "cell_type": "markdown",
   "id": "01c6b04b",
   "metadata": {},
   "source": [
    "Determine which urls need to be expanded and create a mapping"
   ]
  },
  {
   "cell_type": "code",
   "execution_count": 25,
   "id": "7816aea1",
   "metadata": {},
   "outputs": [],
   "source": [
    "def should_expand(url: str) -> bool:\n",
    "    '''\n",
    "        Determine whether a url needs to be expanded depending on if it is a flipside shortened url\n",
    "            or a common url shortener\n",
    "            \n",
    "        Parameters:\n",
    "            -url: str\n",
    "                Original url that may be shortened\n",
    "        \n",
    "        Return:\n",
    "            Boolean whether the url needs to be expanded if it is shortened\n",
    "    '''\n",
    "    \n",
    "    return 'theflipside.us15.list-manage.com' in url or urlexpander.is_short(url)"
   ]
  },
  {
   "cell_type": "code",
   "execution_count": 27,
   "id": "189f9abf",
   "metadata": {},
   "outputs": [],
   "source": [
    "to_res_urls = []"
   ]
  },
  {
   "cell_type": "code",
   "execution_count": 28,
   "id": "0173675c",
   "metadata": {},
   "outputs": [],
   "source": [
    "all_urls = [url for url_list in data['top_arts'].values for url in url_list]"
   ]
  },
  {
   "cell_type": "code",
   "execution_count": 29,
   "id": "82223202",
   "metadata": {},
   "outputs": [],
   "source": [
    "# Create list of urls that need to be expanded\n",
    "for url in all_urls:\n",
    "    if should_expand(url):\n",
    "        to_res_urls.append(url)"
   ]
  },
  {
   "cell_type": "code",
   "execution_count": 31,
   "id": "d7f966c1",
   "metadata": {},
   "outputs": [],
   "source": [
    "# Expand the shortened urls\n",
    "res_urls = urlexpander.expand(to_res_urls)"
   ]
  },
  {
   "cell_type": "code",
   "execution_count": 35,
   "id": "72304131",
   "metadata": {},
   "outputs": [],
   "source": [
    "# Create a dictionary mapping shortened urls to exapnded urls\n",
    "url_map = {url:res_url for url, res_url in zip(to_res_urls, res_urls)}\n",
    "\n",
    "with open(URL_MAP_FP, 'w') as f:\n",
    "    json.dump(url_map, f)"
   ]
  },
  {
   "cell_type": "markdown",
   "id": "c1378a0c",
   "metadata": {},
   "source": [
    "# URL Mapping "
   ]
  },
  {
   "cell_type": "code",
   "execution_count": 62,
   "id": "edd82e08",
   "metadata": {},
   "outputs": [],
   "source": [
    "def map_urls(urls: List[str], url_map: dict) -> List[str]:\n",
    "    '''\n",
    "        Converts shortened url to expanded url if exists in the url_map\n",
    "        \n",
    "        Parameters:\n",
    "            -urls: List[str]\n",
    "                List of urls that may need to be expanded\n",
    "            -url_map: dict\n",
    "                Dictionary mapping shortened to expanded urls\n",
    "    '''\n",
    "    \n",
    "    mapped_urls = []\n",
    "    for url in urls:\n",
    "        if url in url_map.keys():\n",
    "            # Filter out errors in url expansion\n",
    "            if '_ERROR_' not in url_map[url]:\n",
    "                mapped_urls.append(url_map[url])\n",
    "        else:\n",
    "            mapped_urls.append(url)\n",
    "        \n",
    "    return mapped_urls"
   ]
  },
  {
   "cell_type": "code",
   "execution_count": 63,
   "id": "9f6fc999",
   "metadata": {},
   "outputs": [
    {
     "name": "stderr",
     "output_type": "stream",
     "text": [
      "100%|████████████████████████████████████████████████████████████████████████████| 977/977 [00:00<00:00, 108577.81it/s]\n"
     ]
    }
   ],
   "source": [
    "data['mapped_urls'] = data['top_arts'].progress_apply(lambda url: map_urls(url, url_map))"
   ]
  },
  {
   "cell_type": "code",
   "execution_count": 65,
   "id": "9577ac33",
   "metadata": {},
   "outputs": [],
   "source": [
    "data['linked_arts_clean'] = data['mapped_urls'].apply(lambda l: l[:5])"
   ]
  },
  {
   "cell_type": "code",
   "execution_count": 67,
   "id": "18543dff",
   "metadata": {},
   "outputs": [],
   "source": [
    "data = data.drop(['top_arts', 'mapped_urls'], axis = 1)"
   ]
  },
  {
   "cell_type": "code",
   "execution_count": 70,
   "id": "67543dd2",
   "metadata": {},
   "outputs": [],
   "source": [
    "# Resave data with cleaned urls\n",
    "data.to_csv(DATA_OUT, index = None)"
   ]
  }
 ],
 "metadata": {
  "kernelspec": {
   "display_name": "Python 3",
   "language": "python",
   "name": "python3"
  },
  "language_info": {
   "codemirror_mode": {
    "name": "ipython",
    "version": 3
   },
   "file_extension": ".py",
   "mimetype": "text/x-python",
   "name": "python",
   "nbconvert_exporter": "python",
   "pygments_lexer": "ipython3",
   "version": "3.7.7"
  }
 },
 "nbformat": 4,
 "nbformat_minor": 5
}
