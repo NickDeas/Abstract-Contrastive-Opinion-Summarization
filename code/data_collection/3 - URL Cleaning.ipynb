{
 "cells": [
  {
   "cell_type": "markdown",
   "id": "58198f9a",
   "metadata": {},
   "source": [
    "# Imports "
   ]
  },
  {
   "cell_type": "code",
   "execution_count": 44,
   "id": "94aa61c9",
   "metadata": {},
   "outputs": [],
   "source": [
    "import pandas as pd\n",
    "\n",
    "import urlexpander\n",
    "\n",
    "from ast import literal_eval\n",
    "\n",
    "import json\n",
    "\n",
    "from tqdm import tqdm\n",
    "tqdm.pandas()"
   ]
  },
  {
   "cell_type": "markdown",
   "id": "c4680d52",
   "metadata": {},
   "source": [
    "# Settings and Configuration "
   ]
  },
  {
   "cell_type": "code",
   "execution_count": 69,
   "id": "0def7c34",
   "metadata": {},
   "outputs": [],
   "source": [
    "SRC_DATA = '../../data/webpage_data/full_flipside_data.csv'\n",
    "DATA_OUT = '../../data/webpage_data/full_flipside_data_clean.csv'\n",
    "URL_MAP_FP = '../../data/webpage_data/url_map.json'\n",
    "\n",
    "URL_BUFF_LEN = 10 # Number of urls to include in expansion buffer (in case of resolution errors)\n",
    "MAX_URLS     = 5"
   ]
  },
  {
   "cell_type": "markdown",
   "id": "0b7babbb",
   "metadata": {},
   "source": [
    "# Data Loading and Cleaning"
   ]
  },
  {
   "cell_type": "code",
   "execution_count": 5,
   "id": "96650a92",
   "metadata": {},
   "outputs": [],
   "source": [
    "data = pd.read_csv(SRC_DATA)"
   ]
  },
  {
   "cell_type": "code",
   "execution_count": 10,
   "id": "92e0f82a",
   "metadata": {},
   "outputs": [],
   "source": [
    "data['linked_arts'] = data['linked_arts'].str.replace('\\n', ', ', regex = False)\n",
    "data['linked_arts'] = data['linked_arts'].apply(literal_eval)"
   ]
  },
  {
   "cell_type": "code",
   "execution_count": 12,
   "id": "28ca2636",
   "metadata": {},
   "outputs": [],
   "source": [
    "data['top_arts'] = data['linked_arts'].apply(lambda l: l[:URL_BUFF_LEN])"
   ]
  },
  {
   "cell_type": "markdown",
   "id": "d19b0223",
   "metadata": {},
   "source": [
    "# URL Resolution "
   ]
  },
  {
   "cell_type": "markdown",
   "id": "eb28ced5",
   "metadata": {},
   "source": [
    "Determine which urls need to be expanded and create a mapping"
   ]
  },
  {
   "cell_type": "code",
   "execution_count": 25,
   "id": "681f04db",
   "metadata": {},
   "outputs": [],
   "source": [
    "def should_expand(url):\n",
    "    return 'theflipside.us15.list-manage.com' in url or urlexpander.is_short(url)"
   ]
  },
  {
   "cell_type": "code",
   "execution_count": 27,
   "id": "f7267f11",
   "metadata": {},
   "outputs": [],
   "source": [
    "to_res_urls = []"
   ]
  },
  {
   "cell_type": "code",
   "execution_count": 28,
   "id": "2221fdab",
   "metadata": {},
   "outputs": [],
   "source": [
    "all_urls = [url for url_list in data['top_arts'].values for url in url_list]"
   ]
  },
  {
   "cell_type": "code",
   "execution_count": 29,
   "id": "d0560e98",
   "metadata": {},
   "outputs": [],
   "source": [
    "for url in all_urls:\n",
    "    if should_expand(url):\n",
    "        to_res_urls.append(url)"
   ]
  },
  {
   "cell_type": "code",
   "execution_count": 31,
   "id": "128a29a4",
   "metadata": {},
   "outputs": [],
   "source": [
    "res_urls = urlexpander.expand(to_res_urls)"
   ]
  },
  {
   "cell_type": "code",
   "execution_count": 34,
   "id": "22b3d9d0",
   "metadata": {},
   "outputs": [],
   "source": [
    "url_map = {url:res_url for url, res_url in zip(to_res_urls, res_urls)}"
   ]
  },
  {
   "cell_type": "code",
   "execution_count": 35,
   "id": "a7c1ca7d",
   "metadata": {},
   "outputs": [],
   "source": [
    "with open(URL_MAP_FP, 'w') as f:\n",
    "    json.dump(url_map, f)"
   ]
  },
  {
   "cell_type": "markdown",
   "id": "c47fbb80",
   "metadata": {},
   "source": [
    "# URL Mapping "
   ]
  },
  {
   "cell_type": "code",
   "execution_count": 62,
   "id": "6aca2d8a",
   "metadata": {},
   "outputs": [],
   "source": [
    "def map_urls(urls, url_map):\n",
    "    mapped_urls = []\n",
    "    for url in urls:\n",
    "        if url in url_map.keys():\n",
    "            if '_ERROR_' not in url_map[url]:\n",
    "                mapped_urls.append(url_map[url])\n",
    "        else:\n",
    "            mapped_urls.append(url)\n",
    "        \n",
    "    return mapped_urls"
   ]
  },
  {
   "cell_type": "code",
   "execution_count": 63,
   "id": "1a587fd0",
   "metadata": {},
   "outputs": [
    {
     "name": "stderr",
     "output_type": "stream",
     "text": [
      "100%|████████████████████████████████████████████████████████████████████████████| 977/977 [00:00<00:00, 108577.81it/s]\n"
     ]
    }
   ],
   "source": [
    "data['mapped_urls'] = data['top_arts'].progress_apply(lambda url: map_urls(url, url_map))"
   ]
  },
  {
   "cell_type": "code",
   "execution_count": 65,
   "id": "85463e47",
   "metadata": {},
   "outputs": [],
   "source": [
    "data['linked_arts_clean'] = data['mapped_urls'].apply(lambda l: l[:5])"
   ]
  },
  {
   "cell_type": "code",
   "execution_count": 67,
   "id": "b029b486",
   "metadata": {},
   "outputs": [],
   "source": [
    "data = data.drop(['top_arts', 'mapped_urls'], axis = 1)"
   ]
  },
  {
   "cell_type": "code",
   "execution_count": 70,
   "id": "17f3205d",
   "metadata": {},
   "outputs": [],
   "source": [
    "data.to_csv(DATA_OUT, index = None)"
   ]
  }
 ],
 "metadata": {
  "kernelspec": {
   "display_name": "Python 3",
   "language": "python",
   "name": "python3"
  },
  "language_info": {
   "codemirror_mode": {
    "name": "ipython",
    "version": 3
   },
   "file_extension": ".py",
   "mimetype": "text/x-python",
   "name": "python",
   "nbconvert_exporter": "python",
   "pygments_lexer": "ipython3",
   "version": "3.7.7"
  }
 },
 "nbformat": 4,
 "nbformat_minor": 5
}
