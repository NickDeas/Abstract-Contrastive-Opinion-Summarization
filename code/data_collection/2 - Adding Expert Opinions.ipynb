{
 "cells": [
  {
   "cell_type": "code",
   "execution_count": 1,
   "id": "3f3279e7",
   "metadata": {},
   "outputs": [],
   "source": [
    "import pandas as pd\n",
    "\n",
    "from bs4 import BeautifulSoup\n",
    "\n",
    "from tqdm import tqdm\n",
    "tqdm.pandas()"
   ]
  },
  {
   "cell_type": "code",
   "execution_count": 21,
   "id": "d936eefd",
   "metadata": {},
   "outputs": [],
   "source": [
    "SRC_DATA = '../../data/webpage_data/full_flipside_data.csv'\n",
    "ARTICLE_SOURCE = '../../data/webpage_data/articles/'\n",
    "\n",
    "OP_SEPARATOR = '||'"
   ]
  },
  {
   "cell_type": "code",
   "execution_count": 12,
   "id": "125b4c3f",
   "metadata": {},
   "outputs": [],
   "source": [
    "data = pd.read_csv(SRC_DATA)"
   ]
  },
  {
   "cell_type": "markdown",
   "id": "c19a1768",
   "metadata": {},
   "source": [
    "# Rescraping Expert Opinions"
   ]
  },
  {
   "cell_type": "code",
   "execution_count": 13,
   "id": "67ab5290",
   "metadata": {},
   "outputs": [],
   "source": [
    "# Create column for article file path\n",
    "data['article_file'] = ARTICLE_SOURCE + data['title'].str.replace('?', '', regex = False) + '.html'"
   ]
  },
  {
   "cell_type": "code",
   "execution_count": 14,
   "id": "f1e529f5",
   "metadata": {},
   "outputs": [],
   "source": [
    "def get_expert_opinions(article_src):\n",
    "    '''\n",
    "        Scrape expert opinions from an article source html file\n",
    "        \n",
    "        Parameters:\n",
    "            -article_src\n",
    "                The source html of an article to extract expert opinions from\n",
    "                \n",
    "        Return:\n",
    "            Lists of the left and right expert opinions found in the article\n",
    "    '''\n",
    "    \n",
    "    article_src = article_src[:article_src.find(':')] if ':' in article_src else article_src\n",
    "    with open(article_src, 'r', encoding = 'utf8') as f:\n",
    "        src_html = f.read()\n",
    "        \n",
    "    bs = BeautifulSoup(src_html)\n",
    "    \n",
    "    right_experts = bs.find_all('div', {'class': lambda e: ('paragraph-6' in e and 'right' in e and 'bullet' in e and not ('w-dyn-bind-empty' in e)) if e else False})\n",
    "    right_experts = [e.p.text for e in right_experts if e.p]\n",
    "    \n",
    "    left_experts = bs.find_all('div', {'class': lambda e: ('paragraph-6' in e and 'left' in e and 'bullet' in e and not ('w-dyn-bind-empty' in e)) if e else False})\n",
    "    left_experts = [e.p.text for e in left_experts if e.p]\n",
    "    \n",
    "    right_experts = [e[:-1 * e[::-1].find('”')] for e in right_experts]\n",
    "    left_experts = [e[:-1 * e[::-1].find('”')] for e in left_experts]\n",
    "    \n",
    "    right_experts = [e.replace('”', '').replace('“', '') for e in right_experts]\n",
    "    left_experts = [e.replace('”', '').replace('“', '') for e in left_experts]\n",
    "    \n",
    "    return left_experts, right_experts"
   ]
  },
  {
   "cell_type": "code",
   "execution_count": 15,
   "id": "acb7f516",
   "metadata": {},
   "outputs": [
    {
     "name": "stderr",
     "output_type": "stream",
     "text": [
      "100%|████████████████████████████████████████████████████████████████████████████████| 977/977 [00:17<00:00, 54.29it/s]\n"
     ]
    }
   ],
   "source": [
    "expert_ops = data['article_file'].progress_apply(get_expert_opinions)"
   ]
  },
  {
   "cell_type": "code",
   "execution_count": 17,
   "id": "1bf0c954",
   "metadata": {},
   "outputs": [],
   "source": [
    "left_ops = [OP_SEPARATOR.join(tup[0]) for tup in expert_ops]\n",
    "right_ops = [OP_SEPARATOR.join(tup[1]) for tup in expert_ops]"
   ]
  },
  {
   "cell_type": "code",
   "execution_count": 18,
   "id": "7b7724a3",
   "metadata": {},
   "outputs": [],
   "source": [
    "data['left_op'] = left_ops\n",
    "data['right_op'] = right_ops"
   ]
  },
  {
   "cell_type": "code",
   "execution_count": 19,
   "id": "146fedc9",
   "metadata": {},
   "outputs": [],
   "source": [
    "data = data.drop('article_file', axis = 1)"
   ]
  },
  {
   "cell_type": "code",
   "execution_count": 20,
   "id": "874e5924",
   "metadata": {},
   "outputs": [],
   "source": [
    "data.to_csv(SRC_DATA)"
   ]
  }
 ],
 "metadata": {
  "kernelspec": {
   "display_name": "Python 3",
   "language": "python",
   "name": "python3"
  },
  "language_info": {
   "codemirror_mode": {
    "name": "ipython",
    "version": 3
   },
   "file_extension": ".py",
   "mimetype": "text/x-python",
   "name": "python",
   "nbconvert_exporter": "python",
   "pygments_lexer": "ipython3",
   "version": "3.7.7"
  }
 },
 "nbformat": 4,
 "nbformat_minor": 5
}
