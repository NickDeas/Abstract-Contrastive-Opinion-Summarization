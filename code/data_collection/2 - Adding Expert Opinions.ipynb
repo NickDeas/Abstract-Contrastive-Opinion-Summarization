{
 "cells": [
  {
   "cell_type": "code",
   "execution_count": 44,
   "id": "b6b46f96",
   "metadata": {},
   "outputs": [],
   "source": [
    "import pandas as pd\n",
    "\n",
    "from bs4 import BeautifulSoup\n",
    "\n",
    "from tqdm import tqdm\n",
    "tqdm.pandas()"
   ]
  },
  {
   "cell_type": "code",
   "execution_count": 2,
   "id": "2c9843fb",
   "metadata": {},
   "outputs": [],
   "source": [
    "SRC_DATA = '../../data/data_clean/polisumm_final.csv'"
   ]
  },
  {
   "cell_type": "code",
   "execution_count": 3,
   "id": "12bb29c2",
   "metadata": {},
   "outputs": [],
   "source": [
    "data = pd.read_csv(SRC_DATA)"
   ]
  },
  {
   "cell_type": "markdown",
   "id": "8dcf03e7",
   "metadata": {},
   "source": [
    "# Rescraping Expert Opinions"
   ]
  },
  {
   "cell_type": "code",
   "execution_count": 7,
   "id": "1b6d6b2b",
   "metadata": {},
   "outputs": [],
   "source": [
    "ARTICLE_SOURCE = '../../data/webpage_data/articles/'"
   ]
  },
  {
   "cell_type": "code",
   "execution_count": 8,
   "id": "b8e08bdf",
   "metadata": {},
   "outputs": [
    {
     "name": "stderr",
     "output_type": "stream",
     "text": [
      "C:\\Users\\ndeas\\miniconda3\\lib\\site-packages\\ipykernel_launcher.py:1: FutureWarning: The default value of regex will change from True to False in a future version. In addition, single character regular expressions will *not* be treated as literal strings when regex=True.\n",
      "  \"\"\"Entry point for launching an IPython kernel.\n"
     ]
    }
   ],
   "source": [
    "data['article_file'] = ARTICLE_SOURCE + data['title'].str.replace('?', '') + '.html'"
   ]
  },
  {
   "cell_type": "code",
   "execution_count": 65,
   "id": "04bed82f",
   "metadata": {},
   "outputs": [],
   "source": [
    "def get_expert_opinions(article_src):\n",
    "    article_src = article_src[:article_src.find(':')] if ':' in article_src else article_src\n",
    "    with open(article_src, 'r', encoding = 'utf8') as f:\n",
    "        src_html = f.read()\n",
    "        \n",
    "    bs = BeautifulSoup(src_html)\n",
    "    \n",
    "    right_experts = bs.find_all('div', {'class': lambda e: ('paragraph-6' in e and 'right' in e and 'bullet' in e and not ('w-dyn-bind-empty' in e)) if e else False})\n",
    "    right_experts = [e.p.text for e in right_experts if e.p]\n",
    "    \n",
    "    left_experts = bs.find_all('div', {'class': lambda e: ('paragraph-6' in e and 'left' in e and 'bullet' in e and not ('w-dyn-bind-empty' in e)) if e else False})\n",
    "    left_experts = [e.p.text for e in left_experts if e.p]\n",
    "    \n",
    "    right_experts = [e[:-1 * e[::-1].find('”')] for e in right_experts]\n",
    "    left_experts = [e[:-1 * e[::-1].find('”')] for e in left_experts]\n",
    "    \n",
    "    right_experts = [e.replace('”', '').replace('“', '') for e in right_experts]\n",
    "    left_experts = [e.replace('”', '').replace('“', '') for e in left_experts]\n",
    "    \n",
    "    return left_experts, right_experts"
   ]
  },
  {
   "cell_type": "code",
   "execution_count": 66,
   "id": "b085f0b8",
   "metadata": {},
   "outputs": [
    {
     "name": "stderr",
     "output_type": "stream",
     "text": [
      "100%|██████████████████████████████████████████████████████████████████████████████| 1199/1199 [00:12<00:00, 98.63it/s]\n"
     ]
    }
   ],
   "source": [
    "expert_ops = data['article_file'].progress_apply(get_expert_opinions)"
   ]
  },
  {
   "cell_type": "code",
   "execution_count": 69,
   "id": "d08c77f8",
   "metadata": {},
   "outputs": [],
   "source": [
    "left_ops = ['|'.join(tup[0]) for tup in expert_ops]\n",
    "right_ops = ['|'.join(tup[1]) for tup in expert_ops]"
   ]
  },
  {
   "cell_type": "code",
   "execution_count": 70,
   "id": "269f41db",
   "metadata": {},
   "outputs": [],
   "source": [
    "data['left_op'] = left_ops\n",
    "data['right_op'] = right_ops"
   ]
  },
  {
   "cell_type": "code",
   "execution_count": 72,
   "id": "e564e0e3",
   "metadata": {},
   "outputs": [],
   "source": [
    "data = data.drop('article_file', axis = 1)"
   ]
  },
  {
   "cell_type": "code",
   "execution_count": 73,
   "id": "58cb2197",
   "metadata": {},
   "outputs": [],
   "source": [
    "data.to_csv(SRC_DATA)"
   ]
  }
 ],
 "metadata": {
  "kernelspec": {
   "display_name": "Python 3",
   "language": "python",
   "name": "python3"
  },
  "language_info": {
   "codemirror_mode": {
    "name": "ipython",
    "version": 3
   },
   "file_extension": ".py",
   "mimetype": "text/x-python",
   "name": "python",
   "nbconvert_exporter": "python",
   "pygments_lexer": "ipython3",
   "version": "3.7.7"
  }
 },
 "nbformat": 4,
 "nbformat_minor": 5
}
