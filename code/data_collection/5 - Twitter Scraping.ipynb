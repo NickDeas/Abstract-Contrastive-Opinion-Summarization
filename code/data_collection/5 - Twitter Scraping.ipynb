{
 "cells": [
  {
   "cell_type": "markdown",
   "id": "a0d82514",
   "metadata": {},
   "source": [
    "This notebook contains code used to configure and consolidate data from the Twitter API using urls found in TheFlipSide articles. In contrast to other notebooks, this was run in two parts: sections preceding \"Consolidating Tweets\", and then the final section after fetching the data using the pull_twitter tool."
   ]
  },
  {
   "cell_type": "markdown",
   "id": "3dd7b636",
   "metadata": {},
   "source": [
    "# Imports "
   ]
  },
  {
   "cell_type": "code",
   "execution_count": 55,
   "id": "09dc67f3",
   "metadata": {},
   "outputs": [],
   "source": [
    "import pandas as pd\n",
    "import numpy as np\n",
    "\n",
    "import json\n",
    "import yaml\n",
    "import os\n",
    "from datetime import datetime\n",
    "\n",
    "import requests\n",
    "import urlexpander\n",
    "\n",
    "from ast import literal_eval\n",
    "\n",
    "from tqdm import tqdm\n",
    "tqdm.pandas()\n",
    "\n",
    "import time\n",
    "\n",
    "import urlexpander"
   ]
  },
  {
   "cell_type": "markdown",
   "id": "81435771",
   "metadata": {},
   "source": [
    "# Settings and Configuration "
   ]
  },
  {
   "cell_type": "code",
   "execution_count": 125,
   "id": "c610bcf2",
   "metadata": {},
   "outputs": [],
   "source": [
    "SRC_DATA   = '../../data/webpage_data/full_flipside_data_clean.csv'\n",
    "TWEET_DATA = '../../data/twitter_data/url_query_list'\n",
    "OUTPUT_DIR = '../../data/twitter_data/search/'\n",
    "FINAL_OUTPUT_FP = '../../data/twitter_data/all_tweet_data.csv'\n",
    "\n",
    "CLIP_URLS = 8 # Take first N urls to attempt to expand for scraping Twitter\n",
    "MAX_URLS  = 5 # Maximum number of urls to use in scraping Twitter"
   ]
  },
  {
   "cell_type": "markdown",
   "id": "b0dd276d",
   "metadata": {},
   "source": [
    "# Data Loading "
   ]
  },
  {
   "cell_type": "markdown",
   "id": "9e5108ae",
   "metadata": {},
   "source": [
    "Load and clean the original article data "
   ]
  },
  {
   "cell_type": "code",
   "execution_count": 38,
   "id": "8fa15f0e",
   "metadata": {},
   "outputs": [],
   "source": [
    "art_data = pd.read_csv(SRC_DATA)"
   ]
  },
  {
   "cell_type": "code",
   "execution_count": 39,
   "id": "5367462b",
   "metadata": {},
   "outputs": [],
   "source": [
    "art_data['linked_arts_clean'] = art_data['linked_arts_clean'].str.replace('\\n', ',')"
   ]
  },
  {
   "cell_type": "code",
   "execution_count": 40,
   "id": "26b1dd16",
   "metadata": {},
   "outputs": [],
   "source": [
    "art_data['linked_arts_clean'] = art_data['linked_arts_clean'].apply(literal_eval)"
   ]
  },
  {
   "cell_type": "code",
   "execution_count": 41,
   "id": "471df0a4",
   "metadata": {},
   "outputs": [],
   "source": [
    "art_data['num_news'] = art_data['linked_arts_clean'].apply(len)"
   ]
  },
  {
   "cell_type": "markdown",
   "id": "a03f1744",
   "metadata": {},
   "source": [
    "# Creating Query List"
   ]
  },
  {
   "cell_type": "code",
   "execution_count": 42,
   "id": "81f5202c",
   "metadata": {},
   "outputs": [],
   "source": [
    "tweet_queries = [url.split('?')[0] for url_list in art_data['linked_arts_clean'].values for url in url_list]"
   ]
  },
  {
   "cell_type": "code",
   "execution_count": 43,
   "id": "052af114",
   "metadata": {},
   "outputs": [],
   "source": [
    "tweet_queries = ['url:\\\"' + q + '\\\" -is:reply -is:retweet -is:verified' for q in tweet_queries]"
   ]
  },
  {
   "cell_type": "code",
   "execution_count": 44,
   "id": "3d12a2ba",
   "metadata": {},
   "outputs": [],
   "source": [
    "with open(TWEET_DATA, 'w') as f:\n",
    "    f.write('\\n'.join(tweet_queries))"
   ]
  },
  {
   "cell_type": "markdown",
   "id": "7a12819c",
   "metadata": {},
   "source": [
    "# Run Scraping"
   ]
  },
  {
   "cell_type": "markdown",
   "id": "313a5014",
   "metadata": {},
   "source": [
    "The twitter scraping is handled by the `scrape_twitter.sh` bash script in the same directory as this notebook. Run the following command to generate the scraped files.\n",
    "\n",
    "```\n",
    "    ./scrape_twitter.sh  \"../../data/twitter_data/url_query_list\"\n",
    "```"
   ]
  },
  {
   "cell_type": "markdown",
   "id": "afac24b2",
   "metadata": {},
   "source": [
    "# Consolidating Tweets "
   ]
  },
  {
   "cell_type": "markdown",
   "id": "368b5978",
   "metadata": {},
   "source": [
    "Align the queries and Twitter API Results to map tweets back to the database"
   ]
  },
  {
   "cell_type": "code",
   "execution_count": 103,
   "id": "ba583c9d",
   "metadata": {},
   "outputs": [],
   "source": [
    "# Create map of urls to titles\n",
    "full_queries = {url.split('?')[0]: title + '|' + date for (title, date), url_list in zip(zip(art_data['title'], art_data['date']), art_data['linked_arts_clean']) for url in url_list}"
   ]
  },
  {
   "cell_type": "code",
   "execution_count": 104,
   "id": "06893c92",
   "metadata": {},
   "outputs": [],
   "source": [
    "# Retrieve the ordered list of tweet urls\n",
    "with open(TWEET_DATA, 'r') as f:\n",
    "    queries = f.readlines()"
   ]
  },
  {
   "cell_type": "code",
   "execution_count": 105,
   "id": "f6593908",
   "metadata": {},
   "outputs": [],
   "source": [
    "# Generate unsorted list of data directories\n",
    "data_dirs = [OUTPUT_DIR + resdir for resdir in os.listdir(OUTPUT_DIR) if resdir[-4:] != '.zip']"
   ]
  },
  {
   "cell_type": "code",
   "execution_count": 106,
   "id": "44b28a3b",
   "metadata": {},
   "outputs": [],
   "source": [
    "# Sort the Twitter API results using the datetime in the directory name\n",
    "data_dirs.sort(key = lambda fn: datetime.strptime(fn.split('/')[-1], '%Y-%m-%d %H.%M.%S'))"
   ]
  },
  {
   "cell_type": "code",
   "execution_count": 108,
   "id": "2fa95226",
   "metadata": {},
   "outputs": [],
   "source": [
    "data_fps = [data_dir + '/data_tweets.csv' for data_dir in data_dirs]\n",
    "query_urls = [query.split(' ')[0][5:-1] for query in queries]"
   ]
  },
  {
   "cell_type": "code",
   "execution_count": 109,
   "id": "490e7adf",
   "metadata": {},
   "outputs": [],
   "source": [
    "url_to_data = {query_url: data_fp for query_url, data_fp in zip(query_urls, data_fps)}"
   ]
  },
  {
   "cell_type": "code",
   "execution_count": 110,
   "id": "dfe0faaf",
   "metadata": {},
   "outputs": [],
   "source": [
    "# Ensure all urls are present in both mapping dictionaries\n",
    "assert set(url_to_data.keys()) == set(full_queries.keys())"
   ]
  },
  {
   "cell_type": "code",
   "execution_count": 113,
   "id": "b41204c9",
   "metadata": {},
   "outputs": [],
   "source": [
    "data_to_title_date = {url_to_data[url]: title_date for url, title_date in full_queries.items() }"
   ]
  },
  {
   "cell_type": "code",
   "execution_count": 121,
   "id": "57cf95ea",
   "metadata": {
    "scrolled": true
   },
   "outputs": [
    {
     "name": "stdout",
     "output_type": "stream",
     "text": [
      "General Election Update had no results for a url\n",
      "General Election Update had no results for a url\n",
      "Judy Shelton had no results for a url\n",
      "Latest Polling and Dems 2020 Update had no results for a url\n",
      "NYT Scoop and NYS Bill re Trump’s Taxes had no results for a url\n",
      "Tech Sector Update had no results for a url\n",
      "Tech Sector Update had no results for a url\n",
      "Woodward’s Trump Interviews had no results for a url\n",
      "2020 Census Battle had no results for a url\n",
      "2020 Election had no results for a url\n",
      "AOC and Cruz to Work Together on Anti-Lobbying Bill had no results for a url\n",
      "Adjourning Congress had no results for a url\n",
      "All Things Healthcare had no results for a url\n",
      "Anti-Semitism EO had no results for a url\n",
      "Anti-Semitism EO had no results for a url\n",
      "Background Checks had no results for a url\n",
      "Baghdadi Dead had no results for a url\n",
      "Barr and Stone had no results for a url\n",
      "Barr for AG and Nauert for UN Ambassador had no results for a url\n",
      "Barr for AG and Nauert for UN Ambassador had no results for a url\n",
      "Beto Announces 2020 Run had no results for a url\n",
      "Beto O’Rourke had no results for a url\n",
      "Biden Holds News Conference had no results for a url\n",
      "Biden Projected To Win Presidency had no results for a url\n",
      "Armenian Genocide had no results for a url\n",
      "Bipartisan Infrastructure Bill had no results for a url\n",
      "Bipartisan Infrastructure Deal had no results for a url\n",
      "Bloomberg Considering Presidential Run had no results for a url\n",
      "Bolton’s Book had no results for a url\n",
      "Brazil’s Election had no results for a url\n",
      "Brazil’s Election had no results for a url\n",
      "Brexit Delayed Until After British Vote had no results for a url\n",
      "Buttigieg Criticizes Pence had no results for a url\n",
      "Buttigieg Criticizes Pence had no results for a url\n",
      "Buttigieg Criticizes Pence had no results for a url\n",
      "California Recall had no results for a url\n",
      "Campaign Finance Struck Down had no results for a url\n",
      "Caravan Arrives at Border had no results for a url\n",
      "China Trade Deal had no results for a url\n",
      "China and Coronavirus had no results for a url\n",
      "Troop Withdrawal From Germany had no results for a url\n",
      "Close Call with Iran had no results for a url\n",
      "Comey and Cohen had no results for a url\n",
      "Comey and Cohen had no results for a url\n",
      "Coronavirus and The Primaries had no results for a url\n",
      "DeSantis vs. Disney had no results for a url\n",
      "Democratic Primary Polls had no results for a url\n",
      "Education Commission had no results for a url\n",
      "Education Commission had no results for a url\n",
      "Election Update had no results for a url\n",
      "Electoral College Challenge had no results for a url\n",
      "Elon Musk and Twitter had no results for a url\n",
      "FDA to Ban Flavored E-cigarettes had no results for a url\n",
      "Facebook in Australia had no results for a url\n",
      "Facebook in Australia had no results for a url\n",
      "Facebook’s Political Ad Policy had no results for a url\n",
      "Future of the Democratic Party had no results for a url\n",
      "G20 Summit had no results for a url\n",
      "General Election Polling had no results for a url\n",
      "Global Minimum Corporate Tax had no results for a url\n",
      "Gubernatorial Races had no results for a url\n",
      "Gun Control had no results for a url\n",
      "Gun Control had no results for a url\n",
      "INF Treaty had no results for a url\n",
      "Immigration had no results for a url\n",
      "Immigration Restrictions had no results for a url\n",
      "Impeachment Inquiry Begins had no results for a url\n",
      "Inflation Reduction Act had no results for a url\n",
      "Iowa Caucuses Preview had no results for a url\n",
      "Iran Enriches Uranium had no results for a url\n",
      "Iran Enriches Uranium had no results for a url\n",
      "Israel Bans Omar and Tlaib had no results for a url\n",
      "Israeli Settlements had no results for a url\n",
      "Israeli Settlements had no results for a url\n",
      "Jeff Sessions had no results for a url\n",
      "Jeff Sessions had no results for a url\n",
      "Kamala Harris Drops Out had no results for a url\n",
      "Kamala Harris Drops Out had no results for a url\n",
      "Kansas Abortion Vote had no results for a url\n",
      "Katie Hill Resigns had no results for a url\n",
      "Khashoggi Report Declassified had no results for a url\n",
      "Kirstjen Nielsen Resigns had no results for a url\n",
      "Lev Parnas had no results for a url\n",
      "Lev Parnas had no results for a url\n",
      "Liz Truss had no results for a url\n",
      "Mar-a-Lago Search had no results for a url\n",
      "Mass Shootings had no results for a url\n",
      "Merrick Garland had no results for a url\n",
      "Mideast Peace Plan had no results for a url\n",
      "Mideast Peace Plan had no results for a url\n",
      "Minimum Wage had no results for a url\n",
      "Mohsen Fakhrizadeh Killed had no results for a url\n",
      "Mohsen Fakhrizadeh Killed had no results for a url\n",
      "More on Mueller had no results for a url\n",
      "Neera Tanden had no results for a url\n",
      "Nevada Caucus had no results for a url\n",
      "Inflation had no results for a url\n",
      "Obama Back on Campaign Trail had no results for a url\n",
      "Oval Office Meeting and Looming Shutdown had no results for a url\n",
      "Oval Office Meeting and Looming Shutdown had no results for a url\n",
      "PM Theresa May Survives Confidence Vote had no results for a url\n",
      "Pete Buttigieg had no results for a url\n",
      "Pete Buttigieg had no results for a url\n",
      "Planned Parenthood Exits Title X Program had no results for a url\n",
      "Primary Elections had no results for a url\n",
      "Refugee Cap had no results for a url\n",
      "Reopening the Economy had no results for a url\n",
      "Republican Convention had no results for a url\n",
      "Republican Convention had no results for a url\n",
      "Republican Convention had no results for a url\n",
      "Rising Crime had no results for a url\n",
      "SCOTUS Term Begins had no results for a url\n",
      "Senate Acquits Trump had no results for a url\n",
      "Senate Filibuster had no results for a url\n",
      "State Bailouts had no results for a url\n",
      "Statues had no results for a url\n",
      "Student Visas had no results for a url\n",
      "Summit For Democracy had no results for a url\n",
      "Supreme Court Blocks NY Religious Restrictions had no results for a url\n",
      "Supreme Court on Religious Liberty had no results for a url\n",
      "Tech Still Under Fire had no results for a url\n",
      "The Future of Brexit had no results for a url\n",
      "The Latino Vote had no results for a url\n",
      "Title IX had no results for a url\n",
      "Trade War With China had no results for a url\n",
      "Troop Withdrawal From Germany had no results for a url\n",
      "Trump Announces Continued Support for Saudi Government had no results for a url\n",
      "Trump Goes to North Korea had no results for a url\n",
      "Trump Organization Indicted had no results for a url\n",
      "Trump's 2020 Budget Proposal had no results for a url\n",
      "Trump-Russia Redux had no results for a url\n",
      "Trump-Russia Redux had no results for a url\n",
      "Trump’s Taxes had no results for a url\n",
      "UN Climate Summit had no results for a url\n",
      "US-Iran Tensions Escalate had no results for a url\n",
      "USPS had no results for a url\n",
      "Ukraine had no results for a url\n",
      "Update on Syria Withdrawal had no results for a url\n",
      "Virginia Governor’s Race had no results for a url\n",
      "Voting Rights Case had no results for a url\n",
      "Warren Rising in the Polls had no results for a url\n",
      "Whistleblower Complaint Released had no results for a url\n",
      "White House Budget Proposal had no results for a url\n",
      "Biden’s Approval Rating had no results for a url\n",
      "Biden’s Approval Rating had no results for a url\n",
      "Mar-a-Lago Special Master had no results for a url\n",
      "Anonymous Op-ed in the NYT had no results for a url\n",
      "Citizenship Back in the Census? had no results for a url\n",
      "Pennsylvania had no results for a url\n",
      "Queen Elizabeth II had no results for a url\n",
      "France Recalls Ambassador had no results for a url\n",
      "Recession? had no results for a url\n",
      "Generals Testify had no results for a url\n",
      "Impeachment Update had no results for a url\n",
      "Hong Kong Protests had no results for a url\n",
      "Turkey’s Offensive in Syria had no results for a url\n",
      "Ceasefire Extended in Syria had no results for a url\n",
      "Ukraine had no results for a url\n",
      "Ukraine had no results for a url\n",
      "Inflation had no results for a url\n",
      "National Emergency? had no results for a url\n",
      "Ilhan Omar's Tweets had no results for a url\n",
      "Jussie Smollett had no results for a url\n",
      "Jussie Smollett had no results for a url\n",
      "GameStop had no results for a url\n",
      "2020 Update had no results for a url\n",
      "Xinjiang Abuses Exposed had no results for a url\n",
      "Clemency for Three Military Officers had no results for a url\n",
      "Election Day Aftermath had no results for a url\n",
      "The Election Process Continues had no results for a url\n",
      "The Election Process Continues had no results for a url\n",
      "The Election Process Continues had no results for a url\n",
      "Questions Answered had no results for a url\n",
      "ACA at the Supreme Court had no results for a url\n",
      "Immigration had no results for a url\n"
     ]
    },
    {
     "name": "stdout",
     "output_type": "stream",
     "text": [
      "Questions Answered had no results for a url\n",
      "Chris Cuomo had no results for a url\n",
      "Questions Answered had no results for a url\n",
      "Ukraine had no results for a url\n",
      "Britain Approves COVID Vaccine had no results for a url\n",
      "Myanmar Coup had no results for a url\n",
      "Monkeypox had no results for a url\n",
      "Democratic Debate had no results for a url\n",
      "Recession Debate had no results for a url\n",
      "Biden’s Speech had no results for a url\n",
      "COVID Relief Bill had no results for a url\n",
      "Election Integrity had no results for a url\n",
      "COVID Vaccines had no results for a url\n",
      "CDC Guidance had no results for a url\n",
      "NYT Endorsements had no results for a url\n",
      "Democratic Debate had no results for a url\n",
      "Hong Kong had no results for a url\n",
      "Independence Day had no results for a url\n",
      "Georgia Senate Runoffs had no results for a url\n",
      "Captain Crozier had no results for a url\n",
      "Captain Crozier had no results for a url\n",
      "French Election had no results for a url\n",
      "Armenian Genocide had no results for a url\n",
      "Democratic Debate had no results for a url\n",
      "Alexei Navalny had no results for a url\n",
      "Alexei Navalny had no results for a url\n",
      "Biden vs. Bernie had no results for a url\n",
      "Pope Francis Visits Iraq had no results for a url\n",
      "Daunte Wright Shooting had no results for a url\n",
      "Biden’s Assault Allegations and VP Choice had no results for a url\n",
      "Inflation had no results for a url\n",
      "New York City had no results for a url\n",
      "USMCA and Trade Policy had no results for a url\n",
      "Jobs Report had no results for a url\n",
      "Juneteenth had no results for a url\n",
      "White House Transition had no results for a url\n",
      "SCOTUS Rules on Student Athletes had no results for a url\n",
      "France and Colombia had no results for a url\n",
      "Olympic Games Begin had no results for a url\n",
      "Faithless Electors had no results for a url\n",
      "Faithless Electors had no results for a url\n",
      "Faithless Electors had no results for a url\n",
      "Liz Truss had no results for a url\n",
      "Belarus had no results for a url\n",
      "European Energy Crisis had no results for a url\n",
      "Ruth Bader Ginsburg’s Legacy had no results for a url\n",
      "NYC Schools Closing had no results for a url\n",
      "Oscars Diversity Requirements had no results for a url\n",
      "Oscars Diversity Requirements had no results for a url\n",
      "Bolton's Book had no results for a url\n",
      "State of the Union had no results for a url\n",
      "Coronavirus Ruins Everything had no results for a url\n",
      "Afghanistan Troop Withdrawal had no results for a url\n",
      "COVID-19 in India had no results for a url\n",
      "Victory Day had no results for a url\n",
      "Johnny Depp and Amber Heard had no results for a url\n",
      "Israel-UAE Deal had no results for a url\n",
      "Biden Visits Saudi Arabia had no results for a url\n"
     ]
    }
   ],
   "source": [
    "# Extract the title and date columns separately and prepare to consolidate data\n",
    "all_tweets = []\n",
    "for data_fp, title_date_q in data_to_title_date.items():\n",
    "    try:\n",
    "        data = pd.read_csv(data_fp)\n",
    "        data['title_q'] = title_date_q.split('|')[0]\n",
    "        data['date_q']  = title_date_q.split('|')[-1]\n",
    "        all_tweets.append(data)\n",
    "    except:\n",
    "        print(f'{title_date_q.split(\"|\")[0]} had no results for a url')"
   ]
  },
  {
   "cell_type": "code",
   "execution_count": 122,
   "id": "1ea284d2",
   "metadata": {},
   "outputs": [],
   "source": [
    "# Consolidate and save tweet data, filtering by english tweets\n",
    "all_tweets_df = pd.concat(all_tweets, axis = 0)\n",
    "all_tweets_df = all_tweets_df[all_tweets_df['lang'] == 'en']\n",
    "all_tweets_df.to_csv(FINAL_OUTPUT_FP, index = None)"
   ]
  }
 ],
 "metadata": {
  "kernelspec": {
   "display_name": "Python 3",
   "language": "python",
   "name": "python3"
  },
  "language_info": {
   "codemirror_mode": {
    "name": "ipython",
    "version": 3
   },
   "file_extension": ".py",
   "mimetype": "text/x-python",
   "name": "python",
   "nbconvert_exporter": "python",
   "pygments_lexer": "ipython3",
   "version": "3.7.7"
  }
 },
 "nbformat": 4,
 "nbformat_minor": 5
}
