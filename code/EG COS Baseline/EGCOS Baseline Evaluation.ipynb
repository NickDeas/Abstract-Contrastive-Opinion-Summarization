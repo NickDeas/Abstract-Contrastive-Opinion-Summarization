{
 "cells": [
  {
   "cell_type": "code",
   "execution_count": 67,
   "id": "579c935d",
   "metadata": {},
   "outputs": [],
   "source": [
    "import pandas as pd\n",
    "import numpy as np\n",
    "import scipy as sp\n",
    "\n",
    "from nltk.corpus import stopwords\n",
    "import nltk\n",
    "\n",
    "from sklearn.decomposition import NMF\n",
    "from sklearn.preprocessing import normalize\n",
    "from sklearn.feature_extraction.text import TfidfVectorizer\n",
    "from sklearn.metrics import pairwise_distances\n",
    "\n",
    "import re\n",
    "\n",
    "from tqdm import tqdm\n",
    "tqdm.pandas()"
   ]
  },
  {
   "cell_type": "code",
   "execution_count": 2,
   "id": "f01dc0e7",
   "metadata": {},
   "outputs": [],
   "source": [
    "SRC_DATA = '../../data/data_clean/polisumm_final.csv'"
   ]
  },
  {
   "cell_type": "code",
   "execution_count": 3,
   "id": "bf9ecb83",
   "metadata": {},
   "outputs": [],
   "source": [
    "data = pd.read_csv(SRC_DATA)"
   ]
  },
  {
   "cell_type": "code",
   "execution_count": 20,
   "id": "9566a59d",
   "metadata": {},
   "outputs": [],
   "source": [
    "url_regex = r'https?:\\/\\/\\S*'\n",
    "punct_regex = '\\s*[\\.\\?\\!\\|\\n\\:]\\s*[\\.\\?\\!\\|\\n\\:]*\\s*'\n",
    "sw = stopwords.words('english')"
   ]
  },
  {
   "cell_type": "markdown",
   "id": "c640c56d",
   "metadata": {},
   "source": [
    "# Functions "
   ]
  },
  {
   "cell_type": "code",
   "execution_count": 95,
   "id": "da6b5d45",
   "metadata": {},
   "outputs": [],
   "source": [
    "def process_texts(cat_text, min_toks = 3):\n",
    "    new_text = re.sub(url_regex, '', cat_text)\n",
    "    new_text = ' '.join([term for term in new_text.split() if term not in sw])\n",
    "    text_l   = re.split(punct_regex, new_text)\n",
    "    text_l   = [sent for sent in text_l if len(sent.split()) > min_toks]\n",
    "    \n",
    "    return text_l\n",
    "\n",
    "def filter_min_toks(cat_text, min_toks = 3):\n",
    "    new_text = re.sub(url_regex, '', cat_text)\n",
    "    text_l    = re.split(punct_regex, new_text)\n",
    "    \n",
    "    new_text = ' '.join([term for term in new_text.split() if term not in sw])\n",
    "    ptext_l   = re.split(punct_regex, new_text)\n",
    "    text_l   = [text_l[i] for i, sent in enumerate(ptext_l) if len(sent.split()) > min_toks]\n",
    "    \n",
    "    return text_l"
   ]
  },
  {
   "cell_type": "markdown",
   "id": "e57b6db9",
   "metadata": {},
   "source": [
    "# Data Processing "
   ]
  },
  {
   "cell_type": "code",
   "execution_count": 96,
   "id": "f84b0458",
   "metadata": {},
   "outputs": [
    {
     "name": "stderr",
     "output_type": "stream",
     "text": [
      "100%|██████████████████████████████████████████████████████████████████████████████| 1199/1199 [00:18<00:00, 64.38it/s]\n"
     ]
    }
   ],
   "source": [
    "data['text_proc'] = data['all_texts'].progress_apply(process_texts)\n",
    "data['filt_texts'] = data['all_texts'].progress_apply(filter_min_toks)"
   ]
  },
  {
   "cell_type": "code",
   "execution_count": 81,
   "id": "06476abd",
   "metadata": {},
   "outputs": [],
   "source": [
    "vect = TfidfVectorizer(min_df = 3, max_df = 0.8)\n",
    "vect = vect.fit(data['text_proc'].fillna(''))"
   ]
  },
  {
   "cell_type": "markdown",
   "id": "31e52794",
   "metadata": {},
   "source": [
    "# Model Definition"
   ]
  },
  {
   "cell_type": "code",
   "execution_count": 98,
   "id": "26c15ce9",
   "metadata": {},
   "outputs": [],
   "source": [
    "class EGCOS():\n",
    "    \n",
    "    def __init__(self, vectorizer):\n",
    "        self.PUNCT_REGEX = '\\s*[\\.\\?\\!\\|\\n\\:]\\s*[\\.\\?\\!\\|\\n\\:]*\\s*'\n",
    "\n",
    "        self.vectorizer = vectorizer\n",
    "        \n",
    "        \n",
    "    def predict(self, text, src_text = None):\n",
    "        text_l = re.split(self.PUNCT_REGEX, text) if isinstance(text, str) else text\n",
    "        if src_text:\n",
    "            src_text_l = re.split(self.PUNCT_REGEX, src_text) if isinstance(src_text, str) else src_text\n",
    "        \n",
    "        text_bows = self.vectorizer.transform(text_l)\n",
    "        text_bows = normalize(text_bows, norm = 'l1', axis = 1)\n",
    "                \n",
    "        split_preds = self.get_factorizer(text_bows)\n",
    "        classes = split_preds.argmax(axis = -1).astype(bool)\n",
    "        \n",
    "        half1 = text_bows[classes]\n",
    "        half2 = text_bows[~classes]\n",
    "        \n",
    "        pair_dists = pairwise_distances(half1, half2, metric = 'cosine')\n",
    "        h1_idx, h2_idx = np.unravel_index(pair_dists.argmax(), pair_dists.shape)\n",
    "        \n",
    "        if src_text:\n",
    "            pred_h1, pred_h2 = np.array(src_text_l)[classes][h1_idx], np.array(src_text_l)[~classes][h2_idx]\n",
    "        else:\n",
    "            pred_h1, pred_h2 = np.array(text_l)[classes][h1_idx], np.array(text_l)[~classes][h2_idx]\n",
    "            \n",
    "        return pred_h1, pred_h2\n",
    "\n",
    "        \n",
    "    def combine_topic_probs(self, probs1, probs2):\n",
    "        combos = itertools.product(probs1, probs2)\n",
    "        combos = [a + b for (a, b) in combos]\n",
    "        combos = np.array(combos).reshape(len(probs1), len(probs2))\n",
    "        \n",
    "        return combos\n",
    "        \n",
    "        \n",
    "    def get_factorizer(self, text_bows):\n",
    "        \n",
    "        factorizer = NMF(n_components = 2, init = 'nndsvd')\n",
    "        return factorizer.fit_transform(text_bows)\n",
    "        \n",
    "        \n",
    "        \n",
    "        "
   ]
  },
  {
   "cell_type": "markdown",
   "id": "4f18a801",
   "metadata": {},
   "source": [
    "# Evaluation "
   ]
  },
  {
   "cell_type": "code",
   "execution_count": 99,
   "id": "49a7e2d5",
   "metadata": {},
   "outputs": [],
   "source": [
    "egcos = EGCOS(vect)"
   ]
  },
  {
   "cell_type": "code",
   "execution_count": 109,
   "id": "1fd4550e",
   "metadata": {},
   "outputs": [],
   "source": [
    "def make_prediction(model, row):\n",
    "    texts = row['text_proc']\n",
    "    \n",
    "    try:\n",
    "        summ_1, summ_2 = model.predict(texts)\n",
    "    except Exception as e:\n",
    "        print(f'Error: {e}')\n",
    "        return ' | '\n",
    "    return summ_1 + ' | ' + summ_2"
   ]
  },
  {
   "cell_type": "code",
   "execution_count": null,
   "id": "ddc48fe7",
   "metadata": {},
   "outputs": [
    {
     "name": "stderr",
     "output_type": "stream",
     "text": [
      "  9%|██████▋                                                                        | 102/1199 [00:31<05:15,  3.47it/s]"
     ]
    },
    {
     "name": "stdout",
     "output_type": "stream",
     "text": [
      "Error: init = 'nndsvd' can only be used when n_components <= min(n_samples, n_features)\n"
     ]
    },
    {
     "name": "stderr",
     "output_type": "stream",
     "text": [
      " 10%|████████                                                                       | 123/1199 [00:38<05:49,  3.08it/s]C:\\Users\\ndeas\\miniconda3\\lib\\site-packages\\sklearn\\decomposition\\_nmf.py:1077: ConvergenceWarning: Maximum number of iterations 200 reached. Increase it to improve convergence.\n",
      "  \" improve convergence.\" % max_iter, ConvergenceWarning)\n",
      " 22%|█████████████████▌                                                             | 267/1199 [01:22<04:34,  3.39it/s]C:\\Users\\ndeas\\miniconda3\\lib\\site-packages\\sklearn\\decomposition\\_nmf.py:1077: ConvergenceWarning: Maximum number of iterations 200 reached. Increase it to improve convergence.\n",
      "  \" improve convergence.\" % max_iter, ConvergenceWarning)\n",
      " 23%|█████████████████▉                                                             | 272/1199 [01:24<04:46,  3.24it/s]"
     ]
    }
   ],
   "source": [
    "predictions = data.progress_apply(lambda row: make_prediction(egcos, row), axis = 1)"
   ]
  },
  {
   "cell_type": "code",
   "execution_count": null,
   "id": "23d0c7f1",
   "metadata": {},
   "outputs": [],
   "source": []
  }
 ],
 "metadata": {
  "kernelspec": {
   "display_name": "Python 3",
   "language": "python",
   "name": "python3"
  },
  "language_info": {
   "codemirror_mode": {
    "name": "ipython",
    "version": 3
   },
   "file_extension": ".py",
   "mimetype": "text/x-python",
   "name": "python",
   "nbconvert_exporter": "python",
   "pygments_lexer": "ipython3",
   "version": "3.7.7"
  }
 },
 "nbformat": 4,
 "nbformat_minor": 5
}
