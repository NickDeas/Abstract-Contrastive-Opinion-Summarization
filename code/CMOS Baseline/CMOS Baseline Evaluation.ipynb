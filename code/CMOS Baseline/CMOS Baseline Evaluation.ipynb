{
 "cells": [
  {
   "cell_type": "code",
   "execution_count": 238,
   "id": "21db2789",
   "metadata": {},
   "outputs": [],
   "source": [
    "import pandas as pd\n",
    "import numpy as np\n",
    "\n",
    "import re\n",
    "\n",
    "from sklearn.feature_extraction.text import CountVectorizer, TfidfVectorizer\n",
    "from sklearn.metrics import pairwise_distances\n",
    "\n",
    "import spacy\n",
    "\n",
    "from tqdm import tqdm\n",
    "tqdm.pandas()\n",
    "\n",
    "from nltk.sentiment.vader import SentimentIntensityAnalyzer\n",
    "\n",
    "import itertools\n",
    "\n",
    "\n",
    "from rouge_score import rouge_scorer\n",
    "from bert_score import score"
   ]
  },
  {
   "cell_type": "markdown",
   "id": "05edb0b9",
   "metadata": {},
   "source": [
    "# Data Loading "
   ]
  },
  {
   "cell_type": "code",
   "execution_count": 5,
   "id": "fbec6a5e",
   "metadata": {},
   "outputs": [],
   "source": [
    "DATA_SOURCE = '../../data/data_clean/polisumm_final.csv'"
   ]
  },
  {
   "cell_type": "code",
   "execution_count": 6,
   "id": "00fec90a",
   "metadata": {},
   "outputs": [],
   "source": [
    "data = pd.read_csv(DATA_SOURCE)"
   ]
  },
  {
   "cell_type": "code",
   "execution_count": 29,
   "id": "955002f1",
   "metadata": {},
   "outputs": [
    {
     "data": {
      "text/plain": [
       "'Mnuchin: Family of 4 could get $3K under virus relief plan\\n https://t.co/aw0mBDABUX|WASHINGTON (AP) — The first federal checks to families could be $3,000 for a family of four under the White House proposal to unleash $1 trillion to shore up households and the U.S. economy amid the\\xa0coronavirus outbreak.\\nhttps://t.co/DPeynf6VZP|@tonetalks @BreakingBrown @JacksonLeeTX18 @JoeBiden so HR-40 was BS and the USA has decided It will pay reparations to everyone but #ADOS 40 Trillion or no vote! https://t.co/xTCQfIiFyH|When thing are better, is this paid back? If not, this will harm Medicare/SS funds. DO NOT TRUST THEM to not use that as an excuse to cut those programs bc COSTS! - \"Businesses would also be allowed to defer payment of the 6.2% employer payroll tax.\" https://t.co/oTCiAz5qid|https://t.co/9iOGn23ozM|It is HI-F\\'ING-LARIOUS to watch Republicans pivot to socialism.   https://t.co/xSuxLLNHVC|#CoronaVirusUpdate\\n#QuarentineLife\\n#UniversalBasicIncome\\n#unemployed\\nTrump &amp; Congress sending $1000 per adult and $500 per child on April 6th &amp; May 18th \\n\\nThank you 🙏🦄 @realDonaldTrump but tell #Mnuchin that\\'s NOT a lot of money for those who have rent\\n\\nhttps://t.co/SxxaP1GeFu|“On first reading, it is not at all pro-worker and instead puts corporations way ahead of workers,”\\n https://t.co/NsOlXTwFBP|McConnell plan: $1,200 payments; $1T rescue takes shape  (from @AP) https://t.co/BJtGBLO8XS|@SenSherrodBrown So Sherrod, in this article @senatemajldr said the first checks would go out April 6th and the second wave would go out in second week of May\\nThey were just a little late on the first set but it did NOT get to whom were supposed to be among the 1st SSI🤔\\nhttps://t.co/SxxaP1GeFu|Family of 4 could get $3K\\n\\nThe payments would be $1,000 per adult and $500 per child so that a family of two parents and two children would receive $3,000, Mnuchin told Fox Business Network. The goal is to get that money out in three weeks, he said.\\n\\nhttps://t.co/DPeynfoxop|WTF  \\n$ Airdrop \\nMcConnell plan: $1,200 payments\\n\\nhttps://t.co/Dj2cPQYyUy|Solid - $1,200 per person and $2,400 for couples https://t.co/68Da62C3fG|In a nation run by \\'leaders\\' who put citizens 1st, money would only go to applicants who pass an #EVerify check. #Illegals could apply to their own gov for relief. Unfortunately our \\'leaders\\' are controlled by donors &amp; the left. #DeportThemAll #coronavirus\\nhttps://t.co/7geUS4pCuh|Next up: Trump’s $1T plan to stabilize economy hit by virus\\n#BreakingNews\\n#Congress\\n#China\\n#Health\\n#Beijing\\n#COVID19\\n#UnitedStates\\n#Wuhan\\n#Travel\\n#Pandemic \\n#Virus\\n#WHO\\n#CoronoaVirus\\n#Evacuations\\n#Quarantine\\n#SARS\\n#Ebola\\nhttps://t.co/jqOlWj3loV|Lawmakers are considering implementing a payment method to Americans in hopes of stimulating the economy. https://t.co/NUx7RAraqW|Direct payments to #EVERYAMERICAN are real. Mitch McConnell just said so.(And whichever party is smartest should call it that.)\\n🌟🇺🇸🏡🇺🇸🌟\\n https://t.co/wBnFX7JJTC|‘While airlines and restaurants are likely to be hard hit, https://t.co/v0BPKvr7Jp Inc announced on Monday that it plans to hire 100,000 workers to deal with a surge of home delivery orders’ https://t.co/4o3S6Nvhlx|Next up: Trump’s $1T plan to stabilize economy hit by virus. https://t.co/lbKxtyYBGR|Trump chce poslat každému dospělému občanovi v Americe  $1,000, podobně jako to udělali v roce 2008 s $600.\\nhttps://t.co/eYA2KKoT56|AP: McConnell unveils economic rescue plan amid virus shutdown https://t.co/6gXGGgDC7j|Be nice if the Corona crisis at least had the upshot of showing people that UBI is actually a good idea.\\n\\nhttps://t.co/lELADcJ327|Congress working on $1 trillion measure to help households and the U.S. economy. Plan would send Americans checks: Payments would be $1,000 per adult and $500 per child so a family of two parents and two children would receive $3,000.\\n\\nhttps://t.co/1SATzDEWyf https://t.co/yEYwtBG05I|https://t.co/vaHDux5Rl0\\n\\nIs it April the 1st yet?\\n\\nI wonder if the #2020Election is going to be cancelled too now due to #Covid_19?|https://t.co/b6H9Zk6bOc|In Feb. 2008, $600 \"payments were directly deposited into bank accounts by the U.S. Internal Revenue Service (IRS) to taxpayers who filed their taxes electronically, or came as paper checks to other taxpayers.\" https://t.co/1MvdJgCocV|Explainer: How the White House can get $1,000 into the hands of every American #YangGangForever https://t.co/Grt8to7xzj|https://t.co/dZBKD55VGv\\n\\nComplete fantasy oh i mean no problem|US proposes mailing out checks of up to $1,000 to American adults.  \\n\\nIn the past providing cash aid has proven to increase economic activity and has eventually had a very mild impact on inflation\\n\\nBut is the situation same now? Wi…https://t.co/SmL9jmg39x https://t.co/c9yWEAynln|$1,000 for every adult US citizen. That’s still over 9,000 times less than what Mike Bloomberg could have given them. \\n\\nWAKE UP America, and smell the math!\\n\\nhttps://t.co/VATOObWn9Q|Good article from Andy Sullivan of @reutersbiz on the state of play of economic policy response to the COVID-19 outbreak. My comment was we need checks to households but also supports to small biz and stronger safety net. Need broad response https://t.co/h3WoDmsDkv|It doesn\\'t matter how many airdrops they do, this $usd Shitcoin is still going to zero \\n\\nhttps://t.co/GB0OC3tZOj|Trump wants to give you a thousand dollars. A thousand dollars ain\\'t shit 💩\\n#TrumpVirus\\n#DowJoans\\n👹👹👹👹\\nhttps://t.co/4SoR5jZ6Lh|@Persuasion_Elli @bobbyfishcher The Economic Stimulus Act of 2008 provided payments averaging $600 per person, injecting more than $100 billion into the economy within a matter of months.\\nhttps://t.co/KJXqxcbzcy|Is this in place of toilet paper? If so, I am all on board.\\nhttps://t.co/irQBLHfEJK|\\u2066@Reuters\\u2069 Just put out this article and not once bothered to mention \\u2066@AndrewYang\\u2069 ... the only candidate that ran on UBI? Now this is TRUMP’s idea? How in the actual fuuuuuu??? #UBIStimulus #YangWasRight #yangang  https://t.co/R1XudsUxP2|\"Senate Majority Leader Mitch McConnell proposed direct payments of $1,200 per person and $2,400 for couples as part of a sweeping Republican response to the coronavirus outbreak\" https://t.co/H11WoEbTag|@placidovg @toniroldanm Siguiendo la estela de Trump\\nhttps://t.co/JzfvFFiFYo|The White House wants to give you $1,000. Here\\'s how it could work https://t.co/xwNQPOteAH|https://t.co/Lzii6rNXr4|.@SenateMajLdr McConnell unveils economic rescue plan amid virus shutdown https://t.co/ogt1hVR7Eo|McConnell plan: $1,200 payments; $1T rescue takes shape https://t.co/G0gymSMFUx https://t.co/PkiBdHGu5j|Mnuchin: Family of 4 could get $3K under virus relief plan (from @AP) https://t.co/4QLdGAf0uG|.... \\'The payments were directly deposited into bank accounts by the U.S. Internal Revenue Service (IRS) to taxpayers who filed their taxes electronically, or came as paper checks to other taxpayers.\\'\\nhttps://t.co/xgLYtgGvww|@anderslindberg https://t.co/w4ez4JIqV4\\n\\nEtt amerikanskt förslag: Ge alla 1000 dollar. Samma sak men med summan 600 dollar gjorde vid finanskrisen.|The White House wants to give you $1,000. Here\\'s how it could work https://t.co/bD1fhKXX1I|@onesimoeduardo @toniroldanm Pues hasta Mr. Trump parece haberse convertido en comunista\\nhttps://t.co/JzfvFFiFYo|Explainer: How the White House can get $1,000 into the hands of... https://t.co/3rE8oAujoK|McConnell plan: $1,200 payments; $1T rescue takes shape  (from @AP) https://t.co/Dp8KIxIhZ7|Family of 4 could get $3,000 under virus relief plan | News Headlines | https://t.co/5ECeyWZsXf https://t.co/bvmb5MYDCX|Mnuchin: Family of 4 could get $3K under virus relief plan (from @AP) Non of them should get squat  https://t.co/RfsS3K4pqL|McConnell unveils economic rescue plan amid virus shutdown https://t.co/gnHRsWmDmI|https://t.co/SmHVfFTr23|The White House wants to give you $1,000. Here\\'s how it could work https://t.co/9hpjcRvPks ok so you want a be president that dont impress me much. what about loking after your shale oilers that are all going bankrupt. speak to your mate putin and get it sorted .|Except it was not the White House who suggested it... Romney did days ago.\\n\\nThe White House wants to give you $1,000. Here\\'s how it could work https://t.co/IrCR9flcif|https://t.co/cDq9HpzQtr|McConnell unveils economic rescue plan amid virus shutdown  (from @AP) https://t.co/7JkjtEggER|The White House wants to give you $1,000. Here\\'s how it could work https://t.co/CDPzragSuv|https://t.co/riHSlIPN1Z|McConnell unveils economic rescue plan amid virus shutdown https://t.co/g2Bjk428Pj|The White House wants to give you $1,000. Here\\'s how it could work https://t.co/smtXFCBJ4d|Called it (again)\\n\\nThe White House wants to give you $1,000. Here\\'s how it could work\\nhttps://t.co/bTwLc1MPSc|@Lodonis @Nerdrotics There\\'s a good chance things like rent, mortgage payments, bills, credit cards, etc may be suspended at some point.\\n\\nThere\\'s also a decent chance the US government will be handing out checks to everyone.|https://t.co/vWBDD7Gsyr|The White House wants to give you $1,000. Here\\'s how it could work https://t.co/aOq7Vr0A2G|The White House wants to give you $1,000. Here\\'s how it could work https://t.co/xDLTAbhWoj|https://t.co/5mPFW4TMM9|The White House wants to give you $1,000. Here\\'s how it could work https://t.co/xvyyR3W6NF|The White House wants to give you $1,000. Here\\'s how it could work https://t.co/RAqavAta7J|https://t.co/II0r3YR0WV|The White House wants to give you $1,000. Here\\'s how it could work https://t.co/jovUSBgq8U|The White House wants to give you $1,000. Here\\'s how it could work https://t.co/I2TtAo0BVH|https://t.co/y2h7EQgSlw|https://t.co/rIf49Q23Wd|\"The rationale for sending out checks now would be to guard against things getting significantly worse, rather than to jumpstart the economy back to normalcy, at least for now. \\n\\nThe drop we’re facing is that big and that sudden.\"\\n\\n(via @latimesopinion) https://t.co/VbStt3cemX|Besides, the government can always try to claw back some of the money after the crisis ends by making some percentage of it taxable for higher-income households, said \\u2066@MichaelRStrain\\u2069, the director of economic policy studies \\u2066@AEI\\u2069.” https://t.co/eNrZdrbjYU|美国政府在讨论给老百姓发钱，抵御疫情，很多美狗又开始忙活了，奔走相告，狗粮大开仓。还没发呢，建国的大嘴巴也不是没见过，等发了再叫。\\n\\n加拿大也发钱，但是只发给在家隔离和失业的人，这合情合理，美国会怎么发，我们拭目以待。而加拿大更倾向于发给企业主，维持就业。\\n\\nhttps://t.co/7dBcFp9w0i|The idea of receiving two $1,000 checks from the U.S. Treasury in April and May is superficially appealing, but a one-time cash infusion of $2,000 really does nothing to address the likelihood that public relief will be needed long past May. https://t.co/hvIYO75K4P|Opinion: Giving everyone a $1,000 check will help the coronavirus downturn. But it\\'s not enough https://t.co/VbStt2UDvp (via @latimesopinion)|Stop 👏 means- 👏 testing 👏 \\n\\nhttps://t.co/4BxWJoFwia|In a @latimes piece on the $1000 checks proposed to help the coronavirus downturn, @JayCShambaugh notes that the current economic disruption is unlike those prior: \"Here, the patriotic thing is to stay at home.... [That’s] very unusual for the economy.” https://t.co/2wcP33TqOE|Democrats\\' destructive obsession with means testing https://t.co/IsYOZ3GzxX|In theory, means testing may seem reasonable but it\\'s not a great idea even in the best of times. @jeffspross explains why means testing will only get in the way of a #coronavirus policy response: https://t.co/f0kH3aRf6H|\"But House Speaker Nancy Pelosi (D-Cali.) \"shot down the suggestion saying she didn\\'t want to write checks to millionaires,\" according to Politico.\"\\n\\nYet the corporations got the biggest bailout? Means testing is a sham.\\n\\n#PelosiMustGo\\n\\nhttps://t.co/h790CSjAsq|@leilacleigh Apparently, they\\'re pushing Biden \"left\". https://t.co/3KR0RtUrdg The other \"left\".|Say no to means testing! \\n\\n#EmergencyUBI is the answer!\\n\\nDon\\'t complicate the process and slow relief in this critical time!\\n\\n#YangWasRight #PeopleVsPelosi #PeopleVsSchumer #SaveWorkers #PPEshortage #SocialDistanacing\\n\\nhttps://t.co/HY9Jx9YKZ2|@sfpelosi If it goes Nancy\\'s way- it will take a very long time to get any help.\\nhttps://t.co/UFC9ObBjIT|“The fact that Pelosi had the chance to lead this charge a week ago &amp; demurred, insisting on means testing as a condition, is blinkered &amp; insane, on both the politics &amp; the policy merits.” \\n\\nDemocrats\\' destructive obsession with means testing https://t.co/Z8Twd8PHjA|@JoeDirtbagLeft @Wayfinder_Moana @goodyweaver @HipHoopin @Jeanne5082 @JoyAnnReid @JoeBiden @neeratanden Remember when CAP wanted to [Means Test] giving Money to Ordinary Communities meaning the 99% that was @neeratanden, @SpeakerPelosi and @ChuckSchumer decision Wall Street owned Neoliberal / Centrist [blue dog] Democrats.\\nhttps://t.co/kbcPNT0C8i|@AndrewCQuinn @senatemajldr Get rid of the means-testing and you’re there. Don’t be like the Democrats. \\n\\nhttps://t.co/4BxWJonVqC|Just dropping by to remind you that you could have gotten a $1,200 relief check already, but Pelosi couldn\\'t means test it. https://t.co/Uj3FdO3Glc #PelosiMustGo #ForceTheVote|@YungAmerica69 @EASTBAYDFRESH https://t.co/mhZWVUA0xU\\n\\nSounds like Nancy Pelosi was only meaning \"Means-tested\" as excluding the rich and giving to the poor.\\n\\nIT doesn\\'t sound like she is saying that bottom-earners shouldn\\'t get the Stimulus. \\n\\nNot sure about the Harris remark you made. \\n\\nBack up with Sources https://t.co/JVReNRjyKg|@LumpyLouish @WhoopiGoldberg @TheView @BernieSanders @USProgressives @SenateDems @SpeakerPelosi @commondreams I know @SpeakerPelosi - it\\'s a big club and #WeThePeasants ain\\'t in it.  @TheDemocrats\\' destructive obsession with #MeansTesting https://t.co/fPfuKyj5yg #CoronavirusReliefBill https://t.co/GqSZRHmORC|I mean, you could argue Biden and Pelosi aren\\'t even liberals, I guess? | \"But House Speaker Nancy Pelosi (D-Cali.) \"shot down the suggestion saying she didn\\'t want to write checks to millionaires,\" according to Politico.\" https://t.co/LZfYd2giDo|“Finally, means testing divides Americans. These kinds of sentiments among citizens are politically poisonous, and make it harder in the long run for the government to do the kind of big public investments necessary to make us all better off.”\\nhttps://t.co/l2q5ZRhA8Q|This is not the time for means testing. Keep it simple and help people fast. Democrats\\' destructive obsession with means testing https://t.co/c71Nu8FUGh|“Means testing, it seems, has rotted Democrats\\' brains.” https://t.co/dGFe4UTShl|@deerhoof Absolutely: means-testing is expensive, slow, divisive, and ultimately misses many of the people it’s supposed to help 🤦\\n\\nhttps://t.co/DcofGpPnhu|https://t.co/rrt66FydMA\\n\"Democrats\\' destructive obsession with means testing. \\nTime to vote down ballot Republican.\\nThey didn\\'t learn with Trump.\\nThey had No clue how much anger was out there.\\nBut they\\'re going to learn...I\\'m the daughter of a King. I\\'ll survive.\\n#NoMeansTesting|@PaulKingsley7 There\\'s always this argument, too. https://t.co/bfjoq5ACqA|Opinion: Giving everyone a $1,000 check will help the coronavirus downturn. But it\\'s not enough https://t.co/ALb3mxB5xZ|Opinion: Giving everyone a $1,000 check will help the coronavirus downturn. But it\\'s not enough https://t.co/sN5AwvLGtm|This was on 3/18. Did Mnuchin change his mind?\\nOpinion: Giving everyone a $1,000 check will help the coronavirus downturn. But it’s not enough\\n https://t.co/ck8qtlw4sp|@paulkrugman You keep pushing the lie that Dems try to address the crisis while they are the ones dithering due to being poisoned with neoliberal ideology: “means testing” is a slogan even Republicans apparently were too smart to buy, but the corporate Dems did🤦\\u200d♀️\\n\\nhttps://t.co/nV17EHUzrX|@HeyBlueshirt @scottlincicome Pelosi is pushing for more targeted tax credits to means test the aid. She\\'s not alone, obviously, but her position gives her some leverage against the universal aid plans.\\n\\nhttps://t.co/VsBkjbBaCz|Democrats\\' destructive obsession with means testing https://t.co/i2RUsH5Z8d|@HausMonster oooh good one. might actually sting if you knew what you were talking about. https://t.co/6bDfDaJNkc \\nthink about it 😘|@krazyheartss @AndrewYang If you have access to the speaker, please, find a way to have this conversation put into the discussion https://t.co/qfSJTT98Ug|@StrikeDebt A sad outcome of PSLF is that it is so difficult to get a state or federal government job. The Democrats are tied to means testing, which produces unnecessary division and resentment (among people left out on purpose). \\n\\nhttps://t.co/9q2VaQapcC|@Mandypop15 @TarvariousWWMT Anger at the Democrats is wholely justified. \\n\\nWhen everybody had their eyes peeled on the news in March and April, Pelosi was pushing means testing the stimulus and making it more to do with tax credits, completely losing the narrative with the public.\\n\\nhttps://t.co/W61rSpdVKK|@IT_not_real @natcassidy https://t.co/2Sj6s1wD1d  She literally immediately shot down the proposal of Obama advisor who wanted direct payment lmao.|@Eman856 @miguel4congress @Nermalone @golikehellmachi So what?\\n\\nWhat\\'s the justification for the existence of the student debt in the first place?  The whole thing is a scam.  Education is not a commodity.\\n\\nYou help the people who need it the most by NOT means testing.\\n\\nhttps://t.co/26dzbq38Lg|everyone want to play team games... but chick shoot down at least a half a dozen proposals in favour of more means testing in march \\n\\nhttps://t.co/K59eZdVM7U|@RevDrBarber @Alyssa_Milano @MoveOn You should talk to your savior @SpeakerPelosi. She doesn\\'t seem to be onboard with handing over any cash anytime soon. Plan on waiting a very long time for help if she gets her way.\\nhttps://t.co/UFC9ObBjIT|@reason Means-testing hurts the poor\\n\\nhttps://t.co/DcofGpPnhu|Means testing, it seems, has rotted Democrats\\' brain  Unfortunately, it\\'s not just Pelosi: Means testing has become a weird fixation among many Democrats.        https://t.co/xgjGF5w0Ec|Democrats like @NancyPelosi want to divide Us with Means-Testing and she’s not only Dem\\n\\nAlso @RoKhanna and Tim Ryan have a Legislation to [Means Test] based on Income.\\n\\nOmg I forgot about @KamalaHarris have another Means-Tests called LIFT Act\\n#coronavirus\\nhttps://t.co/kbcPNT0C8i|@JStein_WaPo Fuld is not my favorite person, but many people need assistance that do not get any/little due to means testing.\\n\\nhttps://t.co/9q2VaQapcC\\n\\nThe Dems need to throw away means-testing and base programs on universality.|In a crisis situation like the one we face with the #coronavirus, direct and universal cash aid is one of the best single policy responses available. In @TheWeek, @jeffspross explains why means testing is counter productive to a policy response: https://t.co/CvWK8m0HZh|@redistributron @Londongal_63 @chrislhayes That is a fact. \"Pay Go\" Nancy Pelosi. \\n\\nPelosi wants to \"means test\" cash aid in response to coronavirus:\\n\\nhttps://t.co/k4Px0ANSku|@Muay_Khaoboy https://t.co/cRothboB2U  This is this issue I’m alluding to. Plenty to find fault with all around but the optics on this are not good.|Well Democrat’s generally it seems https://t.co/b8JE5kycRR|@pairolleth @FlyThaiMMA @NiceQuintilian @alexsalt_ @TulsiGabbard @JoeBiden It literally stacks on top of SSDI and medicare... it\\'s on his webpage.\\n\\nWhat it doesn\\'t stack up on is SSI, which is regressive and means tested.\\nhttps://t.co/V4Yzj7Nghm|@ChrisDJackson @LindseyGrahamSC DO YOU EVER TELL THE WHOLE STORY?\\n\\nGOP IS FULL OF CORRUPT AMORAL VULTURE CAPITALISTS\\n\\nDNC IS FULL OF CORRUPT AMORAL VULTURE CAPITALISTS\\n\\nhttps://t.co/dBjqqLSW2S|@skywaker9 @TheBoobla Pelosi had a knee jerk reaction against universal anything back in March. She wanted everything means tested. She didn’t try. You’re either grossly misremembering, delusional, or you’re gaslighting me. https://t.co/dRqevMvLBs|@j_salvo @ryangrim No they can\\'t. The republican bill didn\\'t have means testing in it. Pelosi and Schumer both blocked the aid package until it was added. https://t.co/3KR0RtUrdg|@JoeBiden #EmergencyUBI #NoMeansTesting #UniversalBasicIncome\\n\\nhttps://t.co/HhFkcnlpf8|Democrats\\' destructive obsession with means testing https://t.co/6ta8EfBrmj https://t.co/6ta8EfBrmj|@Landiggy11 @PhilippAchtel @briebriejoy @BadFaithPod It happened.\\n\\n\"The fact that Pelosi had the chance to lead this charge a week ago and demurred, insisting on means testing as a condition, is blinkered and insane, on both the politics and the policy merits.\"\\n\\nhttps://t.co/QsnQvuly1Z|@ankitjain992 @wrwilcox I think there are both immediate (https://t.co/1ZRVjYzVe4) and longer term (https://t.co/DKLWjwm040) problems|@ChoppLiver @iAmMattN @kittygomechan @scottsantens https://t.co/ob0yQtinYU|@beritharragh @ETTC19 @ryangrim You have these two to thank for it. https://t.co/3KR0RtUrdg It wasn\\'t in the Republican bill, and Pelosi and Schumer both threatened to kill the entire aid package unless means testing was added.|@LindseyBoylan @EricShapiro3 Reduced work hours and was means tested out of any relief. You think I\\'m going to vote in November? Can\\'t tell the lessor of 2 evils anymore.\\nhttps://t.co/nu0iFDv1zo|@UncleChrisPH @_justcarlson @ElementofLoyal @renehermiz @krystalball Means-testing hurts the poor.\\n\\nPay ‘em all, let taxes sort ‘em out.\\n\\nhttps://t.co/DcofGpPnhu|@struthi0camelus @neeratanden @AInfinitum Please show proof it\\'s false. Please no Heritage Foundation report like how you used to implement the ACA. Social Services are means tested by Democrats to leave out the working class. Give me a break with all your lies.\\nhttps://t.co/nu0iFDv1zo|@Jack_W002 @russeski @GenZdemagogue @Joshua4Congress @ShahidForChange I could say the same to you.\\n\\nhttps://t.co/ha2brAxf4P|@TonyVu555 @fartosopher @TrumpWarRoom It was Pelosi that wanted to \"means test\" the stimulus package and delay the money getting in Americans hands https://t.co/b0RamQUIwJ|@gzuckier @JamesTreakle @JoeBiden Oddly it\\'s apparently been the Democrats pushing for means testing.  Which is BAFFLING to me. https://t.co/sdsqsYd2DA|@NattyD13 @Nmacon300 @ShadowTodd Well #PeopleVsPelosi trended because too many Dems are addicted to means-testing at the expense of action...\\n\\nhttps://t.co/zqOCE1kwFm|@jakebackpack Seeing this def just prompted me to donate my ice cream money to @ShahidForChange 🍨✊\\n\\nDecadently cruel thoughtlessness, but not surprising from @SpeakerPelosi who pushed for means-testing the cookie crumbs of #COVID19 aid given to the people: https://t.co/7ySArab3BQ|@stepville @PottedGhost @master_deli Yep, and it also divides society and makes people hate Democrats, which is why these people blaming *us* for Democrats\\' unpopularity is so utterly hypocritical.\\n\\nThey would rather berate us than actually win.\\n\\nhttps://t.co/26dzbq38Lg|@estern53 https://t.co/kUaHfx1XsZ|@master_deli @Leahgreenb This is a bad take, and you should feel bad for taking it.\\n\\nREFRAINING FROM means testing ensures that anyone struggling under their loans is no longer struggling under their loans.\\n\\nMeans testing is poison.\\n\\nhttps://t.co/26dzbq38Lg|@erinnthered @GrandMoffJoseph @JStein_WaPo https://t.co/N6GorvUyLa|Democrats\\' destructive obsession with means testing https://t.co/WVtPfxFhJx|https://t.co/wVmg4RtZoM|@RobGeorge @JamieStelter @patkiernan https://t.co/HhFkcnlpf8|@WokeDon @Publiusish @yoslives @YadzTy @TXCloud @Resistanceee56 https://t.co/47x9Wqc4kS|@PPPDetroit @FemaleBernieBro @EricBoehlert https://t.co/Ovjqd5PINY|@SenSchumer @SpeakerPelosi https://t.co/RmthtTbN6f|#PeopleVsPelosi https://t.co/DXKzetJ2zr|@UnitedAsOne2020 @ateenytina @Stoxen42 @Politics_Polls @YouGovAmerica @TheEconomist https://t.co/xxYqMCjQ2m|Fuck means-testing.\\n\\nDemocrats\\' destructive obsession with means testing\\n https://t.co/rgy0m2zRtj|@ValerieJarrett @SpeakerPelosi https://t.co/8V16iI4nh6|@DalekRaj https://t.co/u4eJ3i1fy5|Democrats\\' destructive obsession with means testing - Yes! Say this again! Needless bureaucracy got us in this mess, it won’t get us out. https://t.co/lQaVDCqE0Q #EmergencyUBI|Democrats\\' destructive obsession with means testing https://t.co/C9ZmeH8LrR|#MeansTesting?  Are you shitting me @SpeakerPelosi?  Democrats\\' destructive obsession with means testing https://t.co/fPfuKyj5yg|Democrats\\' destructive obsession with means testing https://t.co/RHkQhz0sC7|: Democrats\\' destructive obsession with means testing https://t.co/OlyIg6wath|Democrats\\' destructive obsession with means testing\\nhttps://t.co/JNTJRJjnoJ https://t.co/YrNvNFOhWc|Democrats\\' destructive obsession with means testing https://t.co/KhSDVmNM1y|Democrats\\' destructive obsession with means testing https://t.co/ytPx6YAFQE|Democrats\\' destructive obsession with means testing https://t.co/YJn78Qs1za|75 million Americans who don’t earn enough to pay federal income tax, who presumably need the money the most #COVID19 #BailOutThePeople \\nAnalysis | What Trump\\'s Trillion-Dollar Bailout Gets Right, and Wrong https://t.co/uBamYsxrro via @politico|Glad @MikeGrunwald is back on the case. https://t.co/OStk3EGGee? @politico|Republicans would have screamed bloody murder if Obama had written $500 billion worth of checks and simply added the cost to the federal deficit, but under Trump, they’ve stopped warning about debt crises or national bankruptcy or runs on the dollar\\nhttps://t.co/VAuobe1EoM @gop|Analysis | What Trump\\'s Trillion-Dollar Bailout Gets Right, and Wrong\\n\\nIn general, the Trump approach favors aid to businesses over aid to governments or the needy. \\n\\nhttps://t.co/hvRlfUJdP9|Socialist policies are for commies and Bernie bros... also times of global viral outbreak.\\n\\nhttps://t.co/bpuYiVlXYv\\n\\nhttps://t.co/L252c7tFWE\\n\\nhttps://t.co/3zTWqwJgEa|Analysis: The good, the bad—and one very scary aside\\nhttps://t.co/edBlpWQl8r|Analysis | What Trump\\'s Trillion-Dollar Bailout Gets Right, and Wrong https://t.co/Fjr5W8aokk via @politico Let me ask everyone this question, dont we pay taxes every year that we never get back what we paid in, and where does all this money go? Nothing is free in this life|People are already losing their jobs, and money is getting tight, but this time, it seems like Washington might send help in a hurry. @MikeGrunwald breaks down some of the questions raised by Trump’s plan—and also what’s left out of it. https://t.co/3J3WPYbLlH|So what is in the Trump administration\\'s trillion dollar #stimulus?  Read analysis by @MIkeGrunwald.  https://t.co/soOq5fThIW via @politico|@P07H34D @Sunda3709 @LaughAtBrad @wing_patriot @DeidreDeJear @JRS_Iowa https://t.co/AvcvVbrxdA\\n\\nYes, it was, and this is how it happened. Wrong president, right pandemic.|What Trump\\'s trillion stimulus gets right and what it gets wrong by the great @MikeGrunwald \\n\\nhttps://t.co/yxdghAwUpv|It\\'s Christmas time in Congress....https://t.co/INZYEfl0Nn|@Americasian1 @tolovana66 Analysis | What Trump\\'s Trillion-Dollar Bailout Gets Right, and Wrong\\nhttps://t.co/pz3Mq44a7s https://t.co/We4elKtrNo|@CalicheDan @ChristianWalk1r who did this genius ?\\nhttps://t.co/lbl9jvE8tH|@STabbytosavit @cliveboyce77 @SpeakerPelosi Read this article, especially \\'the missing links\\' portion\\nhttps://t.co/RyUN8wASsJ|Giving people $500B: Simple, easy, awesome.\\nLoaning another $500B to businesses with no customers: Not simple, not easy, less awesome.\\nhttps://t.co/UszIp9Dw6C via @politico|Looking at the good (UBI type direct payments to everyday Americans), the bad (cruise ship and casino rescues) and the ugly (potential opportunities for graft and slush-fundery) of Trump\\'s proposed MOAB (mother of all bailouts.) \\nhttps://t.co/lVsJZrVeW7|@golferdawn @louisa_oeffling @ColoradoDavidSu @JonathanSimon14 p.s. would be helpful to post the link 🤣😂🤣\\n\\nhttps://t.co/NCeSedeu1C|The $1 trillion economic package may grant a $1,200 check to all adults, but there are other pieces of the deal that consists of business loans and corporate tax cuts as well. \\n\\nHere is a more in-depth look into Trump\\'s #StimulusPackage https://t.co/kLop5DNOne|@progressivepush Did some research and pretty sure the money put aside by previous admin was not for those that truly needed it. https://t.co/MivsFD99Js|https://t.co/DtKNK1gRht|@geoconserv If you don’t remember the bailouts from 2008 here is a reminder:\\nhttps://t.co/InMR5L0IzO\\n\\nThe new plan:\\nhttps://t.co/Sim3NHztQV\\n\\nProfits over worker pay:\\nhttps://t.co/4S5YVW2flY\\nThis is all easily found. Stop being willfully obtuse.|@CharlesNB_ @SexCounseling https://t.co/NhFXdxR2jL|@SenJoniErnst Who gets this supposed \"bailout\"? Airlines? Leisure Industry? Cruise lines who don\\'t pay taxes in the US as they aren\\'t registered here? Other large businesses? Or will it be going be to the families, the people who need to money to survive? \\nhttps://t.co/K9FyvyLFCQ|@HenryRosoff @SpeakerPelosi https://t.co/0jW4bPYX18|@exdemnewRep @smartgoblin @Oregonian https://t.co/NhFXdxR2jL|@Jared0000001 @Jim_Jordan https://t.co/lbl9jvVbvH|@WhiteHouse @realDonaldTrump Republicans would have screamed bloody murder if Obama had written $500 billion worth of checks and simply added the cost to the federal deficit, but under Trump, they’ve stopped warning about debt crises or national bankruptcy or runs on the dollar\\nhttps://t.co/VAuobe1EoM|@tsutsugofanclub @HoodieGiancarlo How was Obama supposed to stop it if he hadn\\'t even been elected when it passed? \\n\\nhttps://t.co/39Oa4qcMyu|@DaveTelvick [Update: Senate Republicans have now released their own trillion-dollar package.] And barely a decade after the vicious partisan war over Obama’s merely $800 billion The American Recovery and Reinvestment Act,\\nhttps://t.co/EQd9ESX8H7|My new one @politico: What Trump\\'s Trillion-Dollar Bailout Gets Right, and Wrong https://t.co/UszIp9Dw6C|@exdemnewRep @smartgoblin @Oregonian Could you show me real sources not a  meme . He sold his soul to wall street I\\'m right .https://t.co/NhFXdxR2jL ofc you are running your argument is crumbling . All you do is present memes and say \" I am wrong \" even when you are confronted wth facts not a meme .|@deutschisch @riselli1 @PathPDX @gregkellyusa @LLinWood https://t.co/0jW4bPYX18|https://t.co/JK4JgjtMJw|What Trump’s Trillion-Dollar Bailout Gets Right, and Wrong https://t.co/wmxWOQxbdM|Analysis | What Trump\\'s Trillion-Dollar Bailout Gets Right, and Wrong https://t.co/27iqxl4PU1 via @politico|https://t.co/UpHDdH671x|https://t.co/DsojRwY4Dm|👇🏿👇🏿👇🏿👇🏿👇🏿👇🏿👇🏿👇🏿👇🏿👇🏿👇🏿👇🏿👇🏿👇🏿\\nAnalysis | What Trump\\'s Trillion-Dollar Bailout Gets Right, and Wrong https://t.co/jllaQLxATk|https://t.co/3ltWmc9Q3J|What Trump’s Trillion-Dollar Bailout Gets Right, and Wrong - POLITICO https://t.co/xnFrMoVVKZ|POLITICO: Analysis | What Trump\\'s Trillion-Dollar Bailout Gets Right, and Wrong.\\nhttps://t.co/ErMTlDc82s\\n\\nvia @GoogleNews|Analysis | What Trump\\'s Trillion-Dollar Bailout Gets Right, and Wrong https://t.co/QqpUNfmHca via @politico|Analysis | What Trump\\'s Trillion-Dollar Bailout Gets Right, and Wrong https://t.co/l66RdcqXA4 via @politico|Analysis | What Trump\\'s Trillion-Dollar Bailout Gets Right, and Wrong - POLITICO - https://t.co/tH5ZSNjNja|Analysis | What Trump\\'s Trillion-Dollar Bailout Gets Right, and Wrong https://t.co/Qf5B56XVrO via @politico|Analysis | What Trump\\'s Trillion-Dollar Bailout Gets Right, and Wrong https://t.co/2wTlOTPHtS via @politico|https://t.co/V4yjEMVXZw\\nAnalysis | What Trump\\'s Trillion-Dollar Bailout Gets Right, and Wrong\\nhttps://t.co/w9RuKaFHHJ|https://t.co/rIf49Q23Wd|\"The rationale for sending out checks now would be to guard against things getting significantly worse, rather than to jumpstart the economy back to normalcy, at least for now. \\n\\nThe drop we’re facing is that big and that sudden.\"\\n\\n(via @latimesopinion) https://t.co/VbStt3cemX|Besides, the government can always try to claw back some of the money after the crisis ends by making some percentage of it taxable for higher-income households, said \\u2066@MichaelRStrain\\u2069, the director of economic policy studies \\u2066@AEI\\u2069.” https://t.co/eNrZdrbjYU|美国政府在讨论给老百姓发钱，抵御疫情，很多美狗又开始忙活了，奔走相告，狗粮大开仓。还没发呢，建国的大嘴巴也不是没见过，等发了再叫。\\n\\n加拿大也发钱，但是只发给在家隔离和失业的人，这合情合理，美国会怎么发，我们拭目以待。而加拿大更倾向于发给企业主，维持就业。\\n\\nhttps://t.co/7dBcFp9w0i|The idea of receiving two $1,000 checks from the U.S. Treasury in April and May is superficially appealing, but a one-time cash infusion of $2,000 really does nothing to address the likelihood that public relief will be needed long past May. https://t.co/hvIYO75K4P|Opinion: Giving everyone a $1,000 check will help the coronavirus downturn. But it\\'s not enough https://t.co/VbStt2UDvp (via @latimesopinion)|In a @latimes piece on the $1000 checks proposed to help the coronavirus downturn, @JayCShambaugh notes that the current economic disruption is unlike those prior: \"Here, the patriotic thing is to stay at home.... [That’s] very unusual for the economy.” https://t.co/2wcP33TqOE|Opinion: Giving everyone a $1,000 check will help the coronavirus downturn. But it\\'s not enough https://t.co/ALb3mxB5xZ|Opinion: Giving everyone a $1,000 check will help the coronavirus downturn. But it\\'s not enough https://t.co/sN5AwvLGtm|This was on 3/18. Did Mnuchin change his mind?\\nOpinion: Giving everyone a $1,000 check will help the coronavirus downturn. But it’s not enough\\n https://t.co/ck8qtlw4sp'"
      ]
     },
     "execution_count": 29,
     "metadata": {},
     "output_type": "execute_result"
    }
   ],
   "source": [
    "data.iloc[0]['tweet_text']"
   ]
  },
  {
   "cell_type": "markdown",
   "id": "69033df9",
   "metadata": {},
   "source": [
    "# Filter Out Adjectives "
   ]
  },
  {
   "cell_type": "code",
   "execution_count": 64,
   "id": "8163c22c",
   "metadata": {},
   "outputs": [],
   "source": [
    "nlp = spacy.load('en_core_web_sm')\n",
    "url_regex = r'https?:\\/\\/\\S*'"
   ]
  },
  {
   "cell_type": "code",
   "execution_count": 283,
   "id": "a5e58b35",
   "metadata": {},
   "outputs": [],
   "source": [
    "def remove_sal_terms(text):\n",
    "    doc = nlp(text)\n",
    "    new_doc = []\n",
    "    for token in doc:\n",
    "        if token.pos_ != 'ADJ' and token.dep_ != 'neg':\n",
    "            new_doc.append(token.text)\n",
    "    \n",
    "    return ' '.join(new_doc)\n",
    "\n",
    "def process_text(text):\n",
    "    text = re.sub(url_regex, '', str(text))\n",
    "    text_l = re.split(punct_regex, text)\n",
    "    text_l = [t for t in text_l if t not in ('', ' ')]\n",
    "    \n",
    "    new_text_l = []\n",
    "    \n",
    "    for single_text in text_l:\n",
    "        new_text_l.append(remove_sal_terms(single_text))\n",
    "    \n",
    "    return ' | '.join(new_text_l)"
   ]
  },
  {
   "cell_type": "code",
   "execution_count": null,
   "id": "18b091f8",
   "metadata": {},
   "outputs": [
    {
     "name": "stderr",
     "output_type": "stream",
     "text": [
      "  2%|█▎                                                                            | 20/1199 [02:52<4:27:27, 13.61s/it]"
     ]
    }
   ],
   "source": [
    "data['tweet_text_proc'] = data['tweet_text'].progress_apply(process_text)\n",
    "data['reddit_text_proc'] = data['reddit_text'].progress_apply(process_text)"
   ]
  },
  {
   "cell_type": "code",
   "execution_count": null,
   "id": "93bc09b0",
   "metadata": {},
   "outputs": [],
   "source": [
    "data.to_csv('../../data/data_clean/polisumm_final_cmos.csv', index = None)"
   ]
  },
  {
   "cell_type": "markdown",
   "id": "c528dee6",
   "metadata": {},
   "source": [
    "# Sentiment for Sorting"
   ]
  },
  {
   "cell_type": "code",
   "execution_count": null,
   "id": "7e72e53f",
   "metadata": {},
   "outputs": [],
   "source": [
    "punct_regex = '\\s*[\\.\\?\\!\\|\\n\\:]\\s*[\\.\\?\\!\\|\\n\\:]*\\s*'"
   ]
  },
  {
   "cell_type": "code",
   "execution_count": null,
   "id": "f9e7102e",
   "metadata": {},
   "outputs": [],
   "source": [
    "sid = SentimentIntensityAnalyzer()"
   ]
  },
  {
   "cell_type": "code",
   "execution_count": null,
   "id": "739514e2",
   "metadata": {},
   "outputs": [],
   "source": [
    "def get_sentiments(text):\n",
    "    text = re.sub(url_regex, '', str(text))\n",
    "    text_l = re.split(punct_regex, text)\n",
    "    text_l = [t for t in text_l if t != '']\n",
    "    \n",
    "    sent_scores = []\n",
    "    for sent in text_l:\n",
    "        sentiments = sid.polarity_scores(sent)\n",
    "        sent_scores.append(sentiments)\n",
    "    \n",
    "    return sent_scores"
   ]
  },
  {
   "cell_type": "code",
   "execution_count": null,
   "id": "a6ea232f",
   "metadata": {},
   "outputs": [],
   "source": [
    "data['tweet_sent_scores'] = data['tweet_text'].progress_apply(get_sentiments)\n",
    "data['reddit_sent_scores'] = data['reddit_text'].progress_apply(get_sentiments)"
   ]
  },
  {
   "cell_type": "code",
   "execution_count": null,
   "id": "92f460d7",
   "metadata": {},
   "outputs": [],
   "source": [
    "data.to_csv('../../data/data_clean/polisumm_final_cmos.csv', index = None)"
   ]
  },
  {
   "cell_type": "markdown",
   "id": "f4d6567a",
   "metadata": {},
   "source": [
    "# Combine "
   ]
  },
  {
   "cell_type": "code",
   "execution_count": null,
   "id": "71af3133",
   "metadata": {},
   "outputs": [],
   "source": [
    "def combine_sents(row):\n",
    "    sent_tw = row['tweet_sent_scores']\n",
    "    sent_rd = row['reddit_sent_scores']\n",
    "    return (sent_tw + sent_rd)"
   ]
  },
  {
   "cell_type": "code",
   "execution_count": null,
   "id": "9c30a548",
   "metadata": {},
   "outputs": [],
   "source": [
    "# data['all_texts'] = data['tweet_text'] + ' ' + data['reddit_text']\n",
    "data['all_texts_proc'] = data['tweet_text_proc'].fillna('') + ' ' + data['reddit_text_proc'].fillna('')\n",
    "# data['all_sent_scores'] = data.progress_apply(combine_sents, axis = 1)"
   ]
  },
  {
   "cell_type": "code",
   "execution_count": null,
   "id": "e45b6352",
   "metadata": {},
   "outputs": [],
   "source": [
    "data['tweet_text_proc']"
   ]
  },
  {
   "cell_type": "code",
   "execution_count": null,
   "id": "3d7360aa",
   "metadata": {},
   "outputs": [],
   "source": [
    "data['all_texts_proc']"
   ]
  },
  {
   "cell_type": "markdown",
   "id": "f287dc4c",
   "metadata": {},
   "source": [
    "# Vectorizer Training "
   ]
  },
  {
   "cell_type": "code",
   "execution_count": 271,
   "id": "1978942c",
   "metadata": {},
   "outputs": [],
   "source": [
    "vect = CountVectorizer(min_df = 5, max_df = 0.8)\n",
    "tf_vect = CountVectorizer(min_df = 5, max_df = 0.8)"
   ]
  },
  {
   "cell_type": "code",
   "execution_count": 272,
   "id": "c65c83fd",
   "metadata": {},
   "outputs": [],
   "source": [
    "vect = vect.fit(data['all_texts_proc'])\n",
    "tf_vect = tf_vect.fit(data['all_texts_proc'])"
   ]
  },
  {
   "cell_type": "markdown",
   "id": "1fb22055",
   "metadata": {},
   "source": [
    "# CMOS Model "
   ]
  },
  {
   "cell_type": "code",
   "execution_count": 273,
   "id": "acf021a0",
   "metadata": {},
   "outputs": [],
   "source": [
    "class CMOS():\n",
    "    \n",
    "    def __init__(self, lambda_w, vectorizer):\n",
    "        self.lambda_w = lambda_w\n",
    "        self.vectorizer = vectorizer\n",
    "        self.PUNCT_REGEX = '\\s*[\\.\\?\\!\\|\\n\\:]\\s*[\\.\\?\\!\\|\\n\\:]*\\s*'\n",
    "    \n",
    "    def predict(self, text, sentiments):\n",
    "        '''\n",
    "            Text should not contain adjectives or negations\n",
    "        '''\n",
    "        \n",
    "        text_l = self.split_text(text) if isinstance(text, str) else text\n",
    "        \n",
    "        sent_scores = [sent['compound'] for sent in sentiments]\n",
    "        \n",
    "        assert len(text_l) == len(sent_scores), 'Text and sentiment scores are of different lengths'\n",
    "        \n",
    "        text_sents = [(stext, ssent) for stext, ssent in zip(text_l, sent_scores)]\n",
    "        text_sents.sort(key = lambda pair: pair[1])\n",
    "        \n",
    "        half1 = [t[0] for t in text_sents[:len(text_sents)//2]]\n",
    "        half2 = [t[0] for t in text_sents[len(text_sents)//2:]]\n",
    "        \n",
    "        half1_bows = self.get_vecs(half1)\n",
    "        half2_bows = self.get_vecs(half2)\n",
    "        \n",
    "        half1_cs = self.calc_cos_sims(half1_bows)\n",
    "        half2_cs = self.calc_cos_sims(half2_bows)\n",
    "        sum_cs   = self.combine_cos_sims(half1_cs, half2_cs)\n",
    "        \n",
    "        dist_cs  = self.calc_cos_dists(half1_bows, half2_bows)\n",
    "        \n",
    "        all_scores    = sum_cs + 2 * self.lambda_w * dist_cs\n",
    "        h1_idx, h2_idx = np.unravel_index(all_scores.argmax(), all_scores.shape)\n",
    "        \n",
    "        return half1[h1_idx], half2[h2_idx]\n",
    "    \n",
    "    def calc_cos_sims(self, bows):\n",
    "        sims = 1. - pairwise_distances(bows, metric = 'cosine')\n",
    "        sims = sims.mean(-1)\n",
    "        return sims\n",
    "    \n",
    "    def combine_cos_sims(self, cs1s, cs2s):\n",
    "        combos = itertools.product(cs1s, cs2s)\n",
    "        combos = [a + b for (a, b) in combos]\n",
    "        combos = np.array(combos).reshape(len(cs1s), len(cs2s))\n",
    "        return combos\n",
    "    \n",
    "    def calc_cos_dists(self, bows1, bows2):\n",
    "        dists = pairwise_distances(bows1, bows2, metric = 'cosine')\n",
    "        return dists\n",
    "    \n",
    "    def get_vecs(self, text_list):\n",
    "        return self.vectorizer.transform(text_list)\n",
    "    \n",
    "    def split_text(self, text):\n",
    "        text_l = re.split(self.PUNCT_REGEX, text)\n",
    "        text_l = [t for t in text_l if t != '']\n",
    "        return text_l"
   ]
  },
  {
   "cell_type": "markdown",
   "id": "1f12fa31",
   "metadata": {},
   "source": [
    "# Evaluation "
   ]
  },
  {
   "cell_type": "code",
   "execution_count": 274,
   "id": "cea4ddd3",
   "metadata": {},
   "outputs": [],
   "source": [
    "cmos    = CMOS(0.5, vect)\n",
    "tf_cmos = CMOS(0.5, tf_vect)"
   ]
  },
  {
   "cell_type": "code",
   "execution_count": 275,
   "id": "7ffb0339",
   "metadata": {},
   "outputs": [],
   "source": [
    "refs = data['left_sum'] + ' | ' + data['right_sum']"
   ]
  },
  {
   "cell_type": "code",
   "execution_count": 279,
   "id": "fa19d17f",
   "metadata": {},
   "outputs": [],
   "source": [
    "def make_prediction(model, row):\n",
    "    text = row['all_texts_proc']\n",
    "    sent_scores = row['all_sent_scores']\n",
    "    \n",
    "    summ_1, summ_2 = model.predict(text, sent_scores)\n",
    "    return summ_1 + ' | ' + summ_2"
   ]
  },
  {
   "cell_type": "code",
   "execution_count": 280,
   "id": "682909d8",
   "metadata": {},
   "outputs": [
    {
     "name": "stderr",
     "output_type": "stream",
     "text": [
      "  0%|                                                                                | 1/1199 [00:00<00:08, 133.56it/s]"
     ]
    },
    {
     "name": "stdout",
     "output_type": "stream",
     "text": [
      " | Family of 4 could get $ 3 K under virus relief plan | ( AP ) — The checks to families could be $ 3,000 for a family of four under the White House proposal to unleash $ 1 trillion to shore up households and the U | S | economy amid the   coronavirus outbreak | @JacksonLeeTX18 @JoeBiden so HR-40 was BS and the USA has decided It will pay reparations to everyone but # ADOS 40 Trillion or no vote | thing are , is this paid back | If not , this will harm Medicare / SS funds | DO TRUST THEM to use that as an excuse to cut those programs bc COSTS | - \" Businesses would also be allowed to defer payment of the 6 | 2 % employer payroll tax | \"   is HI - F'ING - LARIOUS to watch Republicans pivot to socialism | # QuarentineLife | # | # | Trump & amp ; Congress sending $ 1000 per adult and $ 500 per child on April 6th & amp ; May 18th | Thank you 🙏 🦄 @realDonaldTrump but tell # Mnuchin that 's a lot of money for those who have rent | reading , it is at all and instead puts corporations way ahead of workers , ” | plan | $ 1,200 payments ; $ 1 T rescue takes shape   ( from @AP )   So Sherrod , in this article @senatemajldr said the checks would go out April 6th and the wave would go out in week of May | They were just a late on the set but it did get to whom were supposed to be among the SSI 🤔 | of 4 could get $ 3 K | The payments would be $ 1,000 per adult and $ 500 per child so that a family of two parents and two children would receive $ 3,000 , Mnuchin told Fox Business Network | The goal is to get that money out in three weeks , he said | $ Airdrop | McConnell plan | $ 1,200 payments | - $ 1,200 per person and $ 2,400 for couples   a nation run by ' leaders ' who put citizens 1st , money would only go to applicants who pass an # EVerify check | # Illegals could apply to their gov for relief | Unfortunately our ' leaders ' are controlled by donors & amp ; the | # DeportThemAll # coronavirus | up | Trump ’s $ 1 T plan to stabilize economy hit by virus | # BreakingNews | # Congress | # China | # Health | # Beijing | # COVID19 | # UnitedStates | # Wuhan | # Travel | # | # Virus | # WHO | # CoronoaVirus | # Evacuations | # Quarantine | # SARS | # Ebola | are considering implementing a payment method to Americans in hopes of stimulating the economy | payments to # EVERYAMERICAN are | Mitch McConnell just said so | ( And whichever party is should call it that | ) | 🌟 🇺 🇸 🏡 🇺 🇸 🌟 | airlines and restaurants are to be hard hit ,   Inc announced on Monday that it plans to hire 100,000 workers to deal with a surge of home delivery orders ’   up | Trump ’s $ 1 T plan to stabilize economy hit by virus | chce poslat každému občanovi v Americe   $ 1,000 , podobně jako to v roce 2008 s $ 600 | McConnell unveils rescue plan amid virus shutdown   if the Corona crisis at had the upshot of showing people that UBI is actually a idea | working on $ 1 trillion measure to help households and the U | S | economy | Plan would send Americans checks | Payments would be $ 1,000 per adult and $ 500 per child so a family of two parents and two children would receive $ 3,000 | Is it April the 1st yet | I wonder if the # 2020Election is going to be cancelled too now to # | Feb | 2008 , $ 600 \" payments were directly deposited into bank accounts by the U | S | Internal Revenue Service ( IRS ) to taxpayers who filed their taxes electronically , or came as paper checks to taxpayers | \"   How the White House can get $ 1,000 into the hands of every American # YangGangForever | fantasy oh i mean no problem | US proposes mailing out checks of up to $ 1,000 to adults | In the past providing cash aid has proven to increase activity and has eventually had a very impact on inflation | But is the situation now | Wi …   for every adult US citizen | That ’s still over 9,000 times than what Mike Bloomberg could have given them | WAKE UP America , and smell the math | article from Andy Sullivan of @reutersbiz on the state of play of policy response to the COVID-19 outbreak | My comment was we need checks to households but also supports to biz and safety net | Need response   does matter how airdrops they do , this $ usd Shitcoin is still going to zero | wants to give you a thousand dollars | A thousand dollars ai shit 💩 | # TrumpVirus | # DowJoans | 👹 👹 👹 👹 | @bobbyfishcher The Economic Stimulus Act of 2008 provided payments averaging $ 600 per person , injecting than $ 100 billion into the economy within a matter of months | this in place of toilet paper | If so , I am all on board | Just put out this article and once bothered to mention ⁦@AndrewYang⁩ | the candidate that ran on UBI | Now this is TRUMP ’s idea | How in the fuuuuuu | # UBIStimulus # YangWasRight # yangang    Majority Leader Mitch McConnell proposed payments of $ 1,200 per person and $ 2,400 for couples as part of a response to the coronavirus outbreak \"   @toniroldanm Siguiendo la estela de Trump | White House wants to give you $ 1,000 | Here 's how it could work   McConnell unveils rescue plan amid virus shutdown   plan | $ 1,200 payments ; $ 1 T rescue takes shape    Family of 4 could get $ 3 K under virus relief plan ( from @AP )   ' The payments were directly deposited into bank accounts by the U | S | Internal Revenue Service ( IRS ) to taxpayers who filed their taxes electronically , or came as paper checks to taxpayers | ' | Ett amerikanskt förslag | Ge alla 1000 dollar | Samma men med summan 600 dollar gjorde vid | The White House wants to give you $ 1,000 | Here 's how it could work   @toniroldanm Pues hasta Mr | Trump parece haberse convertido en comunista | How the White House can get $ 1,000 into the hands of | plan | $ 1,200 payments ; $ 1 T rescue takes shape   ( from @AP )   of 4 could get $ 3,000 under virus relief plan | News Headlines | Family of 4 could get $ 3 K under virus relief plan ( from @AP ) Non of them should get    unveils rescue plan amid virus shutdown   White House wants to give you $ 1,000 | Here 's how it could work   ok so you want a be president that do impress me | what about loking after your shale oilers that are all going | speak to your mate putin and get it sorted | Except it was the White House who suggested it | Romney did days ago | The White House wants to give you $ 1,000 | Here 's how it could work   unveils rescue plan amid virus shutdown   ( from @AP )   White House wants to give you $ 1,000 | Here 's how it could work   unveils rescue plan amid virus shutdown   White House wants to give you $ 1,000 | Here 's how it could work   it ( again ) | The White House wants to give you $ 1,000 | Here 's how it could work | @Nerdrotics There 's a chance things like rent , mortgage payments , bills , credit cards , etc may be suspended at some point | There 's also a chance the US government will be handing out checks to everyone | White House wants to give you $ 1,000 | Here 's how it could work   White House wants to give you $ 1,000 | Here 's how it could work   White House wants to give you $ 1,000 | Here 's how it could work   White House wants to give you $ 1,000 | Here 's how it could work   White House wants to give you $ 1,000 | Here 's how it could work   White House wants to give you $ 1,000 | Here 's how it could work   rationale for sending out checks now would be to guard against things getting significantly , rather than to jumpstart the economy back to normalcy , at for now | The drop we ’re facing is that and that sudden | \" | ( via @latimesopinion )   the government can always try to claw back some of the money after the crisis ends by making some percentage of it for - income households , said ⁦@MichaelRStrain⁩ , the director of policy studies ⁦@AEI⁩ | ” | 加拿大也发钱，但是只发给在家隔离和失业的人，这合情合理，美国会怎么发，我们拭目以待。而加拿大更倾向于发给企业主，维持就业 。 | idea of receiving two $ 1,000 checks from the U | S | Treasury in April and May is superficially , but a one - time cash infusion of $ 2,000 really does nothing to address the likelihood that relief will be needed long May | Giving everyone a $ 1,000 check will help the coronavirus downturn | But it 's   ( via @latimesopinion ) | Stop 👏 means- 👏 testing 👏 | a @latimes piece on the $ 1000 checks proposed to help the coronavirus downturn , @JayCShambaugh notes that the disruption is unlike those | \" Here , the thing is to stay at home | [ That ’s ] very for the economy | ”   obsession with means testing   theory , means testing may seem but it 's a idea even in the of times | @jeffspross explains why means testing will only get in the way of a # coronavirus policy response | House Speaker Nancy Pelosi ( D - Cali | ) \" shot down the suggestion saying she did want to write checks to millionaires , \" according to Politico | \" | Yet the corporations got the bailout | Means testing is a sham | # PelosiMustGo | Apparently , they 're pushing Biden \" left \" | The \" \" | Say no to means testing | # EmergencyUBI is the answer | Do complicate the process and relief in this time | # YangWasRight # PeopleVsPelosi # PeopleVsSchumer # SaveWorkers # PPEshortage # SocialDistanacing | If it goes Nancy 's way- it will take a very time to get any help | fact that Pelosi had the chance to lead this charge a week ago & amp ; demurred , insisting on means testing as a condition , is blinkered & amp ; insane , on both the politics & amp ; the policy merits | ” | Democrats ' obsession with means testing   @Wayfinder_Moana @goodyweaver @HipHoopin @Jeanne5082 @JoyAnnReid @JoeBiden @neeratanden Remember when CAP wanted to [ Means Test ] giving Money to Communities meaning the 99 % that was @neeratanden , @SpeakerPelosi and @ChuckSchumer decision Wall Street owned Neoliberal / Centrist [ dog ] Democrats | @senatemajldr Get rid of the means - testing and you ’re there | Do be like the Democrats | dropping by to remind you that you could have gotten a $ 1,200 relief check already , but Pelosi could means test it | # PelosiMustGo # ForceTheVote | @YungAmerica69 @EASTBAYDFRESH | Sounds like Nancy Pelosi was only meaning \" Means - tested \" as excluding the and giving to the | IT does sound like she is saying that bottom - earners should get the Stimulus | about the Harris remark you made | Back up with Sources   @WhoopiGoldberg @TheView @BernieSanders @USProgressives @SenateDems @SpeakerPelosi @commondreams I know @SpeakerPelosi - it 's a club and # WeThePeasants ai in it | @TheDemocrats ' obsession with # MeansTesting   # CoronavirusReliefBill   mean , you could argue Biden and Pelosi are even liberals , I guess | \" But House Speaker Nancy Pelosi ( D - Cali | ) \" shot down the suggestion saying she did want to write checks to millionaires , \" according to Politico | \"   means testing divides Americans | These kinds of sentiments among citizens are politically , and make it in the run for the government to do the kind of investments to make us all off | ” | is the time for means testing | Keep it and help people fast | Democrats ' obsession with means testing   testing , it seems , has rotted Democrats ' brains | ”   Absolutely | means - testing is , , , and ultimately misses of the people it ’s supposed to help 🤦 | \" Democrats ' obsession with means testing | Time to vote down ballot Republican | They did learn with Trump | They had No clue how anger was out there | But they 're going to learn | I 'm the daughter of a King | I 'll survive | # NoMeansTesting | @PaulKingsley7 There 's always this argument , too | Giving everyone a $ 1,000 check will help the coronavirus downturn | But it 's   Giving everyone a $ 1,000 check will help the coronavirus downturn | But it 's   was on 3/18 | Did Mnuchin change his mind | Opinion | Giving everyone a $ 1,000 check will help the coronavirus downturn | But it ’s | You keep pushing the lie that Dems try to address the crisis while they are the ones dithering due to being poisoned with ideology | “ means testing ” is a slogan even Republicans apparently were too to buy , but the corporate Dems did 🤦 ‍ ♀ ️ | @scottlincicome Pelosi is pushing for more tax credits to means test the aid | She 's , obviously , but her position gives her some leverage against the aid plans | obsession with means testing   oooh one | might actually sting if you knew what you were talking about | think about it 😘 | @AndrewYang If you have access to the speaker , please , find a way to have this conversation put into the discussion   A outcome of PSLF is that it is so to get a state or government job | The Democrats are tied to means testing , which produces division and resentment ( among people left out on purpose ) | @TarvariousWWMT Anger at the Democrats is wholely | When everybody had their eyes peeled on the news in March and April , Pelosi was pushing means testing the stimulus and making it to do with tax credits , completely losing the narrative with the public | @natcassidy    She literally immediately shot down the proposal of Obama advisor who wanted payment lmao | @Eman856 @miguel4congress @Nermalone @golikehellmachi So what | What 's the justification for the existence of the student debt in the place | The thing is a scam | Education is a commodity | You help the people who need it the most by means testing | want to play team games | but shoot down at a half a dozen proposals in favour of means testing in march | @Alyssa_Milano @MoveOn You should talk to your savior @SpeakerPelosi | She does seem to be onboard with handing over any cash anytime soon | Plan on waiting a very time for help if she gets her way | Means - testing hurts the | testing , it seems , has rotted Democrats ' brain   Unfortunately , it 's just Pelosi | Means testing has become a fixation among Democrats | like @NancyPelosi want to divide Us with Means - Testing and she ’s only | Also @RoKhanna and Tim Ryan have a Legislation to [ Means Test ] based on Income | Omg I forgot about @KamalaHarris have another Means - Tests called LIFT Act | # coronavirus | Fuld is my person , but people need assistance that do get any / to means testing | The Dems need to throw away means - testing and base programs on universality | In a crisis situation like the one we face with the # coronavirus , and cash aid is one of the policy responses | In @TheWeek , @jeffspross explains why means testing is to a policy response | @Londongal_63 @chrislhayes That is a fact | \" Pay Go \" Nancy Pelosi | Pelosi wants to \" means test \" cash aid in response to coronavirus | This is this issue I ’m alluding to | Plenty to find fault with all around but the optics on this are | Well Democrat ’s generally it seems   @FlyThaiMMA @NiceQuintilian @alexsalt _ @TulsiGabbard @JoeBiden It literally stacks on top of SSDI and medicare | it 's on his webpage | What it does stack up on is SSI , which is and means tested | @LindseyGrahamSC DO YOU EVER TELL THE WHOLE STORY | GOP IS OF CORRUPT AMORAL VULTURE CAPITALISTS | DNC IS OF CORRUPT AMORAL VULTURE CAPITALISTS | @TheBoobla Pelosi had a knee jerk reaction against anything back in March | She wanted everything means tested | She did try | You ’re either grossly misremembering , , or you ’re gaslighting me | @ryangrim No they ca | The bill did have means testing in it | Pelosi and Schumer both blocked the aid package until it was added | # EmergencyUBI # NoMeansTesting # UniversalBasicIncome | obsession with means testing    @PhilippAchtel @briebriejoy @BadFaithPod It happened | \" The fact that Pelosi had the chance to lead this charge a week ago and demurred , insisting on means testing as a condition , is blinkered and , on both the politics and the policy merits | \" | @wrwilcox I think there are both ( and term ( problems | @ChoppLiver @iAmMattN @kittygomechan @scottsantens   @ETTC19 @ryangrim You have these two to thank for it | It was in the bill , and Pelosi and Schumer both threatened to kill the aid package unless means testing was added | @LindseyBoylan @EricShapiro3 Reduced work hours and was means tested out of any relief | You think I 'm going to vote in November | Ca tell the lessor of 2 evils anymore | @_justcarlson @renehermiz @krystalball Means - testing hurts the | Pay ‘ em all , let taxes sort ‘ em out | @neeratanden @AInfinitum Please show proof it 's | Please no Heritage Foundation report like how you used to implement the ACA | Social Services are means tested by Democrats to leave out the working class | Give me a break with all your lies | @russeski @GenZdemagogue @Joshua4Congress @ShahidForChange I could say the to you | @fartosopher @TrumpWarRoom It was Pelosi that wanted to \" means test \" the package and delay the money getting in Americans hands   @JamesTreakle @JoeBiden Oddly it 's apparently been the Democrats pushing for means testing | Which is BAFFLING to me | @Nmacon300 @ShadowTodd Well # PeopleVsPelosi trended because too Dems are addicted to means - testing at the expense of action | Seeing this def just prompted me to donate my ice cream money to @ShahidForChange 🍨 ✊ | Decadently thoughtlessness , but from @SpeakerPelosi who pushed for means - testing the cookie crumbs of # COVID19 aid given to the people | @PottedGhost @master_deli Yep , and it also divides society and makes people hate Democrats , which is why these people blaming * us * for Democrats ' unpopularity is so utterly | They would rather berate us than actually win | @Leahgreenb This is a take , and you should feel for taking it | REFRAINING FROM means testing ensures that anyone struggling under their loans is longer struggling under their loans | Means testing is poison | @GrandMoffJoseph @JStein_WaPo   obsession with means testing   @JamieStelter @patkiernan   @Publiusish @yoslives @YadzTy @TXCloud @Resistanceee56   @FemaleBernieBro @EricBoehlert   @SpeakerPelosi    @ateenytina @Stoxen42 @Politics_Polls @YouGovAmerica @TheEconomist   means - testing | Democrats ' obsession with means testing | @SpeakerPelosi    obsession with means testing - Yes | Say this again | bureaucracy got us in this mess , it wo get us out | # EmergencyUBI | Democrats ' obsession with means testing    Are you shitting me @SpeakerPelosi | Democrats ' obsession with means testing   obsession with means testing   Democrats ' obsession with means testing   obsession with means testing | obsession with means testing   obsession with means testing   obsession with means testing   million Americans who do earn to pay income tax , who presumably need the money the most # COVID19 # BailOutThePeople | Analysis | What Trump 's Trillion - Dollar Bailout Gets , and Wrong   via @politico | Glad @MikeGrunwald is back on the case | @politico | Republicans would have screamed murder if Obama had written $ 500 billion worth of checks and simply added the cost to the deficit , but under Trump , they ’ve stopped warning about debt crises or bankruptcy or runs on the dollar | @gop | Analysis | What Trump 's Trillion - Dollar Bailout Gets , and Wrong | In , the Trump approach favors aid to businesses over aid to governments or the | policies are for commies and Bernie bros | also times of outbreak | The , the — and one very aside | What Trump 's Trillion - Dollar Bailout Gets , and Wrong   via @politico Let me ask everyone this question , do we pay taxes every year that we get back what we paid in , and where does all this money go | Nothing is in this life | People are already losing their jobs , and money is getting , but this time , it seems like Washington might send help in a hurry | breaks down some of the questions raised by Trump ’s plan — and also what ’s left out of it | what is in the Trump administration 's trillion dollar # stimulus | Read analysis by @MIkeGrunwald | via @politico | @P07H34D @Sunda3709 @LaughAtBrad @wing_patriot @DeidreDeJear @JRS_Iowa | Yes , it was , and this is how it happened | president , right | What Trump 's trillion stimulus gets and what it gets by the @MikeGrunwald | Christmas time in Congress | @tolovana66 Analysis | What Trump 's Trillion - Dollar Bailout Gets , and Wrong | @ChristianWalk1r who did this genius | @cliveboyce77 @SpeakerPelosi Read this article , especially ' the missing links ' portion | people $ 500B | , , | Loaning another $ 500B to businesses with no customers | , , less | via @politico | Looking at the ( UBI type payments to Americans ) , the ( cruise ship and casino rescues ) and the ( opportunities for graft and slush - ) of Trump 's proposed MOAB ( mother of all bailouts | ) | @louisa_oeffling @ColoradoDavidSu @JonathanSimon14 p | s | would be to post the link 🤣 😂 🤣 | $ 1 trillion package may grant a $ 1,200 check to all adults , but there are pieces of the deal that consists of business loans and tax cuts as well | Here is a more in - depth look into Trump 's # StimulusPackage   Did some research and pretty sure the money put aside by admin was for those that truly needed it | If you do remember the bailouts from 2008 here is a reminder | The plan | Profits over worker pay | This is all easily found | Stop being willfully obtuse | @CharlesNB _ @SexCounseling   Who gets this supposed \" bailout \" | Airlines | Leisure Industry | Cruise lines who do pay taxes in the US as they are registered here | businesses | Or will it be going be to the families , the people who need to money to survive | @SpeakerPelosi   @smartgoblin   @Jim_Jordan   @realDonaldTrump Republicans would have screamed murder if Obama had written $ 500 billion worth of checks and simply added the cost to the deficit , but under Trump , they ’ve stopped warning about debt crises or bankruptcy or runs on the dollar | @HoodieGiancarlo How was Obama supposed to stop it if he had even been elected when it passed | [ Update | Senate Republicans have now released their trillion - dollar package | ] And barely a decade after the war over Obama ’s merely $ 800 billion The American Recovery and Reinvestment Act , | one @politico | What Trump 's Trillion - Dollar Bailout Gets , and Wrong   @smartgoblin @Oregonian Could you show me sources a   meme | He sold his soul to wall street I 'm | you are running your argument is crumbling | All you do is memes and say \" I am \" even when you are confronted wth facts a meme | @deutschisch @riselli1 @PathPDX @gregkellyusa @LLinWood   Trump ’s Trillion - Dollar Bailout Gets , and Wrong | What Trump 's Trillion - Dollar Bailout Gets , and Wrong   via @politico | Analysis | What Trump 's Trillion - Dollar Bailout Gets , and Wrong   Trump ’s Trillion - Dollar Bailout Gets , and Wrong - POLITICO   Analysis | What Trump 's Trillion - Dollar Bailout Gets , and Wrong | via | Analysis | What Trump 's Trillion - Dollar Bailout Gets , and Wrong   via @politico | Analysis | What Trump 's Trillion - Dollar Bailout Gets , and Wrong   via @politico | Analysis | What Trump 's Trillion - Dollar Bailout Gets , and Wrong - POLITICO - | What Trump 's Trillion - Dollar Bailout Gets , and Wrong   via @politico | Analysis | What Trump 's Trillion - Dollar Bailout Gets , and Wrong   via @politico | Analysis | What Trump 's Trillion - Dollar Bailout Gets , and Wrong | rationale for sending out checks now would be to guard against things getting significantly , rather than to jumpstart the economy back to normalcy , at for now | The drop we ’re facing is that and that sudden | \" | ( via @latimesopinion )   the government can always try to claw back some of the money after the crisis ends by making some percentage of it for - income households , said ⁦@MichaelRStrain⁩ , the director of policy studies ⁦@AEI⁩ | ” | 加拿大也发钱，但是只发给在家隔离和失业的人，这合情合理，美国会怎么发，我们拭目以待。而加拿大更倾向于发给企业主，维持就业 。 | idea of receiving two $ 1,000 checks from the U | S | Treasury in April and May is superficially , but a one - time cash infusion of $ 2,000 really does nothing to address the likelihood that relief will be needed long May | Giving everyone a $ 1,000 check will help the coronavirus downturn | But it 's   ( via @latimesopinion ) | In a @latimes piece on the $ 1000 checks proposed to help the coronavirus downturn , @JayCShambaugh notes that the disruption is unlike those | \" Here , the thing is to stay at home | [ That ’s ] very for the economy | ”   Giving everyone a $ 1,000 check will help the coronavirus downturn | But it 's   Giving everyone a $ 1,000 check will help the coronavirus downturn | But it 's   was on 3/18 | Did Mnuchin change his mind | Opinion | Giving everyone a $ 1,000 check will help the coronavirus downturn | But it ’s Coronavirus relief checks could take four months to arrive in the mail | Coronavirus relief checks could take four months to arrive in the mail\n"
     ]
    },
    {
     "name": "stderr",
     "output_type": "stream",
     "text": [
      "\n"
     ]
    },
    {
     "ename": "AssertionError",
     "evalue": "Text and sentiment scores are of different lengths",
     "output_type": "error",
     "traceback": [
      "\u001b[1;31m---------------------------------------------------------------------------\u001b[0m",
      "\u001b[1;31mAssertionError\u001b[0m                            Traceback (most recent call last)",
      "\u001b[1;32m<ipython-input-280-7d16900d170f>\u001b[0m in \u001b[0;36m<module>\u001b[1;34m\u001b[0m\n\u001b[1;32m----> 1\u001b[1;33m \u001b[0mpredictions\u001b[0m \u001b[1;33m=\u001b[0m \u001b[0mdata\u001b[0m\u001b[1;33m.\u001b[0m\u001b[0mprogress_apply\u001b[0m\u001b[1;33m(\u001b[0m\u001b[1;32mlambda\u001b[0m \u001b[0mrow\u001b[0m\u001b[1;33m:\u001b[0m \u001b[0mmake_prediction\u001b[0m\u001b[1;33m(\u001b[0m\u001b[0mcmos\u001b[0m\u001b[1;33m,\u001b[0m \u001b[0mrow\u001b[0m\u001b[1;33m)\u001b[0m\u001b[1;33m,\u001b[0m \u001b[0maxis\u001b[0m \u001b[1;33m=\u001b[0m \u001b[1;36m1\u001b[0m\u001b[1;33m)\u001b[0m\u001b[1;33m\u001b[0m\u001b[1;33m\u001b[0m\u001b[0m\n\u001b[0m",
      "\u001b[1;32m~\\miniconda3\\lib\\site-packages\\tqdm\\std.py\u001b[0m in \u001b[0;36minner\u001b[1;34m(df, func, *args, **kwargs)\u001b[0m\n\u001b[0;32m    812\u001b[0m                 \u001b[1;31m# on the df using our wrapper (which provides bar updating)\u001b[0m\u001b[1;33m\u001b[0m\u001b[1;33m\u001b[0m\u001b[1;33m\u001b[0m\u001b[0m\n\u001b[0;32m    813\u001b[0m                 \u001b[1;32mtry\u001b[0m\u001b[1;33m:\u001b[0m\u001b[1;33m\u001b[0m\u001b[1;33m\u001b[0m\u001b[0m\n\u001b[1;32m--> 814\u001b[1;33m                     \u001b[1;32mreturn\u001b[0m \u001b[0mgetattr\u001b[0m\u001b[1;33m(\u001b[0m\u001b[0mdf\u001b[0m\u001b[1;33m,\u001b[0m \u001b[0mdf_function\u001b[0m\u001b[1;33m)\u001b[0m\u001b[1;33m(\u001b[0m\u001b[0mwrapper\u001b[0m\u001b[1;33m,\u001b[0m \u001b[1;33m**\u001b[0m\u001b[0mkwargs\u001b[0m\u001b[1;33m)\u001b[0m\u001b[1;33m\u001b[0m\u001b[1;33m\u001b[0m\u001b[0m\n\u001b[0m\u001b[0;32m    815\u001b[0m                 \u001b[1;32mfinally\u001b[0m\u001b[1;33m:\u001b[0m\u001b[1;33m\u001b[0m\u001b[1;33m\u001b[0m\u001b[0m\n\u001b[0;32m    816\u001b[0m                     \u001b[0mt\u001b[0m\u001b[1;33m.\u001b[0m\u001b[0mclose\u001b[0m\u001b[1;33m(\u001b[0m\u001b[1;33m)\u001b[0m\u001b[1;33m\u001b[0m\u001b[1;33m\u001b[0m\u001b[0m\n",
      "\u001b[1;32m~\\miniconda3\\lib\\site-packages\\pandas\\core\\frame.py\u001b[0m in \u001b[0;36mapply\u001b[1;34m(self, func, axis, raw, result_type, args, **kwargs)\u001b[0m\n\u001b[0;32m   8738\u001b[0m             \u001b[0mkwargs\u001b[0m\u001b[1;33m=\u001b[0m\u001b[0mkwargs\u001b[0m\u001b[1;33m,\u001b[0m\u001b[1;33m\u001b[0m\u001b[1;33m\u001b[0m\u001b[0m\n\u001b[0;32m   8739\u001b[0m         )\n\u001b[1;32m-> 8740\u001b[1;33m         \u001b[1;32mreturn\u001b[0m \u001b[0mop\u001b[0m\u001b[1;33m.\u001b[0m\u001b[0mapply\u001b[0m\u001b[1;33m(\u001b[0m\u001b[1;33m)\u001b[0m\u001b[1;33m\u001b[0m\u001b[1;33m\u001b[0m\u001b[0m\n\u001b[0m\u001b[0;32m   8741\u001b[0m \u001b[1;33m\u001b[0m\u001b[0m\n\u001b[0;32m   8742\u001b[0m     def applymap(\n",
      "\u001b[1;32m~\\miniconda3\\lib\\site-packages\\pandas\\core\\apply.py\u001b[0m in \u001b[0;36mapply\u001b[1;34m(self)\u001b[0m\n\u001b[0;32m    686\u001b[0m             \u001b[1;32mreturn\u001b[0m \u001b[0mself\u001b[0m\u001b[1;33m.\u001b[0m\u001b[0mapply_raw\u001b[0m\u001b[1;33m(\u001b[0m\u001b[1;33m)\u001b[0m\u001b[1;33m\u001b[0m\u001b[1;33m\u001b[0m\u001b[0m\n\u001b[0;32m    687\u001b[0m \u001b[1;33m\u001b[0m\u001b[0m\n\u001b[1;32m--> 688\u001b[1;33m         \u001b[1;32mreturn\u001b[0m \u001b[0mself\u001b[0m\u001b[1;33m.\u001b[0m\u001b[0mapply_standard\u001b[0m\u001b[1;33m(\u001b[0m\u001b[1;33m)\u001b[0m\u001b[1;33m\u001b[0m\u001b[1;33m\u001b[0m\u001b[0m\n\u001b[0m\u001b[0;32m    689\u001b[0m \u001b[1;33m\u001b[0m\u001b[0m\n\u001b[0;32m    690\u001b[0m     \u001b[1;32mdef\u001b[0m \u001b[0magg\u001b[0m\u001b[1;33m(\u001b[0m\u001b[0mself\u001b[0m\u001b[1;33m)\u001b[0m\u001b[1;33m:\u001b[0m\u001b[1;33m\u001b[0m\u001b[1;33m\u001b[0m\u001b[0m\n",
      "\u001b[1;32m~\\miniconda3\\lib\\site-packages\\pandas\\core\\apply.py\u001b[0m in \u001b[0;36mapply_standard\u001b[1;34m(self)\u001b[0m\n\u001b[0;32m    810\u001b[0m \u001b[1;33m\u001b[0m\u001b[0m\n\u001b[0;32m    811\u001b[0m     \u001b[1;32mdef\u001b[0m \u001b[0mapply_standard\u001b[0m\u001b[1;33m(\u001b[0m\u001b[0mself\u001b[0m\u001b[1;33m)\u001b[0m\u001b[1;33m:\u001b[0m\u001b[1;33m\u001b[0m\u001b[1;33m\u001b[0m\u001b[0m\n\u001b[1;32m--> 812\u001b[1;33m         \u001b[0mresults\u001b[0m\u001b[1;33m,\u001b[0m \u001b[0mres_index\u001b[0m \u001b[1;33m=\u001b[0m \u001b[0mself\u001b[0m\u001b[1;33m.\u001b[0m\u001b[0mapply_series_generator\u001b[0m\u001b[1;33m(\u001b[0m\u001b[1;33m)\u001b[0m\u001b[1;33m\u001b[0m\u001b[1;33m\u001b[0m\u001b[0m\n\u001b[0m\u001b[0;32m    813\u001b[0m \u001b[1;33m\u001b[0m\u001b[0m\n\u001b[0;32m    814\u001b[0m         \u001b[1;31m# wrap results\u001b[0m\u001b[1;33m\u001b[0m\u001b[1;33m\u001b[0m\u001b[1;33m\u001b[0m\u001b[0m\n",
      "\u001b[1;32m~\\miniconda3\\lib\\site-packages\\pandas\\core\\apply.py\u001b[0m in \u001b[0;36mapply_series_generator\u001b[1;34m(self)\u001b[0m\n\u001b[0;32m    826\u001b[0m             \u001b[1;32mfor\u001b[0m \u001b[0mi\u001b[0m\u001b[1;33m,\u001b[0m \u001b[0mv\u001b[0m \u001b[1;32min\u001b[0m \u001b[0menumerate\u001b[0m\u001b[1;33m(\u001b[0m\u001b[0mseries_gen\u001b[0m\u001b[1;33m)\u001b[0m\u001b[1;33m:\u001b[0m\u001b[1;33m\u001b[0m\u001b[1;33m\u001b[0m\u001b[0m\n\u001b[0;32m    827\u001b[0m                 \u001b[1;31m# ignore SettingWithCopy here in case the user mutates\u001b[0m\u001b[1;33m\u001b[0m\u001b[1;33m\u001b[0m\u001b[1;33m\u001b[0m\u001b[0m\n\u001b[1;32m--> 828\u001b[1;33m                 \u001b[0mresults\u001b[0m\u001b[1;33m[\u001b[0m\u001b[0mi\u001b[0m\u001b[1;33m]\u001b[0m \u001b[1;33m=\u001b[0m \u001b[0mself\u001b[0m\u001b[1;33m.\u001b[0m\u001b[0mf\u001b[0m\u001b[1;33m(\u001b[0m\u001b[0mv\u001b[0m\u001b[1;33m)\u001b[0m\u001b[1;33m\u001b[0m\u001b[1;33m\u001b[0m\u001b[0m\n\u001b[0m\u001b[0;32m    829\u001b[0m                 \u001b[1;32mif\u001b[0m \u001b[0misinstance\u001b[0m\u001b[1;33m(\u001b[0m\u001b[0mresults\u001b[0m\u001b[1;33m[\u001b[0m\u001b[0mi\u001b[0m\u001b[1;33m]\u001b[0m\u001b[1;33m,\u001b[0m \u001b[0mABCSeries\u001b[0m\u001b[1;33m)\u001b[0m\u001b[1;33m:\u001b[0m\u001b[1;33m\u001b[0m\u001b[1;33m\u001b[0m\u001b[0m\n\u001b[0;32m    830\u001b[0m                     \u001b[1;31m# If we have a view on v, we need to make a copy because\u001b[0m\u001b[1;33m\u001b[0m\u001b[1;33m\u001b[0m\u001b[1;33m\u001b[0m\u001b[0m\n",
      "\u001b[1;32m~\\miniconda3\\lib\\site-packages\\tqdm\\std.py\u001b[0m in \u001b[0;36mwrapper\u001b[1;34m(*args, **kwargs)\u001b[0m\n\u001b[0;32m    807\u001b[0m                     \u001b[1;31m# take a fast or slow code path; so stop when t.total==t.n\u001b[0m\u001b[1;33m\u001b[0m\u001b[1;33m\u001b[0m\u001b[1;33m\u001b[0m\u001b[0m\n\u001b[0;32m    808\u001b[0m                     \u001b[0mt\u001b[0m\u001b[1;33m.\u001b[0m\u001b[0mupdate\u001b[0m\u001b[1;33m(\u001b[0m\u001b[0mn\u001b[0m\u001b[1;33m=\u001b[0m\u001b[1;36m1\u001b[0m \u001b[1;32mif\u001b[0m \u001b[1;32mnot\u001b[0m \u001b[0mt\u001b[0m\u001b[1;33m.\u001b[0m\u001b[0mtotal\u001b[0m \u001b[1;32mor\u001b[0m \u001b[0mt\u001b[0m\u001b[1;33m.\u001b[0m\u001b[0mn\u001b[0m \u001b[1;33m<\u001b[0m \u001b[0mt\u001b[0m\u001b[1;33m.\u001b[0m\u001b[0mtotal\u001b[0m \u001b[1;32melse\u001b[0m \u001b[1;36m0\u001b[0m\u001b[1;33m)\u001b[0m\u001b[1;33m\u001b[0m\u001b[1;33m\u001b[0m\u001b[0m\n\u001b[1;32m--> 809\u001b[1;33m                     \u001b[1;32mreturn\u001b[0m \u001b[0mfunc\u001b[0m\u001b[1;33m(\u001b[0m\u001b[1;33m*\u001b[0m\u001b[0margs\u001b[0m\u001b[1;33m,\u001b[0m \u001b[1;33m**\u001b[0m\u001b[0mkwargs\u001b[0m\u001b[1;33m)\u001b[0m\u001b[1;33m\u001b[0m\u001b[1;33m\u001b[0m\u001b[0m\n\u001b[0m\u001b[0;32m    810\u001b[0m \u001b[1;33m\u001b[0m\u001b[0m\n\u001b[0;32m    811\u001b[0m                 \u001b[1;31m# Apply the provided function (in **kwargs)\u001b[0m\u001b[1;33m\u001b[0m\u001b[1;33m\u001b[0m\u001b[1;33m\u001b[0m\u001b[0m\n",
      "\u001b[1;32m<ipython-input-280-7d16900d170f>\u001b[0m in \u001b[0;36m<lambda>\u001b[1;34m(row)\u001b[0m\n\u001b[1;32m----> 1\u001b[1;33m \u001b[0mpredictions\u001b[0m \u001b[1;33m=\u001b[0m \u001b[0mdata\u001b[0m\u001b[1;33m.\u001b[0m\u001b[0mprogress_apply\u001b[0m\u001b[1;33m(\u001b[0m\u001b[1;32mlambda\u001b[0m \u001b[0mrow\u001b[0m\u001b[1;33m:\u001b[0m \u001b[0mmake_prediction\u001b[0m\u001b[1;33m(\u001b[0m\u001b[0mcmos\u001b[0m\u001b[1;33m,\u001b[0m \u001b[0mrow\u001b[0m\u001b[1;33m)\u001b[0m\u001b[1;33m,\u001b[0m \u001b[0maxis\u001b[0m \u001b[1;33m=\u001b[0m \u001b[1;36m1\u001b[0m\u001b[1;33m)\u001b[0m\u001b[1;33m\u001b[0m\u001b[1;33m\u001b[0m\u001b[0m\n\u001b[0m",
      "\u001b[1;32m<ipython-input-279-1dcea83e1a58>\u001b[0m in \u001b[0;36mmake_prediction\u001b[1;34m(model, row)\u001b[0m\n\u001b[0;32m      4\u001b[0m     \u001b[0mprint\u001b[0m\u001b[1;33m(\u001b[0m\u001b[0mtext\u001b[0m\u001b[1;33m)\u001b[0m\u001b[1;33m\u001b[0m\u001b[1;33m\u001b[0m\u001b[0m\n\u001b[0;32m      5\u001b[0m \u001b[1;33m\u001b[0m\u001b[0m\n\u001b[1;32m----> 6\u001b[1;33m     \u001b[0msumm_1\u001b[0m\u001b[1;33m,\u001b[0m \u001b[0msumm_2\u001b[0m \u001b[1;33m=\u001b[0m \u001b[0mmodel\u001b[0m\u001b[1;33m.\u001b[0m\u001b[0mpredict\u001b[0m\u001b[1;33m(\u001b[0m\u001b[0mtext\u001b[0m\u001b[1;33m,\u001b[0m \u001b[0msent_scores\u001b[0m\u001b[1;33m)\u001b[0m\u001b[1;33m\u001b[0m\u001b[1;33m\u001b[0m\u001b[0m\n\u001b[0m\u001b[0;32m      7\u001b[0m     \u001b[1;32mreturn\u001b[0m \u001b[0msumm_1\u001b[0m \u001b[1;33m+\u001b[0m \u001b[1;34m' | '\u001b[0m \u001b[1;33m+\u001b[0m \u001b[0msumm_2\u001b[0m\u001b[1;33m\u001b[0m\u001b[1;33m\u001b[0m\u001b[0m\n",
      "\u001b[1;32m<ipython-input-273-0f9a9ca7b4f7>\u001b[0m in \u001b[0;36mpredict\u001b[1;34m(self, text, sentiments)\u001b[0m\n\u001b[0;32m     15\u001b[0m         \u001b[0msent_scores\u001b[0m \u001b[1;33m=\u001b[0m \u001b[1;33m[\u001b[0m\u001b[0msent\u001b[0m\u001b[1;33m[\u001b[0m\u001b[1;34m'compound'\u001b[0m\u001b[1;33m]\u001b[0m \u001b[1;32mfor\u001b[0m \u001b[0msent\u001b[0m \u001b[1;32min\u001b[0m \u001b[0msentiments\u001b[0m\u001b[1;33m]\u001b[0m\u001b[1;33m\u001b[0m\u001b[1;33m\u001b[0m\u001b[0m\n\u001b[0;32m     16\u001b[0m \u001b[1;33m\u001b[0m\u001b[0m\n\u001b[1;32m---> 17\u001b[1;33m         \u001b[1;32massert\u001b[0m \u001b[0mlen\u001b[0m\u001b[1;33m(\u001b[0m\u001b[0mtext_l\u001b[0m\u001b[1;33m)\u001b[0m \u001b[1;33m==\u001b[0m \u001b[0mlen\u001b[0m\u001b[1;33m(\u001b[0m\u001b[0msent_scores\u001b[0m\u001b[1;33m)\u001b[0m\u001b[1;33m,\u001b[0m \u001b[1;34m'Text and sentiment scores are of different lengths'\u001b[0m\u001b[1;33m\u001b[0m\u001b[1;33m\u001b[0m\u001b[0m\n\u001b[0m\u001b[0;32m     18\u001b[0m \u001b[1;33m\u001b[0m\u001b[0m\n\u001b[0;32m     19\u001b[0m         \u001b[0mtext_sents\u001b[0m \u001b[1;33m=\u001b[0m \u001b[1;33m[\u001b[0m\u001b[1;33m(\u001b[0m\u001b[0mstext\u001b[0m\u001b[1;33m,\u001b[0m \u001b[0mssent\u001b[0m\u001b[1;33m)\u001b[0m \u001b[1;32mfor\u001b[0m \u001b[0mstext\u001b[0m\u001b[1;33m,\u001b[0m \u001b[0mssent\u001b[0m \u001b[1;32min\u001b[0m \u001b[0mzip\u001b[0m\u001b[1;33m(\u001b[0m\u001b[0mtext_l\u001b[0m\u001b[1;33m,\u001b[0m \u001b[0msent_scores\u001b[0m\u001b[1;33m)\u001b[0m\u001b[1;33m]\u001b[0m\u001b[1;33m\u001b[0m\u001b[1;33m\u001b[0m\u001b[0m\n",
      "\u001b[1;31mAssertionError\u001b[0m: Text and sentiment scores are of different lengths"
     ]
    }
   ],
   "source": [
    "predictions = data.progress_apply(lambda row: make_prediction(cmos, row), axis = 1)"
   ]
  },
  {
   "cell_type": "code",
   "execution_count": null,
   "id": "010bcccf",
   "metadata": {},
   "outputs": [],
   "source": []
  }
 ],
 "metadata": {
  "kernelspec": {
   "display_name": "Python 3",
   "language": "python",
   "name": "python3"
  },
  "language_info": {
   "codemirror_mode": {
    "name": "ipython",
    "version": 3
   },
   "file_extension": ".py",
   "mimetype": "text/x-python",
   "name": "python",
   "nbconvert_exporter": "python",
   "pygments_lexer": "ipython3",
   "version": "3.7.7"
  }
 },
 "nbformat": 4,
 "nbformat_minor": 5
}
