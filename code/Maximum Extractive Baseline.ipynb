{
 "cells": [
  {
   "cell_type": "code",
   "execution_count": 58,
   "id": "b1322b78",
   "metadata": {},
   "outputs": [],
   "source": [
    "import pandas as pd\n",
    "import numpy as np\n",
    "\n",
    "import re\n",
    "\n",
    "from tqdm import tqdm\n",
    "tqdm.pandas()\n",
    "\n",
    "from rouge_score import rouge_scorer\n",
    "from bert_score import score\n",
    "from nltk.translate import bleu_score\n",
    "\n",
    "import statistics\n",
    "\n",
    "import itertools"
   ]
  },
  {
   "cell_type": "markdown",
   "id": "4426946f",
   "metadata": {},
   "source": [
    "# Data Loading "
   ]
  },
  {
   "cell_type": "code",
   "execution_count": 6,
   "id": "1b9be795",
   "metadata": {},
   "outputs": [],
   "source": [
    "DATA_SOURCE = '../data/data_clean/polisumm_final.csv'"
   ]
  },
  {
   "cell_type": "code",
   "execution_count": 7,
   "id": "8b4aca37",
   "metadata": {},
   "outputs": [],
   "source": [
    "data = pd.read_csv(DATA_SOURCE)"
   ]
  },
  {
   "cell_type": "code",
   "execution_count": 22,
   "id": "d3a50bea",
   "metadata": {},
   "outputs": [],
   "source": [
    "data = data[~data['left_sum'].isna()]"
   ]
  },
  {
   "cell_type": "markdown",
   "id": "ed81b82f",
   "metadata": {},
   "source": [
    "# Testing Maximum Extractive Score "
   ]
  },
  {
   "cell_type": "code",
   "execution_count": 26,
   "id": "3427e2d9",
   "metadata": {},
   "outputs": [],
   "source": [
    "sub_data = data[['left_sum', 'right_sum', 'all_texts']]"
   ]
  },
  {
   "cell_type": "code",
   "execution_count": 27,
   "id": "b81c2ccb",
   "metadata": {},
   "outputs": [
    {
     "name": "stderr",
     "output_type": "stream",
     "text": [
      "C:\\Users\\ndeas\\miniconda3\\lib\\site-packages\\ipykernel_launcher.py:1: SettingWithCopyWarning: \n",
      "A value is trying to be set on a copy of a slice from a DataFrame.\n",
      "Try using .loc[row_indexer,col_indexer] = value instead\n",
      "\n",
      "See the caveats in the documentation: https://pandas.pydata.org/pandas-docs/stable/user_guide/indexing.html#returning-a-view-versus-a-copy\n",
      "  \"\"\"Entry point for launching an IPython kernel.\n"
     ]
    }
   ],
   "source": [
    "sub_data['full_sum'] = sub_data['left_sum'] + '|' + sub_data['right_sum']"
   ]
  },
  {
   "cell_type": "code",
   "execution_count": 28,
   "id": "daa3085f",
   "metadata": {},
   "outputs": [
    {
     "data": {
      "text/html": [
       "<div>\n",
       "<style scoped>\n",
       "    .dataframe tbody tr th:only-of-type {\n",
       "        vertical-align: middle;\n",
       "    }\n",
       "\n",
       "    .dataframe tbody tr th {\n",
       "        vertical-align: top;\n",
       "    }\n",
       "\n",
       "    .dataframe thead th {\n",
       "        text-align: right;\n",
       "    }\n",
       "</style>\n",
       "<table border=\"1\" class=\"dataframe\">\n",
       "  <thead>\n",
       "    <tr style=\"text-align: right;\">\n",
       "      <th></th>\n",
       "      <th>left_sum</th>\n",
       "      <th>right_sum</th>\n",
       "      <th>all_texts</th>\n",
       "      <th>full_sum</th>\n",
       "    </tr>\n",
       "  </thead>\n",
       "  <tbody>\n",
       "    <tr>\n",
       "      <th>0</th>\n",
       "      <td>The left supports cash payments and argues tha...</td>\n",
       "      <td>The right is generally supportive of helping c...</td>\n",
       "      <td>Mnuchin: Family of 4 could get $3K under virus...</td>\n",
       "      <td>The left supports cash payments and argues tha...</td>\n",
       "    </tr>\n",
       "    <tr>\n",
       "      <th>1</th>\n",
       "      <td>The left is supportive of both policies.</td>\n",
       "      <td>The right is critical of both policies.</td>\n",
       "      <td>Analysis | What Trump's Trillion-Dollar Bailou...</td>\n",
       "      <td>The left is supportive of both policies.|The r...</td>\n",
       "    </tr>\n",
       "    <tr>\n",
       "      <th>2</th>\n",
       "      <td>The left is skeptical of Zuckerberg’s motives,...</td>\n",
       "      <td>The right is disturbed by the free speech impl...</td>\n",
       "      <td>5 major Facebook stories broke over the last f...</td>\n",
       "      <td>The left is skeptical of Zuckerberg’s motives,...</td>\n",
       "    </tr>\n",
       "    <tr>\n",
       "      <th>3</th>\n",
       "      <td>The left is optimistic about Biden’s chances.</td>\n",
       "      <td>The right is cautiously optimistic about Trump...</td>\n",
       "      <td>Biden maintains a 90% chance of winning.\\n\\nht...</td>\n",
       "      <td>The left is optimistic about Biden’s chances.|...</td>\n",
       "    </tr>\n",
       "    <tr>\n",
       "      <th>4</th>\n",
       "      <td>The left is optimistic about Biden’s chances.</td>\n",
       "      <td>The right is cautiously optimistic about Trump...</td>\n",
       "      <td>Biden has a 90% chance of winning, according t...</td>\n",
       "      <td>The left is optimistic about Biden’s chances.|...</td>\n",
       "    </tr>\n",
       "    <tr>\n",
       "      <th>...</th>\n",
       "      <td>...</td>\n",
       "      <td>...</td>\n",
       "      <td>...</td>\n",
       "      <td>...</td>\n",
       "    </tr>\n",
       "    <tr>\n",
       "      <th>1186</th>\n",
       "      <td>The left worries that the case will be used to...</td>\n",
       "      <td>The right generally sympathizes with Depp, and...</td>\n",
       "      <td>Jurors hearing testimony in #JohnnyDepp's libe...</td>\n",
       "      <td>The left worries that the case will be used to...</td>\n",
       "    </tr>\n",
       "    <tr>\n",
       "      <th>1189</th>\n",
       "      <td>The left is generally supportive of the decisi...</td>\n",
       "      <td>The right is generally supportive of the decis...</td>\n",
       "      <td>The best thing the United States and broader i...</td>\n",
       "      <td>The left is generally supportive of the decisi...</td>\n",
       "    </tr>\n",
       "    <tr>\n",
       "      <th>1190</th>\n",
       "      <td>The left generally supports the editor’s firin...</td>\n",
       "      <td>The right opposes the editor’s firing and the ...</td>\n",
       "      <td>Democratic Governors Will Now Lead a Majority ...</td>\n",
       "      <td>The left generally supports the editor’s firin...</td>\n",
       "    </tr>\n",
       "    <tr>\n",
       "      <th>1191</th>\n",
       "      <td>The left highlights the structural impediments...</td>\n",
       "      <td>The right is critical of the Biden administrat...</td>\n",
       "      <td>Apparently, Trump was bad for foreign relation...</td>\n",
       "      <td>The left highlights the structural impediments...</td>\n",
       "    </tr>\n",
       "    <tr>\n",
       "      <th>1196</th>\n",
       "      <td>The left opposes the law, arguing that the mos...</td>\n",
       "      <td>The right supports the law, arguing that few l...</td>\n",
       "      <td>@rodrigo131288 @Ezequielopez096 Otro dato inte...</td>\n",
       "      <td>The left opposes the law, arguing that the mos...</td>\n",
       "    </tr>\n",
       "  </tbody>\n",
       "</table>\n",
       "<p>898 rows × 4 columns</p>\n",
       "</div>"
      ],
      "text/plain": [
       "                                               left_sum  \\\n",
       "0     The left supports cash payments and argues tha...   \n",
       "1              The left is supportive of both policies.   \n",
       "2     The left is skeptical of Zuckerberg’s motives,...   \n",
       "3         The left is optimistic about Biden’s chances.   \n",
       "4         The left is optimistic about Biden’s chances.   \n",
       "...                                                 ...   \n",
       "1186  The left worries that the case will be used to...   \n",
       "1189  The left is generally supportive of the decisi...   \n",
       "1190  The left generally supports the editor’s firin...   \n",
       "1191  The left highlights the structural impediments...   \n",
       "1196  The left opposes the law, arguing that the mos...   \n",
       "\n",
       "                                              right_sum  \\\n",
       "0     The right is generally supportive of helping c...   \n",
       "1               The right is critical of both policies.   \n",
       "2     The right is disturbed by the free speech impl...   \n",
       "3     The right is cautiously optimistic about Trump...   \n",
       "4     The right is cautiously optimistic about Trump...   \n",
       "...                                                 ...   \n",
       "1186  The right generally sympathizes with Depp, and...   \n",
       "1189  The right is generally supportive of the decis...   \n",
       "1190  The right opposes the editor’s firing and the ...   \n",
       "1191  The right is critical of the Biden administrat...   \n",
       "1196  The right supports the law, arguing that few l...   \n",
       "\n",
       "                                              all_texts  \\\n",
       "0     Mnuchin: Family of 4 could get $3K under virus...   \n",
       "1     Analysis | What Trump's Trillion-Dollar Bailou...   \n",
       "2     5 major Facebook stories broke over the last f...   \n",
       "3     Biden maintains a 90% chance of winning.\\n\\nht...   \n",
       "4     Biden has a 90% chance of winning, according t...   \n",
       "...                                                 ...   \n",
       "1186  Jurors hearing testimony in #JohnnyDepp's libe...   \n",
       "1189  The best thing the United States and broader i...   \n",
       "1190  Democratic Governors Will Now Lead a Majority ...   \n",
       "1191  Apparently, Trump was bad for foreign relation...   \n",
       "1196  @rodrigo131288 @Ezequielopez096 Otro dato inte...   \n",
       "\n",
       "                                               full_sum  \n",
       "0     The left supports cash payments and argues tha...  \n",
       "1     The left is supportive of both policies.|The r...  \n",
       "2     The left is skeptical of Zuckerberg’s motives,...  \n",
       "3     The left is optimistic about Biden’s chances.|...  \n",
       "4     The left is optimistic about Biden’s chances.|...  \n",
       "...                                                 ...  \n",
       "1186  The left worries that the case will be used to...  \n",
       "1189  The left is generally supportive of the decisi...  \n",
       "1190  The left generally supports the editor’s firin...  \n",
       "1191  The left highlights the structural impediments...  \n",
       "1196  The left opposes the law, arguing that the mos...  \n",
       "\n",
       "[898 rows x 4 columns]"
      ]
     },
     "execution_count": 28,
     "metadata": {},
     "output_type": "execute_result"
    }
   ],
   "source": [
    "sub_data.dropna()"
   ]
  },
  {
   "cell_type": "markdown",
   "id": "774af43b",
   "metadata": {},
   "source": [
    "# Evaluation "
   ]
  },
  {
   "cell_type": "code",
   "execution_count": 67,
   "id": "543cfb15",
   "metadata": {},
   "outputs": [],
   "source": [
    "punct_regex = '\\s*[\\.\\?\\!\\|\\n\\:]\\s*[\\.\\?\\!\\|\\n\\:]*\\s*'\n",
    "url_regex = r'https?:\\/\\/\\S*'\n"
   ]
  },
  {
   "cell_type": "markdown",
   "id": "09a4c21c",
   "metadata": {},
   "source": [
    "### ROUGE Scores "
   ]
  },
  {
   "cell_type": "code",
   "execution_count": 40,
   "id": "9db7f39a",
   "metadata": {},
   "outputs": [],
   "source": [
    "scorer = rouge_scorer.RougeScorer(['rouge1', 'rouge2'], use_stemmer = True)\n",
    "def get_max_rouge(row):\n",
    "    left_sum = row['left_sum']\n",
    "    right_sum = row['right_sum']\n",
    "    \n",
    "    text_l = re.split(punct_regex, row['all_texts'])\n",
    "    \n",
    "    lscores, rscores = [], []\n",
    "    for text in text_l:\n",
    "        lscores.append(scorer.score(left_sum, text))\n",
    "        rscores.append(scorer.score(right_sum, text))\n",
    "        \n",
    "    max_l = get_max_scores(lscores)\n",
    "    max_r = get_max_scores(rscores)\n",
    "    \n",
    "    return max_l, max_r\n",
    "        \n",
    "def get_max_scores(scores):\n",
    "    scores.sort(key = lambda score: score['rouge2'].fmeasure, reverse = True)\n",
    "    return scores[0]\n",
    "\n",
    "def reformat_rouge(rouge_scores):\n",
    "    rouge1 = {'prec': [], 'rec': [], 'f1': []}\n",
    "    rouge2 = {'prec': [], 'rec': [], 'f1': []}\n",
    "    for rscore in rouge_scores:\n",
    "        rouge1['prec'].append(rscore['rouge1'].precision)\n",
    "        rouge1['rec'].append(rscore['rouge1'].recall)\n",
    "        rouge1['f1'].append(rscore['rouge1'].fmeasure)\n",
    "\n",
    "        rouge2['prec'].append(rscore['rouge2'].precision)\n",
    "        rouge2['rec'].append(rscore['rouge2'].recall)\n",
    "        rouge2['f1'].append(rscore['rouge2'].fmeasure)\n",
    "    \n",
    "    return rouge1, rouge2"
   ]
  },
  {
   "cell_type": "code",
   "execution_count": 36,
   "id": "6c52fe6b",
   "metadata": {},
   "outputs": [
    {
     "name": "stderr",
     "output_type": "stream",
     "text": [
      "100%|████████████████████████████████████████████████████████████████████████████████████| 5/5 [00:06<00:00,  1.25s/it]\n"
     ]
    }
   ],
   "source": [
    "all_rouge_scores = data.progress_apply(get_max_rouge, axis = 1)"
   ]
  },
  {
   "cell_type": "code",
   "execution_count": 45,
   "id": "baadfca7",
   "metadata": {},
   "outputs": [],
   "source": [
    "l_scores = [rscore[0] for rscore in all_rouge_scores]\n",
    "r_scores = [rscore[1] for rscore in all_rouge_scores]"
   ]
  },
  {
   "cell_type": "code",
   "execution_count": 46,
   "id": "0eb1f15f",
   "metadata": {},
   "outputs": [],
   "source": [
    "l_rscores1, l_rscores2 = reformat_rouge(l_scores)\n",
    "r_rscores1, r_rscores2 = reformat_rouge(r_scores)"
   ]
  },
  {
   "cell_type": "code",
   "execution_count": 50,
   "id": "ee1aa6df",
   "metadata": {},
   "outputs": [],
   "source": [
    "l_rscore1_f = {key: statistics.mean(val) for key, val in l_rscores1.items()}\n",
    "l_rscore2_f = {key: statistics.mean(val) for key, val in l_rscores2.items()}\n",
    "r_rscore1_f = {key: statistics.mean(val) for key, val in r_rscores1.items()}\n",
    "r_rscore2_f = {key: statistics.mean(val) for key, val in r_rscores2.items()}"
   ]
  },
  {
   "cell_type": "markdown",
   "id": "49bb49cf",
   "metadata": {},
   "source": [
    "### Diversity (Self-Bleu) "
   ]
  },
  {
   "cell_type": "code",
   "execution_count": 105,
   "id": "21f29b15",
   "metadata": {},
   "outputs": [],
   "source": [
    "def get_self_bleu_min(split_preds):\n",
    "    self_bleus = []\n",
    "    for pred_pair in split_preds:\n",
    "        bleu   = bleu_score.sentence_bleu([pred_pair[0]], pred_pair[1], weights = (1.0,))\n",
    "        self_bleus.append(bleu)\n",
    "    return min(self_bleus)\n",
    "\n",
    "def get_pair_self_bleus(row):\n",
    "    all_texts = row['all_texts']\n",
    "    all_texts = re.sub(url_regex, '', all_texts)\n",
    "    text_l = re.split(punct_regex, str(all_texts))\n",
    "    \n",
    "    text_pairs = [(text_l[i], text_l[j]) for i in range(len(text_l)) for j in range(i + 1, len(text_l))] \n",
    "    \n",
    "    self_bleu_min = get_self_bleu_min(text_pairs)\n",
    "    \n",
    "    return self_bleu_min"
   ]
  },
  {
   "cell_type": "code",
   "execution_count": 106,
   "id": "2eb01f40",
   "metadata": {},
   "outputs": [
    {
     "name": "stderr",
     "output_type": "stream",
     "text": [
      "100%|██████████████████████████████████████████████████████████████████████████████| 899/899 [4:53:53<00:00, 19.61s/it]\n"
     ]
    }
   ],
   "source": [
    "self_bleus = data.progress_apply(get_pair_self_bleus, axis = 1)"
   ]
  },
  {
   "cell_type": "code",
   "execution_count": 107,
   "id": "7ac685fd",
   "metadata": {},
   "outputs": [],
   "source": [
    "self_bleu = statistics.mean(self_bleus)"
   ]
  },
  {
   "cell_type": "markdown",
   "id": "204a1fac",
   "metadata": {},
   "source": [
    "# Novel N-Grams "
   ]
  },
  {
   "cell_type": "code",
   "execution_count": 89,
   "id": "639d4774",
   "metadata": {},
   "outputs": [],
   "source": [
    "def get_ngrams(text, ngram = 1):\n",
    "    return zip(*[str(text).split()[i:] for i in range(ngram)])\n",
    "\n",
    "def get_novel_ngrams(ref, source, ngrams = (1, 2, 3, 4)):\n",
    "    diffs = []\n",
    "    for ngram in ngrams:\n",
    "        ref_ng = get_ngrams(ref, ngram = ngram)\n",
    "        src_ng = get_ngrams(source, ngram = ngram)\n",
    "        diff = set(ref_ng).difference(src_ng)\n",
    "        diffs.append(len(diff))\n",
    "    \n",
    "    return diffs\n",
    "        \n",
    "def calc_novel_ngrams_row(row):\n",
    "    text = row['all_texts']\n",
    "    refl = row['left_sum']\n",
    "    refr = row['right_sum']\n",
    "    \n",
    "    nov_ngramsl = get_novel_ngrams(refl, text)\n",
    "    nov_ngramsr = get_novel_ngrams(refr, text)\n",
    "    \n",
    "    return nov_ngramsl, nov_ngramsr"
   ]
  },
  {
   "cell_type": "code",
   "execution_count": 90,
   "id": "c9e72646",
   "metadata": {},
   "outputs": [
    {
     "name": "stderr",
     "output_type": "stream",
     "text": [
      "100%|████████████████████████████████████████████████████████████████████████████████| 899/899 [00:12<00:00, 71.79it/s]\n"
     ]
    }
   ],
   "source": [
    "novel_ngrams = data.progress_apply(calc_novel_ngrams_row, axis = 1)"
   ]
  },
  {
   "cell_type": "code",
   "execution_count": 91,
   "id": "7cc00c79",
   "metadata": {},
   "outputs": [],
   "source": [
    "novel_l = [nngrams[0] for nngrams in novel_ngrams]\n",
    "novel_r = [nngrams[1] for nngrams in novel_ngrams]"
   ]
  },
  {
   "cell_type": "code",
   "execution_count": 92,
   "id": "4cf57f5a",
   "metadata": {},
   "outputs": [],
   "source": [
    "tot_ref_len_l = sum(data['left_sum'].str.split().apply(lambda tl: len(tl) if isinstance(tl, list) else 1))\n",
    "tot_ref_len_r = sum(data['right_sum'].str.split().apply(lambda tl: len(tl) if isinstance(tl, list) else 1))"
   ]
  },
  {
   "cell_type": "code",
   "execution_count": 93,
   "id": "3752407f",
   "metadata": {},
   "outputs": [],
   "source": [
    "novel_l_dict = {1: 0, 2: 0, 3: 0, 4: 0}\n",
    "novel_r_dict = {1: 0, 2: 0, 3: 0, 4: 0}\n",
    "\n",
    "for nov_list in novel_l:\n",
    "    for i, nov_cnt in enumerate(nov_list):\n",
    "        novel_l_dict[i+1] += nov_cnt\n",
    "for nov_list in novel_r:\n",
    "    for i, nov_cnt in enumerate(nov_list):\n",
    "        novel_r_dict[i+1] += nov_cnt"
   ]
  },
  {
   "cell_type": "code",
   "execution_count": 94,
   "id": "0cafb795",
   "metadata": {},
   "outputs": [],
   "source": [
    "novel_l_dict = {key: (1. * val) / (tot_ref_len_l - (key - 1.)) for key, val in novel_l_dict.items()}\n",
    "novel_r_dict = {key: (1. * val) / (tot_ref_len_r - (key - 1.)) for key, val in novel_r_dict.items()}"
   ]
  },
  {
   "cell_type": "markdown",
   "id": "0c924d55",
   "metadata": {},
   "source": [
    "# All Scores "
   ]
  },
  {
   "cell_type": "code",
   "execution_count": 103,
   "id": "fe4f7662",
   "metadata": {},
   "outputs": [
    {
     "name": "stdout",
     "output_type": "stream",
     "text": [
      "                     LEFT      RIGHT\n",
      "Self-Bleu:           0.999\n",
      "Rouge1 Score (Prec): 0.303     0.401\n",
      "              (Rec): 0.280     0.247\n",
      "               (F1): 0.266     0.289\n",
      "Rouge2 Score (Prec): 0.188     0.224\n",
      "              (Rec): 0.156     0.116\n",
      "               (F1): 0.158     0.144\n",
      "\n",
      "---Abstractiveness---\n",
      " 1-gram:           0.3049     0.3082     0.3066\n",
      " 2-gram:           0.7637     0.7833     0.7735\n",
      " 2-gram:           0.8498     0.8559     0.8528\n",
      " 2-gram:           0.8178     0.8162     0.8170\n"
     ]
    }
   ],
   "source": [
    "print(f'                     LEFT      RIGHT')\n",
    "print(f'Self-Bleu:           {self_bleu:.3f}')\n",
    "# print(f'Bert Score (Prec):  {bprec:.3f}')\n",
    "# print(f'            (Rec):  {brec:.3f}')\n",
    "# print(f'             (F1):  {bf1:.3f}')\n",
    "print(f'Rouge1 Score (Prec): {l_rscore1_f[\"prec\"]:.3f}     {r_rscore1_f[\"prec\"]:.3f}')\n",
    "print(f'              (Rec): {l_rscore1_f[\"rec\"]:.3f}     {r_rscore1_f[\"rec\"]:.3f}')\n",
    "print(f'               (F1): {l_rscore1_f[\"f1\"]:.3f}     {r_rscore1_f[\"f1\"]:.3f}')\n",
    "print(f'Rouge2 Score (Prec): {l_rscore2_f[\"prec\"]:.3f}     {r_rscore2_f[\"prec\"]:.3f}')\n",
    "print(f'              (Rec): {l_rscore2_f[\"rec\"]:.3f}     {r_rscore2_f[\"rec\"]:.3f}')\n",
    "print(f'               (F1): {l_rscore2_f[\"f1\"]:.3f}     {r_rscore2_f[\"f1\"]:.3f}')\n",
    "print(f'\\n---Abstractiveness---')\n",
    "print(f' 1-gram:           {novel_l_dict[1]:.4f}     {novel_r_dict[1]:.4f}     {(novel_l_dict[1] + novel_r_dict[1])/2:.4f}')\n",
    "print(f' 2-gram:           {novel_l_dict[2]:.4f}     {novel_r_dict[2]:.4f}     {(novel_l_dict[2] + novel_r_dict[2])/2:.4f}')\n",
    "print(f' 2-gram:           {novel_l_dict[3]:.4f}     {novel_r_dict[3]:.4f}     {(novel_l_dict[3] + novel_r_dict[3])/2:.4f}')\n",
    "print(f' 2-gram:           {novel_l_dict[4]:.4f}     {novel_r_dict[4]:.4f}     {(novel_l_dict[4] + novel_r_dict[4])/2:.4f}')"
   ]
  },
  {
   "cell_type": "code",
   "execution_count": null,
   "id": "adc65f8e",
   "metadata": {},
   "outputs": [],
   "source": []
  }
 ],
 "metadata": {
  "kernelspec": {
   "display_name": "Python 3",
   "language": "python",
   "name": "python3"
  },
  "language_info": {
   "codemirror_mode": {
    "name": "ipython",
    "version": 3
   },
   "file_extension": ".py",
   "mimetype": "text/x-python",
   "name": "python",
   "nbconvert_exporter": "python",
   "pygments_lexer": "ipython3",
   "version": "3.7.7"
  }
 },
 "nbformat": 4,
 "nbformat_minor": 5
}
