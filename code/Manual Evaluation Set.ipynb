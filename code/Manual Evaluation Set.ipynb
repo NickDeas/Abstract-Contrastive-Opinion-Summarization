{
 "cells": [
  {
   "cell_type": "code",
   "execution_count": 4,
   "id": "4e9d72b4",
   "metadata": {},
   "outputs": [],
   "source": [
    "import pandas as pd\n",
    "import numpy as np\n"
   ]
  },
  {
   "cell_type": "code",
   "execution_count": 33,
   "id": "d4e25eeb",
   "metadata": {},
   "outputs": [],
   "source": [
    "egcos_src_data = '../data/data_clean/polisumm_final.csv'\n",
    "cmos_src_data  = '../data/data_clean/polisumm_final_cmos.csv'\n",
    "zs_src_data = '../data/data_clean/polisumm_eval_short_%s.csv'\n",
    "fs_src_data = '../data/data_clean/polisumm_fs_test.csv'"
   ]
  },
  {
   "cell_type": "code",
   "execution_count": 15,
   "id": "1cafd011",
   "metadata": {},
   "outputs": [],
   "source": [
    "src_fp    = ''\n",
    "egcos_fp  = './EG COS Baseline/preds_egcos.csv'\n",
    "cmos_fp   = './CMOS Baseline/preds_cmos.csv'\n",
    "\n",
    "neural_base = '../examples/ex_summs_%s_%s.txt' # model and task type"
   ]
  },
  {
   "cell_type": "markdown",
   "id": "a7bbfd39",
   "metadata": {},
   "source": [
    "# Supervised "
   ]
  },
  {
   "cell_type": "markdown",
   "id": "5b2d0c9f",
   "metadata": {},
   "source": [
    "## Extractive Baselines "
   ]
  },
  {
   "cell_type": "code",
   "execution_count": 101,
   "id": "6fc334ae",
   "metadata": {},
   "outputs": [],
   "source": [
    "egcos_src   = pd.read_csv(egcos_src_data)\n",
    "cmos_src    = pd.read_csv(cmos_src_data)\n",
    "\n",
    "egcos_preds = pd.read_csv(egcos_fp)\n",
    "cmos_preds  = pd.read_csv(cmos_fp)"
   ]
  },
  {
   "cell_type": "code",
   "execution_count": 102,
   "id": "baec316d",
   "metadata": {},
   "outputs": [],
   "source": [
    "egcos_all = pd.concat((egcos_src, egcos_preds), axis = 1)\n",
    "cmos_all  = pd.concat((cmos_src, cmos_preds), axis = 1)"
   ]
  },
  {
   "cell_type": "code",
   "execution_count": 104,
   "id": "cfb7c095",
   "metadata": {},
   "outputs": [],
   "source": [
    "cmos_all = cmos_all.rename({'0': 'cmos_preds'}, axis = 1)[['all_texts', 'article_url', 'title', 'left_sum', 'right_sum', 'cmos_preds']]\n",
    "egcos_all = egcos_all.rename({'0': 'egcos_preds'}, axis = 1)[['all_texts', 'article_url', 'title', 'left_sum', 'right_sum', 'egcos_preds']]"
   ]
  },
  {
   "cell_type": "code",
   "execution_count": 108,
   "id": "4cc5c156",
   "metadata": {},
   "outputs": [
    {
     "data": {
      "text/html": [
       "<div>\n",
       "<style scoped>\n",
       "    .dataframe tbody tr th:only-of-type {\n",
       "        vertical-align: middle;\n",
       "    }\n",
       "\n",
       "    .dataframe tbody tr th {\n",
       "        vertical-align: top;\n",
       "    }\n",
       "\n",
       "    .dataframe thead th {\n",
       "        text-align: right;\n",
       "    }\n",
       "</style>\n",
       "<table border=\"1\" class=\"dataframe\">\n",
       "  <thead>\n",
       "    <tr style=\"text-align: right;\">\n",
       "      <th></th>\n",
       "      <th>all_texts</th>\n",
       "      <th>article_url</th>\n",
       "      <th>title</th>\n",
       "      <th>left_sum</th>\n",
       "      <th>right_sum</th>\n",
       "      <th>egcos_preds</th>\n",
       "    </tr>\n",
       "  </thead>\n",
       "  <tbody>\n",
       "    <tr>\n",
       "      <th>0</th>\n",
       "      <td>Mnuchin: Family of 4 could get $3K under virus...</td>\n",
       "      <td>https:/theflipside.io/archives/checks-in-the-mail</td>\n",
       "      <td>Checks In The Mail</td>\n",
       "      <td>The left supports cash payments and argues tha...</td>\n",
       "      <td>The right is generally supportive of helping c...</td>\n",
       "      <td>economy amid coronavirus outbreak | Family 4 c...</td>\n",
       "    </tr>\n",
       "    <tr>\n",
       "      <th>1</th>\n",
       "      <td>Analysis | What Trump's Trillion-Dollar Bailou...</td>\n",
       "      <td>https:/theflipside.io/archives/eos-regarding-t...</td>\n",
       "      <td>EOs Regarding Transgender Rights</td>\n",
       "      <td>The left is supportive of both policies.</td>\n",
       "      <td>The right is critical of both policies.</td>\n",
       "      <td>What Trump's Trillion-Dollar Bailout Gets Righ...</td>\n",
       "    </tr>\n",
       "    <tr>\n",
       "      <th>2</th>\n",
       "      <td>5 major Facebook stories broke over the last f...</td>\n",
       "      <td>https:/theflipside.io/archives/facebook-and-br...</td>\n",
       "      <td>Facebook and Breaking Up Big Tech</td>\n",
       "      <td>The left is skeptical of Zuckerberg’s motives,...</td>\n",
       "      <td>The right is disturbed by the free speech impl...</td>\n",
       "      <td>I tend think thinly veiled excuse | 5 major Fa...</td>\n",
       "    </tr>\n",
       "    <tr>\n",
       "      <th>3</th>\n",
       "      <td>Biden maintains a 90% chance of winning.\\n\\nht...</td>\n",
       "      <td>https:/theflipside.io/archives/general-electio...</td>\n",
       "      <td>General Election Update</td>\n",
       "      <td>The left is optimistic about Biden’s chances.</td>\n",
       "      <td>The right is cautiously optimistic about Trump...</td>\n",
       "      <td>*wildly* uninformed guess #USElections2020 | B...</td>\n",
       "    </tr>\n",
       "    <tr>\n",
       "      <th>4</th>\n",
       "      <td>Biden has a 90% chance of winning, according t...</td>\n",
       "      <td>https:/theflipside.io/archives/general-electio...</td>\n",
       "      <td>General Election Update</td>\n",
       "      <td>The left is optimistic about Biden’s chances.</td>\n",
       "      <td>The right is cautiously optimistic about Trump...</td>\n",
       "      <td>Biden 90% chance winning, according forecast |...</td>\n",
       "    </tr>\n",
       "    <tr>\n",
       "      <th>...</th>\n",
       "      <td>...</td>\n",
       "      <td>...</td>\n",
       "      <td>...</td>\n",
       "      <td>...</td>\n",
       "      <td>...</td>\n",
       "      <td>...</td>\n",
       "    </tr>\n",
       "    <tr>\n",
       "      <th>1194</th>\n",
       "      <td>I texted a bad diaper rash to Will's physician...</td>\n",
       "      <td>https:/theflipside.io/archives/apple-to-scan-f...</td>\n",
       "      <td>Apple to Scan for CSAM</td>\n",
       "      <td>NaN</td>\n",
       "      <td>NaN</td>\n",
       "      <td>I texted bad diaper rash Will's physician (fir...</td>\n",
       "    </tr>\n",
       "    <tr>\n",
       "      <th>1195</th>\n",
       "      <td>Of interest? https://t.co/H2TOBxv32t|21 cases ...</td>\n",
       "      <td>https:/theflipside.io/archives/it-was-the-best...</td>\n",
       "      <td>It was the best of times, it was the worst of ...</td>\n",
       "      <td>NaN</td>\n",
       "      <td>NaN</td>\n",
       "      <td>We built friends (and experts | cases contesti...</td>\n",
       "    </tr>\n",
       "    <tr>\n",
       "      <th>1196</th>\n",
       "      <td>@rodrigo131288 @Ezequielopez096 Otro dato inte...</td>\n",
       "      <td>https:/theflipside.io/archives/arkansas-bans-t...</td>\n",
       "      <td>Arkansas Bans Transgender Treatment for Children</td>\n",
       "      <td>The left opposes the law, arguing that the mos...</td>\n",
       "      <td>The right supports the law, arguing that few l...</td>\n",
       "      <td>@rodrigo131288 @Ezequielopez096 Otro dato inte...</td>\n",
       "    </tr>\n",
       "    <tr>\n",
       "      <th>1197</th>\n",
       "      <td>He's beginning to lose @CNN\\n👀\\nhttps://t.co/r...</td>\n",
       "      <td>https:/theflipside.io/archives/afghanistan-and...</td>\n",
       "      <td>Afghanistan and the World</td>\n",
       "      <td>NaN</td>\n",
       "      <td>NaN</td>\n",
       "      <td>He's beginning lose @CNN 👀 fun watch libs tear...</td>\n",
       "    </tr>\n",
       "    <tr>\n",
       "      <th>1198</th>\n",
       "      <td>This an interesting editorial. https://t.co/hl...</td>\n",
       "      <td>https:/theflipside.io/archives/biden-visits-sa...</td>\n",
       "      <td>Biden Visits Saudi Arabia</td>\n",
       "      <td>NaN</td>\n",
       "      <td>NaN</td>\n",
       "      <td>important article @brhodes bad idea #Biden vis...</td>\n",
       "    </tr>\n",
       "  </tbody>\n",
       "</table>\n",
       "<p>1199 rows × 6 columns</p>\n",
       "</div>"
      ],
      "text/plain": [
       "                                              all_texts  \\\n",
       "0     Mnuchin: Family of 4 could get $3K under virus...   \n",
       "1     Analysis | What Trump's Trillion-Dollar Bailou...   \n",
       "2     5 major Facebook stories broke over the last f...   \n",
       "3     Biden maintains a 90% chance of winning.\\n\\nht...   \n",
       "4     Biden has a 90% chance of winning, according t...   \n",
       "...                                                 ...   \n",
       "1194  I texted a bad diaper rash to Will's physician...   \n",
       "1195  Of interest? https://t.co/H2TOBxv32t|21 cases ...   \n",
       "1196  @rodrigo131288 @Ezequielopez096 Otro dato inte...   \n",
       "1197  He's beginning to lose @CNN\\n👀\\nhttps://t.co/r...   \n",
       "1198  This an interesting editorial. https://t.co/hl...   \n",
       "\n",
       "                                            article_url  \\\n",
       "0     https:/theflipside.io/archives/checks-in-the-mail   \n",
       "1     https:/theflipside.io/archives/eos-regarding-t...   \n",
       "2     https:/theflipside.io/archives/facebook-and-br...   \n",
       "3     https:/theflipside.io/archives/general-electio...   \n",
       "4     https:/theflipside.io/archives/general-electio...   \n",
       "...                                                 ...   \n",
       "1194  https:/theflipside.io/archives/apple-to-scan-f...   \n",
       "1195  https:/theflipside.io/archives/it-was-the-best...   \n",
       "1196  https:/theflipside.io/archives/arkansas-bans-t...   \n",
       "1197  https:/theflipside.io/archives/afghanistan-and...   \n",
       "1198  https:/theflipside.io/archives/biden-visits-sa...   \n",
       "\n",
       "                                                  title  \\\n",
       "0                                    Checks In The Mail   \n",
       "1                      EOs Regarding Transgender Rights   \n",
       "2                     Facebook and Breaking Up Big Tech   \n",
       "3                               General Election Update   \n",
       "4                               General Election Update   \n",
       "...                                                 ...   \n",
       "1194                             Apple to Scan for CSAM   \n",
       "1195  It was the best of times, it was the worst of ...   \n",
       "1196   Arkansas Bans Transgender Treatment for Children   \n",
       "1197                          Afghanistan and the World   \n",
       "1198                          Biden Visits Saudi Arabia   \n",
       "\n",
       "                                               left_sum  \\\n",
       "0     The left supports cash payments and argues tha...   \n",
       "1              The left is supportive of both policies.   \n",
       "2     The left is skeptical of Zuckerberg’s motives,...   \n",
       "3         The left is optimistic about Biden’s chances.   \n",
       "4         The left is optimistic about Biden’s chances.   \n",
       "...                                                 ...   \n",
       "1194                                                NaN   \n",
       "1195                                                NaN   \n",
       "1196  The left opposes the law, arguing that the mos...   \n",
       "1197                                                NaN   \n",
       "1198                                                NaN   \n",
       "\n",
       "                                              right_sum  \\\n",
       "0     The right is generally supportive of helping c...   \n",
       "1               The right is critical of both policies.   \n",
       "2     The right is disturbed by the free speech impl...   \n",
       "3     The right is cautiously optimistic about Trump...   \n",
       "4     The right is cautiously optimistic about Trump...   \n",
       "...                                                 ...   \n",
       "1194                                                NaN   \n",
       "1195                                                NaN   \n",
       "1196  The right supports the law, arguing that few l...   \n",
       "1197                                                NaN   \n",
       "1198                                                NaN   \n",
       "\n",
       "                                            egcos_preds  \n",
       "0     economy amid coronavirus outbreak | Family 4 c...  \n",
       "1     What Trump's Trillion-Dollar Bailout Gets Righ...  \n",
       "2     I tend think thinly veiled excuse | 5 major Fa...  \n",
       "3     *wildly* uninformed guess #USElections2020 | B...  \n",
       "4     Biden 90% chance winning, according forecast |...  \n",
       "...                                                 ...  \n",
       "1194  I texted bad diaper rash Will's physician (fir...  \n",
       "1195  We built friends (and experts | cases contesti...  \n",
       "1196  @rodrigo131288 @Ezequielopez096 Otro dato inte...  \n",
       "1197  He's beginning lose @CNN 👀 fun watch libs tear...  \n",
       "1198  important article @brhodes bad idea #Biden vis...  \n",
       "\n",
       "[1199 rows x 6 columns]"
      ]
     },
     "execution_count": 108,
     "metadata": {},
     "output_type": "execute_result"
    }
   ],
   "source": [
    "egcos_all"
   ]
  },
  {
   "cell_type": "code",
   "execution_count": 110,
   "id": "587e1738",
   "metadata": {},
   "outputs": [],
   "source": [
    "ext_all = egcos_all\n",
    "ext_all['cmos_preds'] = cmos_all['cmos_preds']"
   ]
  },
  {
   "cell_type": "markdown",
   "id": "f249f185",
   "metadata": {},
   "source": [
    "## Abstractive Baselines "
   ]
  },
  {
   "cell_type": "code",
   "execution_count": 36,
   "id": "ea1bdfa9",
   "metadata": {},
   "outputs": [],
   "source": [
    "def get_neural_res(model, task_type):\n",
    "    \n",
    "    if task_type == 'zs':\n",
    "        with open(neural_base % (model, task_type + '_l'), 'r', encoding = 'utf8') as f:\n",
    "            preds = f.readlines()\n",
    "        return preds\n",
    "            \n",
    "    else:\n",
    "        with open(neural_base % (model, task_type), 'r', encoding = 'utf8') as f:\n",
    "            preds = f.readlines()\n",
    "        return preds"
   ]
  },
  {
   "cell_type": "code",
   "execution_count": 60,
   "id": "62c3f2b2",
   "metadata": {},
   "outputs": [],
   "source": [
    "bart_zs = get_neural_res('bart', 'zs')\n",
    "bart_fs = get_neural_res('bart', 'fs')\n",
    "primera_zs = get_neural_res('primera', 'zs')\n",
    "primera_fs = get_neural_res('primera', 'fs')"
   ]
  },
  {
   "cell_type": "code",
   "execution_count": 61,
   "id": "b1f3915d",
   "metadata": {},
   "outputs": [],
   "source": [
    "zs_data = pd.read_csv(zs_src_data % 'l')[['tweet_text', 'reddit_text', 'title', 'left_sum', 'right_sum']]\n",
    "fs_data = pd.read_csv(fs_src_data)[['tweet_text', 'reddit_text', 'title', 'left_sum', 'right_sum']]"
   ]
  },
  {
   "cell_type": "code",
   "execution_count": 62,
   "id": "d5a7ae84",
   "metadata": {},
   "outputs": [],
   "source": [
    "zs_data['bart_preds'] = bart_zs\n",
    "zs_data['primera_preds'] = primera_zs"
   ]
  },
  {
   "cell_type": "code",
   "execution_count": 66,
   "id": "cf2531d5",
   "metadata": {},
   "outputs": [],
   "source": [
    "fs_data['bart_preds'] = list(zip(bart_fs[:len(bart_fs)//2], bart_fs[len(bart_fs)//2:]))\n",
    "# fs_data['primera_preds'] = list(zip(primera_fs[:len(primera_fs)//2], primera_fs[len(primera_fs)//2:]))"
   ]
  },
  {
   "cell_type": "code",
   "execution_count": 69,
   "id": "965e3690",
   "metadata": {},
   "outputs": [
    {
     "data": {
      "text/html": [
       "<div>\n",
       "<style scoped>\n",
       "    .dataframe tbody tr th:only-of-type {\n",
       "        vertical-align: middle;\n",
       "    }\n",
       "\n",
       "    .dataframe tbody tr th {\n",
       "        vertical-align: top;\n",
       "    }\n",
       "\n",
       "    .dataframe thead th {\n",
       "        text-align: right;\n",
       "    }\n",
       "</style>\n",
       "<table border=\"1\" class=\"dataframe\">\n",
       "  <thead>\n",
       "    <tr style=\"text-align: right;\">\n",
       "      <th></th>\n",
       "      <th>tweet_text</th>\n",
       "      <th>reddit_text</th>\n",
       "      <th>title</th>\n",
       "      <th>left_sum</th>\n",
       "      <th>right_sum</th>\n",
       "      <th>bart_preds</th>\n",
       "    </tr>\n",
       "  </thead>\n",
       "  <tbody>\n",
       "  </tbody>\n",
       "</table>\n",
       "</div>"
      ],
      "text/plain": [
       "Empty DataFrame\n",
       "Columns: [tweet_text, reddit_text, title, left_sum, right_sum, bart_preds]\n",
       "Index: []"
      ]
     },
     "execution_count": 69,
     "metadata": {},
     "output_type": "execute_result"
    }
   ],
   "source": [
    "fs_data[fs_data['bart_preds'].str.slice(0, 9) == 'Joe Biden']"
   ]
  },
  {
   "cell_type": "code",
   "execution_count": 72,
   "id": "ae38bc0a",
   "metadata": {},
   "outputs": [
    {
     "data": {
      "text/plain": [
       "('Joe Biden, the vice-president of the United States, is facing tests in the Middle East, and here are some of the reactions on social media.\\n',\n",
       " \"As the Senate prepares to vote on Brett Kavanaugh's Supreme Court nomination, here's a round-up of your reaction.\\n\")"
      ]
     },
     "execution_count": 72,
     "metadata": {},
     "output_type": "execute_result"
    }
   ],
   "source": [
    "fs_data['bart_preds'].str.slice(0, 9)[7]"
   ]
  },
  {
   "cell_type": "markdown",
   "id": "6e66d33c",
   "metadata": {},
   "source": [
    "# Combined FS"
   ]
  },
  {
   "cell_type": "code",
   "execution_count": 113,
   "id": "78cf22bb",
   "metadata": {},
   "outputs": [
    {
     "data": {
      "text/plain": [
       "array(['@atrupar @kimguilfoyle Constructs a straw man?\\nNo way pal.  The Democrats ARE murdering babies born alive!\\nIt is fact!  Are you really that indoctrinated &amp; BLIND, DEAF &amp; DUMB to not see this?\\nhttps://t.co/VOlQ7gKg0q|@HOPE__Messenger @HedwigGraymalk @DrJenGunter @ManInTheHoody You\\'re a liar. They blocked the bill and said why: because infanticide is already illegal.\\n\\nIts telling that you crazy fanatics have to lie. \\n\\nhttps://t.co/Oynr9o7xsT|@corycolt @realDonaldTrump https://t.co/Yyl3AqzXrn|Is it now an extremist view that you shouldn\\'t be able to kill a child born alive, breathing on the table, who survived an abortion attempt? https://t.co/jbXTOKCPtX|@ryangrim Then why did Democrats vote \"no\" on this bill instead of \"present\"?\\nhttps://t.co/rxaLZAsCwi|@LeslieWix @lauraapollo @TIME So a few things https://t.co/rsHWVMMQSd\\n\\nYou also need to read the reason why are the Dems blocked the bill is not for the reason you think https://t.co/OBQoYVPnNp\\n\\nI am well aware of the misunderstandings with the video and the comments that he made.|@daverjensen Yes. That’s already the standard. Asinine? Yes. \\nhttps://t.co/ixwlgHNumY \\nRead. Read this. You and your feelings are a pawn in a political machine to oppress and bully routine medical procedure in rare cases lethal natal-deformity for political leverage. \\nThis was an optics move.|@ardenkey Don’t buy the hype Arden; the republicans are playing politics on this issue. The whole bill was based on a lie: \\n\\nhttps://t.co/WAMVQiSFxK|@DaveDunndee @vixmcintyre @keys_otto @Heather4amazon The new law would force doctors to render care to babies too deformed or diseased to survive. Nothing to do with \"a failed abortion.\" Families would be denied the opportunity to hold and comfort their dying babies, so GOP can pander for votes. Despicable. https://t.co/IBGkILuHN1|@dogermanxl @trreal @OhioMSteele @KayaJones https://t.co/jhyP8keZ5X\\nhttps://t.co/uh4gjzAKWa\\nhttps://t.co/d61HapnJq6\\nhttps://t.co/RrOp0fcJBl\\nhttps://t.co/4RshUR9u9Q\\nhttps://t.co/J3AoCVGsHw\\nhttps://t.co/oThwmMWbTu\\nhttps://t.co/whcGzDALBW\\nhttps://t.co/wgYwdsf6GF\\nhttps://t.co/GVenEuEVkZ    (cont.)|CNNPolitics : Former Democratic Georgia gubernatorial candidate Stacey Abrams says that while her opponent, Republican Brian Kemp, was the legal victor of the state governor\\'s race, she would not call him the legitimate winner https://t.co/aRvE6h7Cft … https://t.co/ubYllhcpdZ) https://t.co/4uY3ToAXZv|FR. Plus Vox wrote a v in-depth piece about this very issue \\nhttps://t.co/5wn2S1Vh4g #hb16|Am I Missing Something? A GOP-backed bill to protect “abortion survivors” just failed. Some things are more important than political agendas. You should all be ashamed. Who are you to judge the value of life? I was born unwanted w/ #AO #spinabifida @jhoben https://t.co/pISG82vyft https://t.co/WbncnH1FcC|.@RepRossSpano puts politics above getting things done. Here\\'s another example. \\n1⃣ This doesn\\'t happen. \\n2⃣ Doctors already would help the child (obviously). \\n3⃣ It\\'s part of a Republican strategy to convince people 1 &amp; 2 aren\\'t already true (they are). https://t.co/zz67r2pAh6|Stacey Abrams calls Kemp the \\'legal\\' governor, won\\'t say he\\'s legitimate https://t.co/xEizXBAjtV|“This legislation is based on lies and a misinformation campaign, aimed at shaming women and criminalizing doctors for a practice that doesn’t exist in medicine or reality,” said Dr. Leana Wen, the president of Planned Parenthood https://t.co/a85fpYX0Xb|Specifics of the failed GOP bill:\\n\\n1. There are already protections in place for any child who is born.\\n\\n2. This bill singles out abortion clinics/doctors.\\n\\n3. 1.4% of abortions are 3rd trimester.\\n\\n4. Doctors won’t perform abortions during a delivery.\\n\\nhttps://t.co/HxJ1zhKicF|This is deceitful. \\n\\nThere is already a law on the books protecting “abortion survivors.”  It’s called the Born Alive Infants Protection Act, and it was passed in 2002. \\n\\nIt might be popular to mislead the public on this hot button issue, but please stop. https://t.co/rNy8MBTn2e|The Born-Alive Abortion Survivors Protection Act is unlikely to pass today, but it may be part of a bigger strategy https://t.co/LR8OMgTekV|Yes, the vote on #BornAlive is revealing &amp; sad. But don’t take the righteous indignation of #GOP politicians too seriously. \\n\\nWhen they had unified chambers + President’s pen they passed ZERO legislation that would affect domestic abortion in any meaningful way.|If you want actual facts @annanorthtweets has a good breakdown for @voxdotcom https://t.co/3QRisyXWxL|The bill didn\\'t pass. If you want to get a head start, expect this to be mentioned more than once by President Trump on the campaign trail.\\n\\nhttps://t.co/amdHymnGAj|Yesterday, one of my colleagues asked for unanimous consent for the House to consider the #BornAliveAct . For the 68th time, House Democrats said \"no\" to mandatory medical care for children born alive. Today, Democrats will get another chance.|Tonight, Senate Democrats blocked a vote on the Born-Alive Abortion Survivors Protection Act. It’s unconscionable &amp; inhumane that some in our country, especially members of Congress, are unwilling to take a stand and support the lives of newborns who survive an abortion attempt.|It\\'s lmost like Ben Sasse\\'s entire motive was to malign Democratic presidential candidates by creating an easily defeated bill based on a paper-thin lie that he knew his Evangelical base would still accept uncritically or something.\\n\\nWeird, right?\\n\\nhttps://t.co/Q4gjsD1dY9|just for the record, here’s the list of senators who believe a baby born alive after a failed abortion should be left to die\\n\\nabsolutely disgusting and disgraceful https://t.co/7IDuP3PDuv|A parent got a call for a \"survey\" for #NC09. Voting against #HB2 Bathroom Bishop, they were then asked if they supported abortion at birth. They knew that viable infants are protected by NC and national laws. Sickest way to try to scare voters. #ncpol  \\nhttps://t.co/MQaRFeYxXS|If you survive an abortion it wasn\\'t an abortion and the survivors of abortion are the patients- women.  God I hate Republicans and what they are doing to language.\\n\\nA Republican-backed bill to protect “abortion survivors” won’t pass. It still matters. https://t.co/pa07Dbtfj6\\\\|Why Stacey Abrams won\\'t call Georgia\\'s governor-elect \\'legitimate\\' https://t.co/G0w7aSQlhP https://t.co/PJKVhvhSNd|I’ve been looking for a good breakdown of the difference between the 2002 Born Alive Infants Protection Act, which protects infants born at any stage of gestation and is still good law, and Sasse’s Act. Here’s an article that contains a decent comparison: https://t.co/ecduwuyE4O|Background on the federal bill, and broader strategy implications: https://t.co/n3S0g6M0nY|#S311 failed in the Senate last night. It\\'s an example of just how far anti-abortion politicians and the Trump administration will go to restrict and undermine quality care to advance their ideological agenda. #ProtectProviders\\nhttps://t.co/9ofqXVrOAY|1/ So this has been angering me for several days.\\nThis GREAT article explains FACTS. I\\'ll break it down in the thread.\\nBut for the record, .@SenSasse has received $68,623 in NRA funding.\\nSo he only cares when he can shame a woman &amp; criminalize a doctor.\\nhttps://t.co/MUaIz9WeE8|falsely framing democrats as \"extreme\" on abortion is part of republicans\\' 2020 strategy. don\\'t fall for it.\\n\\nhttps://t.co/9nsXcS0epg\\nhttps://t.co/CHGXniBxSc https://t.co/Cn6NH6zqkp|Former Democratic Georgia gubernatorial candidate Stacey Abrams says that while her opponent, Republican Brian Kemp, was the legal victor of the state governor\\'s race, she wouldn\\'t call him the legitimate winner https://t.co/BGzdSCwPaA https://t.co/S6vcJDFPrg|The pseudoscientific anti-abortion bill that @BenSasse put up, and that Trump later tweeted lies about, isn’t designed to protect fetuses. It’s all about getting Republicans re-elected. @annanorthtweets, on the Born-Alive Abortion Survivors Protection Act. https://t.co/aOvSRihj1u|Actually, it\\'s a list of the people who saw through Been Sasse\\'s blatant lies and realized that there is already a law in place.\\n\\nBut yeah...keep lying, that works too.\\n\\nhttps://t.co/Q4gjsD1dY9|We shall see the newly elected Governor be considered as terrible as Trumpy Bear but more of a chicken. Maybe he is a closet gay??? That is what the Fox said months ago. https://t.co/jVtJOUR7TH|Grateful for @juliejohnsonTX\\'s bold leadership telling the truth about what #hb16 does. &lt;3|.@leachfortexas @loiskolkhorst introduced their “Born-Alive Infant Protection Act” today, largely mimics the U.S. Senate bill that failed to pass last week. It’s also redundant: A 2002 fed law already extends legal protection to infants alive after abortion #txlege #SB23 #HB16|Trump and other Republicans are focusing their attention on very late abortions in an effort to energize their base ahead of 2020. https://t.co/v0PxCufDID|Following the introduction of the Repeal Act in Virginia, anti-abortion activists made up inflammatory lies about abortion and proposed a law to shame abortion care and put providers under suspicion. #VAMarchForLife https://t.co/Gd24uiVenn|@RepRossSpano Stop playing politics and do your damn job. Background for folks who actually care: https://t.co/zz67r2pAh6|Keep trying, if at first you dont succeed try try again. A Republican-backed bill to protect “abortion survivors” just failed. It still matters. https://t.co/p4o1V6Xe0s|Infants born alive are already protected under the 2002 Act. This is a big smokescreen issue for the Republicans to divert voters\\' attention: https://t.co/6v8vo2jm0E|Don\\'t be fooled: the rhetoric against abortions later in pregnancy is merely another stepping stone to add to the path that would overturn Roe v. Wade.  \\n\\nhttps://t.co/e1qvvKAA8P|Anti-choice GOP Senator Ben Sasse’s legislation was based on inflammatory lies, not scientific facts. His bill didn’t pass, but it IS part of a bigger strategy by anti-choice extremists to ban abortion, period: https://t.co/66cnFyvAFD|\"If you\\'re getting upset about the Born-Alive Abortion Survivors Protection Act not passing, then it worked. It was DESIGNED to be a wedge issue in 2020 due to how... https://t.co/o8dtfqKBUX|Ohhh this is the abortion thing they’re all talking about https://t.co/BoAf5JP9Vx|Born-Alive Abortion Survivors Protection Act 2019 is nonsensical and nothing more than a ploy to overturn Roe &amp; add “infanticide” to the list of right-wing battle cries.  https://t.co/8Y4FfhWUAz|on the one hand, it was a blatant political stunt. on the other hand, there HAVE been recent attempts to pass laws that would allow termination of a baby AFTER it is out of the mother.... and now we know where the Senate Democrats stand.\\nhttps://t.co/Jxqv0wuAjr|The Born-Alive Abortion Survivors Protection Act was voted down due to Dem opposition. Even killing a baby after surviving an abortion is NOT viewed as WRONG by DEMOCRATS.\\n\\nWHAT FURTHER PROOF OF THEIR RADICALISM IS NEEDED?\\n\\nStop the killing. Stop the Dems.\\nhttps://t.co/uWv94AtYTt|“the bill could criminalize doctors and was unnecessary since laws already exist to protect an infant in the extremely unlikely scenario of a birth after an abortion attempt.” https://t.co/HPH53dWbLK|@JoyceWhiteVance Stunts like the \"Born Alive Abortion Survivors Protection Act,\" introduced by Ben Sasse earlier this year, are designed precisely to enable this insane talking point.\\n\\nhttps://t.co/LBQvz0yMk0|@guypbenson Unneeded and designed to be divisive.  As is your tweet.\\n\\nIn 2002, Congress passed the\\xa0Born-Alive Infants Protection Act, which\\xa0guaranteed to infants born at any stage of development\\xa0full legal rights.\\nhttps://t.co/M7pAYCoD3D|Baby Lives Matter. Born-Alive Abortion Survivors Protection Act 2019: why it matters - Vox https://t.co/z110n0pSRi|@realDonaldTrump There is no such thing as infanticide. That\\'s a made of lie. Here is a short but good read on how and why this awful myth has suddenly come into play.  Medical decisions are between patients and their doctors. https://t.co/j6kW5DuCoH|@GregAbbott_TX Not only is this a disgusting and outrageous lie, the bill is political grandstanding that further pushes this lie about Democrats.\\n\\nYou\\'re a sick man.\\n\\nhttps://t.co/BVAdwJHbfJ|Even if a child were to be born after an abortion attempt, she said, laws already exist to protect the baby. In 2002, Congress passed the Born-Alive Infants Protection Act, which guaranteed to infants born at any stage of development full legal rights. https://t.co/o6k7DM4LMX|Here\\'s a glimpse into the real reason the establishment + anti-Bernies are in a panic attacking us harder. \\n\\nIn RCP averages, @BernieSanders has a +10 lead as the Dem frontrunner.\\n\\nBernie is also:\\n+14 in NV\\n+12 in CA\\n+10.8 in Betting Odds\\n\\nhttps://t.co/TBVEGNqU6G\\n\\n#Bernie2020 https://t.co/qhuBdExUdm|THIS IS A B.S. MOVE BY TRUMPISTS AND REACTIONARIES TAKING ADVANTAGE OF OUR MOST VULNERABLE WHO ARE BORN WITH LIFE ENDING DISABILITIES BY USING THEM AS POLITICAL PROPS,... https://t.co/glF028LfzV|@testisfidelis @i_womb hAVE you heard about the PASOCA ?  https://t.co/QBBd1HBj2N ... oops that\\'s the BAASPA ?|❌#Dems Love Infanticide ❌.            Born-Alive Abortion Survivors Protection Act 2019: why it matters - Vox https://t.co/XujbH8x5NX|@charliekirk11 @KellyannePolls @KamalaHarris @CoryBooker @ewarren @SenGillibrand @amyklobuchar @BernieSanders Follow-up:  *Ben Sasse (bill’s co-sponsor) is likely my favorite GOP senator.   \\nThose outraged should know: The 2002 Congress has long since passed the born-alive infants protection Act, guaranteeing infants born at Any stage of development full rights.  \\nhttps://t.co/1SgeB6Y6Cn|@KyleKashuv Who had the house in 2017, couldn\\'t make it out of committee \\nhttps://t.co/4oqaW8rYj6|Yesterday, the president tweeted about the upcoming election. Here are the most thoughtful perspectives from both sides about delaying the election. Get caught up in 5 minutes: https://t.co/D4O5ixXESb|And if you think what I went through was no big deal, then read through what happened. Step by step. Then read it back to me.\\n\\nI Didn’t Kill My Baby https://t.co/dee8zFF1pz|Since the president is again making inflammatory and inaccuarate statements about later abortion, we\\'ll reshare this patient/physician story. Thank you @DrJenGunter for sharing your story.  https://t.co/A9fSGyiZOX|\"Politicians who twist the memory of a birth followed by a death to score political points and mislead about the reality of both abortion and newborns who are born to die should be ashamed of themselves.\" a mother\\'s story via @nytimes https://t.co/zPJ6Z8lNrM|\"Pregnancy terminations at or after 24 weeks of gestation, the time largely accepted as viability, are typically performed because of severe fetal anomalies or fetal anomalies combined with maternal health problems. Enormously courageous @DrJenGunter  https://t.co/FAiIaHq7G5|Every so often there’s a reader comment on a hot-button issue that truly takes your breath away. https://t.co/owEGkOecDD https://t.co/7XtjqSPKDQ|This myth of executing babies after birth is a disgusting, warped and shameful interpretation of comfort care. So classic @realDonaldTrump  https://t.co/wrWOV48Pe3|You have no idea how cruel this is. When you lie about infanticide, as this is not part of abortion, the only conclusion is you mean I murdered my son;\\n I Didn’t Kill My Baby https://t.co/dee8zFF1pz|“The threat of criminal prosecution does not help anybody’s medical care.” \\n\\nFrom @DrJenGunter in the NYT. \\n\\nhttps://t.co/Ze8JrnGs5j|And how terribly, horribly cruel the lies about infanticide are @ChrisCuomo to someone like me who had a baby born to die.\\n\\nhttps://t.co/wrWOV48Pe3|ABORTION IS NOT INFANTICIDE https://t.co/Sb68Sq7QVk|I Didn’t Kill My Baby - “ this bill is medically unnecessary and nothing more than a way to warp the reality of stillbirth or death within the first week of life to create confusion about abortion.” Read this very brave account by \\u2066@DrJenGunter\\u2069  https://t.co/qfTEjGIzXP|I Didn’t Kill My Baby https://t.co/YO3w8tpduo|So @realDonaldTrump babies who get comfort care who are born to die do get a blanket as part of quality medical care. I wrote a line about a blanket for @nytimes. It does feel as if you have bastardized my words here. https://t.co/wrWOV48Pe3 https://t.co/oHQSTguggP|Anti-choice politicians deliberately mislead the public about abortion to justify harmful restrictions. We applaud women like @DrJenGunter who publicly share their painful, personal stories in order to combat the lies. You can read hers here:  https://t.co/G2tRLSR5AR https://t.co/N1G9vlGitE|Forcing parents to keep premature babies alive is a forced birth performance  https://t.co/Sb68Sq7QVk|Oh man this is so powerful https://t.co/I2fay1IdxO|Incredibly powerful, moving article from my friend @DrJenGunter. If you\\'re going to have a debate about abortion, it\\'s outrageous to misrepresent tragedies like hers for political gain. Please read and share.\\n\\nhttps://t.co/aqVioKl7Gm|So @realDonaldTrump I see you lies against about infanticide tonight. I wrote this for you to read. I doubt you are brave enough to read it\\n\\nI Didn’t Kill My Baby https://t.co/dee8zFF1pz|Hey @vp when you say doctors are committing infanticide you are twisting my son’s death and my pain to score political points on abortion. Read this and then tell me to my face who is practicing infanticide.\\nI dare you. https://t.co/cX9JBqkTzD|I am really happy to discuss this with any right wing politician who has mistaken abortion propaganda for the truth. On camera. But they have to read this piece of mine first. https://t.co/sHl2D9PoJH|And then @MeghanMcCain I would like you to read this to me on @TheView so you can see how your lies about abortion hurt women like me https://t.co/cX9JBqkTzD|Brave woman, doctor and mom. It won\\'t change the minds of fanatics, but maybe it will educate those who still have some desire to understand. I Didn’t Kill My Baby https://t.co/IfTZOha61j|I Didn’t Kill My Baby https://t.co/n2StPP79tW|#PairedTexts\\n1. Tweet from the President of the United States\\n2. Editorial in the NY Times from @DrJenGunter https://t.co/fvbkw5jVsW\\n(Related: I\\'m always willing to engage with \"pro-life feminists\" - it\\'s a label I haven\\'t been able to wrap my brain around.) https://t.co/ypkR4TlzoC|So @steveavonloor you are twisting this scenario. I dare you to read what happened to me. I lived it and you are lying about it. You do not get to abuse my pain for political gain. I Didn’t Kill My Baby https://t.co/dee8zFF1pz|So @ScottWalker I dare you to read this. And once you have read it please name your time and place for discussing it in front of a live audience, that is if you are brave enough https://t.co/wrWOV48Pe3|I cried reading this article. @DrJenGunter is an amazing person to share such a personal story with the world. Sending much love. https://t.co/Vi9MBT6p56|.@azgop This should be required reading before pushing your stupid bill that only serves to rile up your base &amp; has no basis in reality \\u2066@NancyBarto\\u2069 is disgusting pushing false abortion narrative Opinion | I Didn’t Kill My Baby - The New York Times https://t.co/hG1bCTOVOw|“Some of us...are just trying to do our best for our baby born to die. Politicians who...mislead about the reality of both abortion and newborns who are born to die should be ashamed of themselves.”\\n\\nhttps://t.co/a6vzAoejhB|I dare you to read this @ScottWalker \\nI didn’t kill my baby, but Republicans want you to think I did \\nhttps://t.co/wrWOV48Pe3|Hey @GregAbbott_TX you are distorting palliative care for newborns to suit you political fetish. Read this if you are brave enough. I doubt you are https://t.co/wrWOV48Pe3|Powerful, especially because the author is speaking as a mom who has lost a child and  as an OB GYN who has performed abortions:  https://t.co/X6jRFNPOna https://t.co/X6jRFNPOna|This is @DrJenGunter ‘s most powerful piece. It is an honor to know her, and call her a friend\\nhttps://t.co/njo4SVJg50|Behind the dishonest rhetoric of \"murdering babies,\" the REAL families accused of such heinous acts are grieving over the loss of a child who couldn\\'t survive. Their compassionate decision to comfort the dying baby in it\\'s short life is twisted to \"murder\" https://t.co/gdfDjAzaOi|“While some parents may insist on heroic measures, many of us, after counseling from neonatologists...decide that a blanket and an embrace is the highest quality care we can give our baby.”\\n\\nThank you for sharing your story, @DrJenGunter.\\nhttps://t.co/0f0rfFDZlK|Thanks for sharing your heartbreaking story, but I wish you didn’t have to do it. Politicians can never know every woman’s unique experience and shouldn’t legislate as if they do. Women’s moral agency must be respected. #endabortionstigma  https://t.co/7VSdWcTipW|@Alyssa_Milano CASE STUDY: . . . . . \"If you are going to accuse me of executing my child, then you need to know exactly what happened\"  . .   NYT piece on 2-26-19 by Dr. Jen Gunter, an obstetrician and gynecologist.\\n\\nhttps://t.co/6Ch03bTD66|You aren’t capable of understanding the bravery it takes to parent a baby born to die. How dare you desecrate my son Aidan’s life and others like his for your twisted political rain. Read this @realDonaldTrump https://t.co/Sb68SqpsjU|\"If you are going to accuse me of executing my child, then you need to know exactly what happened. It’s not a pleasant story and the ending is terrible...But you need to know the truth, because stories like mine are being perverted for political gain.” https://t.co/J1ghZJFLvw|I Didn’t Kill My Baby\\nNo one is executing children at birth. Doctors are providing standard medical care.\\nEveryone trying to pass restrictive abortion laws must read this.\\n https://t.co/mKGuXZPmVb|I spoke up publicly about @realDonaldTrump and the @gop’s lies about infanticide. I was trolled mercilessly my forced birther publications for this, I knew they would buy it didn’t deter me https://t.co/wrWOV4qqCD 7/10|The @GOP lies about infanticide. They have made palliative care of dying babies, like mine, a joke. No one who cares about life does that.\\nhttps://t.co/jE5SP2GaVa 5|This is beautiful and lacerating\\n https://t.co/eAxHzNx1JY|https://t.co/tN60bzhGL4\\n\\nSomeone tell the entire GOP that women do not willingly kill their healthy infants in the third trimester. I’ve witnessed many many many stories just like this one in my career and lived through it, twice.|Difficult but impt piece to read from \\u2066@DrJenGunter\\u2069\\n\\nOpinion | I Didn’t Kill My Baby - The New York Times https://t.co/r9t9ChIRoW|Incredibly moving piece by @DrJenGunter about why she gave up her obstetrics practice - and why she doesn’t want the reason to become a political football. https://t.co/VbO1DMeuz7|Don’t argue with me about the need for a woman president when in the year of our lord 2019, there are many men who don’t understand basics of reproductive health &amp; birth. This poor woman, poor all of us, as long as our bodies are in the legal hands of men. https://t.co/hlaTbbt75L|Whatever your views on this bill, this story is unbelievably gut wrenching.  https://t.co/0DhLaz0QqC|And Dr. Gunter:\\n\\n\"I am uniquely positioned to say this bill is medically unnecessary and nothing more than a way to warp the reality of perinatal mortality (stillbirth or death within the first week of life) to create confusion about abortion.\"\\n\\nhttps://t.co/pwe0OufyRQ|It’s time for the church to PRAY:  https://t.co/zyYeR77Sk3|It\\'s time to stop the lies about how abortion care works. via @nytimes  https://t.co/ZP16uAGi66|I can\\'t believe I even have to do this....but this myth is so cringeworthy! \\n\\nRepublicans can\\'t help themselves, the cognitive dissonance and the projections are second nature, it\\'s truly extraordinary how mass human psychology works 🤔\\n\\nhttps://t.co/if3uiYTYtu|It is such a crock, this GOP effort to protect “born-alive” infants who are the products of supposedly failed abortion procedures from murder—and not just because the scenario they describe never occurs. A 2002 law does exactly what they want. It’s a show. https://t.co/vToPTZopak|Thanks @DrDGrossman for providing the facts on later abortion in @nytimes: https://t.co/hb9I7xnzuD|Thanks \\u2066@DrDGrossman\\u2069 and \\u2066@doctorjenn\\u2069 for bringing the facts- now \\u2066@nytimes\\u2069 can we talk about this title? Stop amplifying this nonsense!  https://t.co/RY7xtkZUZY|Hearing Orange Popsicle, I tried to figure out where in the hell he got this \\n\\n‘Executing Babies’ Here Are the Facts Behind Trump’s Misleading Abortion Tweet\\nInfants are rarely born alive after abortion procedures, and if they are, doctors do not kill them\\nhttps://t.co/ihHFmT8Rhf|@SenMcSallyAZ Facts are pesky little things!   https://t.co/2z7fgbzWdK|.@doctorjenn and I spoke to @nytDeniseGrady about later abortion, why Sen. Sasse’s bill #S311 isn’t based in medical practice, and what doctors do in the very rare cases a fetus is delivered alive. It’s important to have facts centered in this discussion.\\nhttps://t.co/AMlT6x1O5d|This is a very important explainer of how Trump and the GOP are misleading people on abortion and the “born alive” bill the Senate tried to take up this week. Dems blocked it. \\u2066@nytDeniseGrady\\u2069  https://t.co/51HDJkvYeV|.@DrDGrossman sets the record straight on Donald Trump\\'s misleading tweet about abortion in the @nytimes https://t.co/mjPumxgUgn|The Facts Behind Trump’s Misleading Abortion Tweet https://t.co/Lqjtmpzj6c|Today the President announced plans to sign a \"born alive\" Executive Order. Let\\'s be clear: What these policies would do is forcibly take infants from their parents\\' arms, force doctors to undergo futile procedures and leave parents with no say.\\n\\nhttps://t.co/Mq0wqKmg8R|As even the MO GOP ramps up hateful lies re rare abortions due to extreme wanted pregnancy situations, it\\'s vital to know the truth.\\n\\nIn medicine, truth is essential. In governing, we must emphasize truth.\\n\\nhttps://t.co/ULRbnFZ8oQ|So much misinformation out there about this. Infanticide is illegal, folks, and no one is advocating to change that. https://t.co/ea86swlfih|\"Infants are rarely born alive after abortion procedures, and if they are, doctors do not kill them.\" NO FUCKING DUHHHHHHHHHHHHHHHH! https://t.co/H3PD5CQlhD|https://t.co/Dl60xtRKUH @PGATOUR @PGA Are you in support OF this. @realDonaldTrump Won\\'t let INTERNATIONAL INVESTIGATORS in because HE\\'S been found GUILTY of HUMAN RIGHTS VIOLATIONS. 9451 PATHOLOGICAL LIES. People has been KILLED because of his LYING PROPAGANDA. #BOYCOTTPGA|Why are we letting Geoff Diehl spread misinformation about \"failed abortion\" and \"infanticide\"? @BostonGlobe &amp; @axios Boston, please fact check these absurd statements instead of amplifying them without scrutiny or context. #mapoli\\n\\nhttps://t.co/9BWOx4XYH8|@Franklin_Graham Mr Graham,\\nPlease stop misleading people.\\n\\n“Less than 1 percent of all abortions are done after 24 weeks, and many are performed because the fetus has a fatal condition or the pregnant woman’s life or health is at severe risk.”\\n\\nhttps://t.co/O58hfmuANf|More inflammatory lies from @realdonaldtrump.\\n\\n‘Executing Babies’: Here Are the Facts Behind Trump’s Misleading Abortion Tweet https://t.co/OdzZck0FVR|When folks are done with the hysterical ideological deceptive rhetoric, here are the facts... https://t.co/B1GwoLFEKz|@WeAre63Million @mcbyrne @secupp Not true. https://t.co/rIeuHp7Pm6|Here\\'s a very centrist look at it: \\n\\nhttps://t.co/JRNrtKRPWU|@RepAndyHarrisMD @SteveScalise https://t.co/y6HUfvKjw0\\nSTOP THE LIES STEVE|@GOPLeader Too emotional.  The facts - https://t.co/3gmX5K7x50|What their policies would do is take away family decisions in those cases when infants are born with only a few moments to live. Families should be making these decisions, not politicians. \\n\\nhttps://t.co/oWQpVmDtIt|@MeghanMcCain @BenSasse @WSJopinion https://t.co/i8pp3jvRNr You are propagating a NON issue, making it harder on families who have a gut-wrenching decision. I know y\\'all are hardcore pro-life proponents, but you raw ignorance to the issue is mind-blowing. @TheDemocrats need to shut down the inflammatory nonsense.|@gemmaod1 Think this was proven to be false, but why let a good lie get in the way of facts.\\n\\nhttps://t.co/ucT8GrwWP0|“If you’ve lied you are a liar by definition.” — @CongressmanHice https://t.co/613BDEalpw|@realDonaldTrump Let’s get educated on the subject, shall we?https://t.co/4DD5b2CKDD|Let’s be clear: doctors already have an obligation to provide appropriate medical care. To suggest otherwise is offensive. It\\'s time to stop the lies about how abortion care works.  https://t.co/jVTlI0UAk8|ANSIRH\\'s @DrDGrossman fact-checked misleading statements about later abortion in this article by @nytDeniseGrady in @nytimes: https://t.co/aoeALTTnP3|@Lauremari2 @ThomasFines @Aaron01581882 @SmackYeti @TWITMO_INMATE @AltNatSecAgency @MeredthSalenger @Twitter @realDonaldTrump Right; the purpose of the bill is to criminalize physicians. The legislation contains no information on viability or fetal deformities - because the politicians writing it don\\'t understand or give a crap about actual medical procedures. https://t.co/bcaT7wl0Jg https://t.co/zA3C5AaQzW|@RepRussFulcher @RepAnnWagner @GOPLeader Enough with the scare tactics: https://t.co/VLV1joMl6t|@RepDavidRLewis THERE. IS. NO. SUCH. THING. Ohmygod. Post-birth abortion is murder, and it\\'s ALREADY illegal. BECAUSE IT\\'S MURDER.\\n\\n\"Nothing in all the world is more dangerous...than conscientious stupidity.\"\\n\\nRead and learn. https://t.co/o64Bi9yHq0|@ScottAdamsSays Not providing any care to a newborn is tantamount to execution. It doesn\\'t matter that as they \"die naturally\" they are wrapped in a blanket and cuddled, as reported by the @nytimes. All babies would die naturally without great effort to keep them alive. https://t.co/4RUml2dN36|@KarinHousley It doesn’t happen, it’s a grandstanding bill:  https://t.co/wbjk48CMR9|Don\\'t let Republicans get away with malevolent plans to paint Democrats as killers. Trump\\'s tweet about \"executing babies after birth\" is just the first foray. Here are the facts behind Trump’s misleading abortion tweet: /2\\nhttps://t.co/JQ1gT6O7mi|‘Executing Babies’: Here Are the Facts Behind Trump’s Misleading Abortion Tweet https://t.co/0ONASVGHrT|‘Executing Babies’: Here Are the Facts Behind Trump’s Misleading Abortion Tweet  \"&lt; 1% of all abortions are done after 24 weeks, and many are performed because the fetus has a fatal condition or the pregnant woman’s life or health is at severe risk.\" https://t.co/iFQVxyaHCX|@GregAbbott_TX Try doing some reading before you put out ignorant comments like this. Drs take the Hippocratic oath - do no harm. A baby born close to the delivery date is called a full term child. No doctor would kill a live infant. Nice fear mongering. https://t.co/ZNYMNhFzm3|@RepSamGraves Stop the lies!  https://t.co/5b2hOP1UwH|@alexnazaryan Seeing how Trump previously accused Democrats of being willing to execute newborn babies, not entirely new: https://t.co/ZGY8WRBvvV|@Liz_Wheeler Just saying, that bill was totally unnecessary. Any baby born alive receives care. No one is arguing FOR infanticide. All people are arguing for is the right to have an abortion, most of which happen before 21 weeks. https://t.co/js0p2Rz1xj|@FrankJannuzi @girlsreallyrule Frank educate yourself. Trump is fighting for the babies. He he is talking about stuff like this? It\\'s not widespread but its happening and governors are vetoing BORN ALIVE bills \\n\\nhttps://t.co/7LUxl3dAa1|@SenBradley @SenatorRoth @RepSteineke This is a non issue, Senator. \\nhttps://t.co/FowDqVYT9e|@GillanBoyce @prayforcrawfish @RVAwonk @NYCAntifa Reminder: There\\'s so much (good) journalism being done that you can\\'t possibly see it all. But it\\'s a quick search away:\\nhttps://t.co/tm3EqbzFNX\\n\\nhttps://t.co/N2PtPvZMDr\\n\\nhttps://t.co/miGZZFp1Ok\\n\\nhttps://t.co/u77AmBT2fO|@NMalliotakis this is a fake bill an attempt to solve a problem that doesnt exist. less then 1% of abortions are done after the 24th week and a fetus cant survive untill at least the 24th week outside of its mother. You should spend your time actually helping people.\\nhttps://t.co/dTTTfuBfMv|@David_Cormack The \"killing babies\" rhetoric is particularly laughable. I saw the same thing play out on FB with someone declaring his confusion that anyone would support Infanticide. More details here, https://t.co/cawpY2BdZK|On the off chance any of the enraged “pro-life” folks care about facts: ‘Executing Babies’: Here Are the Facts Behind Trump’s Misleading Abortion Tweet https://t.co/rqYxjmDGOQ|@MeghanMcCain Have you done even basic research into third trimester abortion? Whatever you are talking about is not a thing. https://t.co/LW0JRxbHFJ|Today’s newsletter brings together opinions from both sides about the border surge, as the number of migrant children and families seeking to cross the border has increased to levels not seen since before the pandemic. Get caught up in 5 minutes: https://t.co/okAtiUEzVa|@BenSasse really? \\n\\nhttps://t.co/EkEIxx9M2q|True story: The Senate is voting on a bill tonight based on the false assumption that infants are routinely \"born alive\" after botched abortions—&amp; then murdered by providers afterward. Every aspect of anti-choice bill S. 311 is a fear-mongering LIE. https://t.co/gAy1TaOkmW|There\\'s really no lie so vile that the Psycho-Right won\\'t give voice to it. https://t.co/WbMt5DFmnk|New York passes controversial law regarding second trimester abortions. #mcj1022/25 https://t.co/rcVotZ57Ck|Senators to cast show votes on anti-abortion bill after manufactured ‘infanticide’ controversy https://t.co/wkgJhaRUnT https://t.co/J7HDcCvFBG|Once again, anti-choice Republicans are trying to criminalize women and abortion with @SenSasse\\'s extremist bill headed to a vote this evening. The overwhelming majority of Americans do not support this bill. #StopPersecutingAbortion #AbortionIsHealthcare https://t.co/YCgDAKxjpC|The bill\\'s main purpose is to gin up anti-abortion sentiment among the GOP base for the 2020 election, especially in the wake of the recently passed Reproductive Health Act in New York. \\nhttps://t.co/1YOpHr66zq|As usual republicans are using a woman\\'s right to choose as a political football. https://t.co/PbhK4NqUOH|Sasse’s anti-choice bill would close clinics &amp; threaten healthcare providers w/ prison time if they don\\'t take actions that directly contradict their medical training. Tell your senators to #ProtectProviders &amp; vote NO today: https://t.co/0CWXo8rX88 https://t.co/4Ua4kgZgnA|Senator Sasse\\'s bill is a wolf in sheep\\'s clothing.  It could needlessly make abortion more expensive AND it will criminalize healthcare providers who are simply following their medical training and clinical judgement. #ProtectProviders https://t.co/v1uP2q2ZDT|Ben Sasse\\'s anti-abortion bill, getting a vote today, is based on so much junk science it\\'s laughable. It\\'s an attempt to conflate a health care procedure with infanticide, which has nothing to do with measures in NY and VA that address later abortion.\\nhttps://t.co/md68mwDJmR|Senators to cast show votes on anti-abortion bill after manufactured \\'infanticide\\' controversy https://t.co/hTWrphdJ6k|Senators to cast show votes on anti-abortion bill after manufactured ‘infanticide’ controversy https://t.co/yd8V1TToJW https://t.co/HTDZSpHgDP|Senators plan to cast show votes on anti-abortion bill after manufactured ‘infanticide’ controversy. #VOTEPROCHOICE https://t.co/RRjdLfBDD1 https://t.co/gEvH4QCq7J|Via @ThinkProgress: Senators to cast show votes on anti-abortion bill after manufactured ‘infanticide’ controversy https://t.co/ENWtvoLU3L https://t.co/2zallEOInk|Senators to cast show votes on anti-abortion bill after manufactured ‘infanticide’ controversy https://t.co/i7wAp2IZbn https://t.co/NcmQ8y6yFb|GayHills. Com Senators to cast show votes on anti-abortion bill after manufactured ‘infanticide’ controversy – ThinkProgress https://t.co/zzG9J61Jux, see more https://t.co/8LxTWerja9|Senators to cast show votes on anti-abortion bill after manufactured \\'infanticide\\' controversy https://t.co/cvjheAlBJE via @thinkprogress|Senators to cast show votes on anti-abortion bill after manufactured \\'infanticide\\' controversy https://t.co/csF9f9vb8D via @thinkprogress|Senators to cast show votes on anti-abortion bill after manufactured \\'infanticide\\' controversy https://t.co/qDuIG3cRnR via @thinkprogress|Senators to cast show votes on anti-abortion bill after manufactured \\'infanticide\\' controversy https://t.co/1N34drBw2J via @thinkprogress|Senators to cast show votes on anti-abortion bill after manufactured \\'infanticide\\' controversy https://t.co/nbobzQ3Qwf via @thinkprogress|||'],\n",
       "      dtype=object)"
      ]
     },
     "execution_count": 113,
     "metadata": {},
     "output_type": "execute_result"
    }
   ],
   "source": [
    "ext_all[ext_all['cmos_preds'].str.contains('babies')]['all_texts'].values"
   ]
  },
  {
   "cell_type": "code",
   "execution_count": 98,
   "id": "d0f8a99d",
   "metadata": {},
   "outputs": [
    {
     "data": {
      "text/plain": [
       "\"The delegates to the constitutional assembly had the conceit that they represented the people.But the people said something different” suggesting “there are limits to the next constitution. That’s a positive for Chile.” https://t.co/kZBdv2tB10|Rejection of Chile's overwrought draft constitution will stoke frustration &amp; anger but also gives the country a chance to reboot through that lost Latin American art - conciliation and consensus. w/ comments @NicSaldias, @juannagel\\n\""
      ]
     },
     "execution_count": 98,
     "metadata": {},
     "output_type": "execute_result"
    }
   ],
   "source": [
    "zs_data['primera_preds'].iloc[139]"
   ]
  },
  {
   "cell_type": "code",
   "execution_count": null,
   "id": "813d8360",
   "metadata": {},
   "outputs": [],
   "source": []
  }
 ],
 "metadata": {
  "kernelspec": {
   "display_name": "Python 3",
   "language": "python",
   "name": "python3"
  },
  "language_info": {
   "codemirror_mode": {
    "name": "ipython",
    "version": 3
   },
   "file_extension": ".py",
   "mimetype": "text/x-python",
   "name": "python",
   "nbconvert_exporter": "python",
   "pygments_lexer": "ipython3",
   "version": "3.7.7"
  }
 },
 "nbformat": 4,
 "nbformat_minor": 5
}
