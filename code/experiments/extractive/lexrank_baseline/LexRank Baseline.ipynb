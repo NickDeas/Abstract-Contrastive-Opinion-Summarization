{
 "cells": [
  {
   "cell_type": "markdown",
   "id": "a7d7f2ec",
   "metadata": {},
   "source": [
    "# Imports "
   ]
  },
  {
   "cell_type": "code",
   "execution_count": 69,
   "id": "b2578c25",
   "metadata": {},
   "outputs": [],
   "source": [
    "import pandas as pd\n",
    "import numpy as np\n",
    "\n",
    "from lexrank import STOPWORDS, LexRank\n",
    "from sklearn.metrics import pairwise_distances\n",
    "from sklearn.feature_extraction.text import CountVectorizer\n",
    "\n",
    "from tqdm import tqdm\n",
    "tqdm.pandas()"
   ]
  },
  {
   "cell_type": "markdown",
   "id": "de999f14",
   "metadata": {},
   "source": [
    "# Settings and Configuration "
   ]
  },
  {
   "cell_type": "code",
   "execution_count": 4,
   "id": "a67b78f0",
   "metadata": {},
   "outputs": [],
   "source": [
    "POLISUM_PATH = '../../../../data/data_clean/polisum_clean.csv'\n",
    "\n",
    "RESULTS_PATH = '../../../../results/lexrank_results.csv'"
   ]
  },
  {
   "cell_type": "markdown",
   "id": "e5ae9379",
   "metadata": {},
   "source": [
    "# Data Loading "
   ]
  },
  {
   "cell_type": "code",
   "execution_count": 8,
   "id": "bb62e4c9",
   "metadata": {},
   "outputs": [],
   "source": [
    "polisum = pd.read_csv(POLISUM_PATH)"
   ]
  },
  {
   "cell_type": "markdown",
   "id": "f4bdbba0",
   "metadata": {},
   "source": [
    "# Model "
   ]
  },
  {
   "cell_type": "code",
   "execution_count": 61,
   "id": "436df89d",
   "metadata": {},
   "outputs": [],
   "source": [
    "# Used https://pypi.org/project/lexrank/\n",
    "class LexRankCOS():\n",
    "    \n",
    "    def __init__(self):\n",
    "        self.lexrank = None\n",
    "        self.vect    = CountVectorizer(stop_words = STOPWORDS['en'])\n",
    "    \n",
    "    def fit(self, documents):\n",
    "        self.lexrank = LexRank(documents, stopwords=STOPWORDS['en'])\n",
    "        self.vect    = self.vect.fit(documents)\n",
    "    \n",
    "    def predict(self, src_sents):\n",
    "        sent_scores = self.lexrank.rank_sentences(src_sents)\n",
    "        sent_scores = np.repeat(sent_scores[None, ...], sent_scores.shape[0], axis = 0)\n",
    "        \n",
    "        sent_bows   = self.vect.transform(src_sents)\n",
    "        sent_diffs  = pairwise_distances(sent_bows)\n",
    "        \n",
    "        cos_scores = sent_scores + (sent_diffs + sent_diffs.transpose())/2\n",
    "        cos_scores = cos_scores * ~np.eye(sent_scores.shape[0]).astype(bool)\n",
    "        \n",
    "        sum1_idx, sum2_idx = np.unravel_index(cos_scores.argmax(), cos_scores.shape)\n",
    "        \n",
    "        return src_sents[sum1_idx], src_sents[sum2_idx]"
   ]
  },
  {
   "cell_type": "markdown",
   "id": "101eaa01",
   "metadata": {},
   "source": [
    "# Predictions "
   ]
  },
  {
   "cell_type": "code",
   "execution_count": 65,
   "id": "fb8b5bb5",
   "metadata": {},
   "outputs": [],
   "source": [
    "all_sentences = [sent for sent_list in polisum['sm_text'].str.split('\\|\\|\\|').values for sent in sent_list]"
   ]
  },
  {
   "cell_type": "code",
   "execution_count": 67,
   "id": "8999c48e",
   "metadata": {},
   "outputs": [],
   "source": [
    "lexrank = LexRankCOS()\n",
    "lexrank.fit(all_sentences)"
   ]
  },
  {
   "cell_type": "code",
   "execution_count": 68,
   "id": "3a057945",
   "metadata": {},
   "outputs": [],
   "source": [
    "def get_lr_preds(model, sm_text):\n",
    "    sm_sents       = sm_text.split('|||')\n",
    "    l_pred, r_pred = model.predict(sm_sents)\n",
    "    return l_pred, r_pred\n",
    "\n",
    "def get_lr_preds_row(model, row):\n",
    "    l_pred, r_pred = get_lr_preds(model, row['sm_text'])\n",
    "    row['lexrank_lsum'] = l_pred\n",
    "    row['lexrank_rsum'] = r_pred\n",
    "    return row"
   ]
  },
  {
   "cell_type": "code",
   "execution_count": 71,
   "id": "ee678c22",
   "metadata": {},
   "outputs": [
    {
     "name": "stderr",
     "output_type": "stream",
     "text": [
      "100%|████████████████████████████████████████████████████████████████████████████████| 735/735 [03:09<00:00,  3.88it/s]\n"
     ]
    }
   ],
   "source": [
    "lr_preds = polisum.progress_apply(lambda row: get_lr_preds_row(lexrank, row), axis = 1)"
   ]
  },
  {
   "cell_type": "code",
   "execution_count": 89,
   "id": "226f32a3",
   "metadata": {},
   "outputs": [],
   "source": [
    "lr_preds.to_csv(RESULTS_PATH)"
   ]
  }
 ],
 "metadata": {
  "kernelspec": {
   "display_name": "Python 3",
   "language": "python",
   "name": "python3"
  },
  "language_info": {
   "codemirror_mode": {
    "name": "ipython",
    "version": 3
   },
   "file_extension": ".py",
   "mimetype": "text/x-python",
   "name": "python",
   "nbconvert_exporter": "python",
   "pygments_lexer": "ipython3",
   "version": "3.7.7"
  }
 },
 "nbformat": 4,
 "nbformat_minor": 5
}
