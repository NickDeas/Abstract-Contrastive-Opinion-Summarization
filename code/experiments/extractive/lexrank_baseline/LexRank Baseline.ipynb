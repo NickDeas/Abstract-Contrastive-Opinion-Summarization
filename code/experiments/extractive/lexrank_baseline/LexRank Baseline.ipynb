{
 "cells": [
  {
   "cell_type": "markdown",
   "id": "56297b01",
   "metadata": {},
   "source": [
    "# Imports "
   ]
  },
  {
   "cell_type": "code",
   "execution_count": 69,
   "id": "d3677805",
   "metadata": {},
   "outputs": [],
   "source": [
    "import pandas as pd\n",
    "import numpy as np\n",
    "\n",
    "from lexrank import STOPWORDS, LexRank\n",
    "from sklearn.metrics import pairwise_distances\n",
    "from sklearn.feature_extraction.text import CountVectorizer\n",
    "\n",
    "from tqdm import tqdm\n",
    "tqdm.pandas()"
   ]
  },
  {
   "cell_type": "markdown",
   "id": "04643214",
   "metadata": {},
   "source": [
    "# Settings and Configuration "
   ]
  },
  {
   "cell_type": "code",
   "execution_count": 4,
   "id": "b596e821",
   "metadata": {},
   "outputs": [],
   "source": [
    "POLISUM_PATH = '../../../../data/data_clean/polisum_clean.csv'\n",
    "\n",
    "RESULTS_PATH = '../../../../results/lexrank_results.csv'"
   ]
  },
  {
   "cell_type": "markdown",
   "id": "fef1b85d",
   "metadata": {},
   "source": [
    "# Data Loading "
   ]
  },
  {
   "cell_type": "code",
   "execution_count": 8,
   "id": "fdd5af05",
   "metadata": {},
   "outputs": [],
   "source": [
    "polisum = pd.read_csv(POLISUM_PATH)"
   ]
  },
  {
   "cell_type": "markdown",
   "id": "1ad6f1b9",
   "metadata": {},
   "source": [
    "# Model "
   ]
  },
  {
   "cell_type": "code",
   "execution_count": 61,
   "id": "4ee4dbd0",
   "metadata": {},
   "outputs": [],
   "source": [
    "# Used https://pypi.org/project/lexrank/\n",
    "class LexRankCOS():\n",
    "    '''\n",
    "        A simple baseline using LexRank and BOW cosine distance to select contrastive sentence summaries.\n",
    "    '''\n",
    "    \n",
    "    def __init__(self):\n",
    "        '''\n",
    "            Constructor for LexRankCOS model\n",
    "        '''\n",
    "        \n",
    "        self.lexrank = None\n",
    "        self.vect    = CountVectorizer(stop_words = STOPWORDS['en'])\n",
    "    \n",
    "    def fit(self, documents):\n",
    "        '''\n",
    "            Fit LexRank and vectorizer to the input set of documents\n",
    "            \n",
    "            Parameters:\n",
    "                documents\n",
    "                    List of full corpus of documents\n",
    "        '''\n",
    "        \n",
    "        self.lexrank = LexRank(documents, stopwords=STOPWORDS['en'])\n",
    "        self.vect    = self.vect.fit(documents)\n",
    "    \n",
    "    def predict(self, src_sents):\n",
    "        '''\n",
    "            Make a prediction of two contrasting summaries\n",
    "            \n",
    "            Parameters:\n",
    "                -src_sents\n",
    "                    Full set of candidate sentences to select from\n",
    "                    \n",
    "            Return\n",
    "                Predicted pair of summaries\n",
    "        '''\n",
    "        \n",
    "        # Calculate LexRank representativesness scores\n",
    "        sent_scores = self.lexrank.rank_sentences(src_sents)\n",
    "        sent_scores = np.repeat(sent_scores[None, ...], sent_scores.shape[0], axis = 0)\n",
    "        \n",
    "        # Transform sentences into BOWS and calculate cosine distances\n",
    "        sent_bows   = self.vect.transform(src_sents)\n",
    "        sent_diffs  = pairwise_distances(sent_bows)\n",
    "        \n",
    "        # Sum distance and LexRank scores for a comprehensive score\n",
    "        cos_scores = sent_scores + (sent_diffs + sent_diffs.transpose())/2\n",
    "        cos_scores = cos_scores * ~np.eye(sent_scores.shape[0]).astype(bool)\n",
    "        \n",
    "        # Select the two summaries with the maximum scores\n",
    "        sum1_idx, sum2_idx = np.unravel_index(cos_scores.argmax(), cos_scores.shape)\n",
    "        \n",
    "        return src_sents[sum1_idx], src_sents[sum2_idx]"
   ]
  },
  {
   "cell_type": "markdown",
   "id": "a03b450a",
   "metadata": {},
   "source": [
    "# Predictions "
   ]
  },
  {
   "cell_type": "code",
   "execution_count": 65,
   "id": "3eca2325",
   "metadata": {},
   "outputs": [],
   "source": [
    "# Place all sentences in PoliSum into a list for fitting LexRank and a vectorizer\n",
    "all_sentences = [sent for sent_list in polisum['sm_text'].str.split('\\|\\|\\|').values for sent in sent_list]"
   ]
  },
  {
   "cell_type": "code",
   "execution_count": 67,
   "id": "44393bac",
   "metadata": {},
   "outputs": [],
   "source": [
    "# Instantiate and fit the LexRankCOS Baseline\n",
    "lexrank = LexRankCOS()\n",
    "lexrank.fit(all_sentences)"
   ]
  },
  {
   "cell_type": "code",
   "execution_count": 68,
   "id": "dcde8e42",
   "metadata": {},
   "outputs": [],
   "source": [
    "def get_lr_preds(model, sm_text):\n",
    "    '''\n",
    "        Get a single pair of predictions\n",
    "        \n",
    "        Parameters:\n",
    "            -model\n",
    "                Fitted LexRankCOS Model\n",
    "            -sm_text\n",
    "                Source/candidate sentences to select from\n",
    "                \n",
    "        Return\n",
    "            LexRankCOS predictions for contrasting summary pairs\n",
    "    '''\n",
    "    \n",
    "    sm_sents       = sm_text.split('|||')\n",
    "    l_pred, r_pred = model.predict(sm_sents)\n",
    "    return l_pred, r_pred\n",
    "\n",
    "def get_lr_preds_row(model, row):\n",
    "    '''\n",
    "        Run LexRankCOS predictions on a dataframe row\n",
    "        \n",
    "        Parameters:\n",
    "            -model\n",
    "                Fitted LexRankCOS Model\n",
    "            -row:\n",
    "                Current row in the dataframe (for use with apply/progress_apply)\n",
    "                \n",
    "        Return:\n",
    "            A modified row containing the LexRank predictions\n",
    "    '''\n",
    "    \n",
    "    l_pred, r_pred = get_lr_preds(model, row['sm_text'])\n",
    "    row['lexrank_lsum'] = l_pred\n",
    "    row['lexrank_rsum'] = r_pred\n",
    "    return row"
   ]
  },
  {
   "cell_type": "code",
   "execution_count": 71,
   "id": "ffa595d1",
   "metadata": {},
   "outputs": [
    {
     "name": "stderr",
     "output_type": "stream",
     "text": [
      "100%|████████████████████████████████████████████████████████████████████████████████| 735/735 [03:09<00:00,  3.88it/s]\n"
     ]
    }
   ],
   "source": [
    "lr_preds = polisum.progress_apply(lambda row: get_lr_preds_row(lexrank, row), axis = 1)"
   ]
  },
  {
   "cell_type": "code",
   "execution_count": 89,
   "id": "d861dad5",
   "metadata": {},
   "outputs": [],
   "source": [
    "lr_preds.to_csv(RESULTS_PATH)"
   ]
  }
 ],
 "metadata": {
  "kernelspec": {
   "display_name": "Python 3",
   "language": "python",
   "name": "python3"
  },
  "language_info": {
   "codemirror_mode": {
    "name": "ipython",
    "version": 3
   },
   "file_extension": ".py",
   "mimetype": "text/x-python",
   "name": "python",
   "nbconvert_exporter": "python",
   "pygments_lexer": "ipython3",
   "version": "3.7.7"
  }
 },
 "nbformat": 4,
 "nbformat_minor": 5
}
