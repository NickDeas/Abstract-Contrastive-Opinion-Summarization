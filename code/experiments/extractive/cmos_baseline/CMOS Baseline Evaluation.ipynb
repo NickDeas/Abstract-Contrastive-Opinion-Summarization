{
 "cells": [
  {
   "cell_type": "code",
   "execution_count": 1,
   "id": "747d0fa2",
   "metadata": {},
   "outputs": [],
   "source": [
    "import pandas as pd\n",
    "import numpy as np\n",
    "\n",
    "import re\n",
    "\n",
    "from sklearn.feature_extraction.text import CountVectorizer, TfidfVectorizer\n",
    "from sklearn.metrics import pairwise_distances\n",
    "\n",
    "import spacy\n",
    "\n",
    "from tqdm import tqdm\n",
    "tqdm.pandas()\n",
    "\n",
    "import itertools\n",
    "\n",
    "from rouge_score import rouge_scorer\n",
    "from bert_score import score\n",
    "from nltk.translate import bleu_score\n",
    "\n",
    "import statistics"
   ]
  },
  {
   "cell_type": "markdown",
   "id": "4ae8a641",
   "metadata": {},
   "source": [
    "# Data Loading "
   ]
  },
  {
   "cell_type": "code",
   "execution_count": 28,
   "id": "ed5d744b",
   "metadata": {},
   "outputs": [],
   "source": [
    "POLISUM_PATH = '../../../../data/data_clean/polisum_clean.csv'\n",
    "\n",
    "RESULTS_PATH = '../../../../results/cmos_results.csv'\n",
    "\n",
    "SENT_SPLIT_TOK = '|||'\n",
    "\n",
    "LAMBDA       = 0.5"
   ]
  },
  {
   "cell_type": "code",
   "execution_count": 11,
   "id": "3b27b032",
   "metadata": {},
   "outputs": [],
   "source": [
    "polisum = pd.read_csv(POLISUM_PATH)"
   ]
  },
  {
   "cell_type": "markdown",
   "id": "44ef51eb",
   "metadata": {},
   "source": [
    "# Filter Out Adjectives "
   ]
  },
  {
   "cell_type": "code",
   "execution_count": 12,
   "id": "f3a53def",
   "metadata": {},
   "outputs": [],
   "source": [
    "nlp = spacy.load('en_core_web_sm')\n",
    "url_regex = r'https?:\\/\\/\\S*'"
   ]
  },
  {
   "cell_type": "code",
   "execution_count": 16,
   "id": "3045705e",
   "metadata": {},
   "outputs": [],
   "source": [
    "def remove_sal_terms(text):\n",
    "    doc = nlp(text)\n",
    "    new_doc = []\n",
    "    for token in doc:\n",
    "        if token.pos_ != 'ADJ' and token.dep_ != 'neg':\n",
    "            new_doc.append(token.text)\n",
    "    \n",
    "    return ' '.join(new_doc)\n",
    "\n",
    "def process_text(text):\n",
    "    text_l = re.split(SENT_SPLIT_TOK, text)\n",
    "    text_l = [t for t in text_l if t not in ('', ' ')]\n",
    "    \n",
    "    new_text_l = []\n",
    "    \n",
    "    for single_text in text_l:\n",
    "        new_text_l.append(remove_sal_terms(single_text))\n",
    "    \n",
    "    return '|||'.join(new_text_l)"
   ]
  },
  {
   "cell_type": "code",
   "execution_count": 17,
   "id": "7391befc",
   "metadata": {},
   "outputs": [
    {
     "name": "stderr",
     "output_type": "stream",
     "text": [
      "100%|██████████████████████████████████████████████████████████████████████████████| 977/977 [3:04:13<00:00, 11.31s/it]\n",
      "100%|██████████████████████████████████████████████████████████████████████████████| 977/977 [2:51:11<00:00, 10.51s/it]\n"
     ]
    }
   ],
   "source": [
    "polisum['h1_text'] = polisum['h1_text'].progress_apply(process_text)\n",
    "polisum['h2_text'] = polisum['h2_text'].progress_apply(process_text)"
   ]
  },
  {
   "cell_type": "markdown",
   "id": "d01a42a0",
   "metadata": {},
   "source": [
    "# CMOS Model "
   ]
  },
  {
   "cell_type": "code",
   "execution_count": 22,
   "id": "e906acfe",
   "metadata": {},
   "outputs": [],
   "source": [
    "class CMOS():\n",
    "    \n",
    "    def __init__(self, lambda_w, vectorizer):\n",
    "        self.lambda_w = lambda_w\n",
    "        self.vectorizer = vectorizer\n",
    "        self.SENT_SPLIT_TOK = '\\|\\|\\|'\n",
    "    \n",
    "    def predict(self, l_text, r_text):\n",
    "        '''\n",
    "            Predict the representative, contrastive summaries using Contrastive Max-Sum Opinion Summarization.\n",
    "            Text should not contain adjectives or negations\n",
    "        '''\n",
    "        \n",
    "        half1 = self.split_text(l_text) if isinstance(l_text, str) else l_text\n",
    "        half2 = self.split_text(r_text) if isinstance(r_text, str) else r_text\n",
    "        \n",
    "        half1_bows = self.get_vecs(half1)\n",
    "        half2_bows = self.get_vecs(half2)\n",
    "        \n",
    "        half1_cs = self.calc_cos_sims(half1_bows)\n",
    "        half2_cs = self.calc_cos_sims(half2_bows)\n",
    "        sum_cs   = self.combine_cos_sims(half1_cs, half2_cs)\n",
    "        \n",
    "        dist_cs  = self.calc_cos_dists(half1_bows, half2_bows)\n",
    "        \n",
    "        all_scores    = sum_cs + 2 * self.lambda_w * dist_cs\n",
    "        h1_idx, h2_idx = np.unravel_index(all_scores.argmax(), all_scores.shape)\n",
    "        \n",
    "        return half1[h1_idx], half2[h2_idx]\n",
    "    \n",
    "    def calc_cos_sims(self, bows):\n",
    "        sims = 1. - pairwise_distances(bows, metric = 'cosine')\n",
    "        sims = sims.mean(-1)\n",
    "        return sims\n",
    "    \n",
    "    def combine_cos_sims(self, cs1s, cs2s):\n",
    "        combos = itertools.product(cs1s, cs2s)\n",
    "        combos = [a + b for (a, b) in combos]\n",
    "        combos = np.array(combos).reshape(len(cs1s), len(cs2s))\n",
    "        return combos\n",
    "    \n",
    "    def calc_cos_dists(self, bows1, bows2):\n",
    "        dists = pairwise_distances(bows1, bows2, metric = 'cosine')\n",
    "        return dists\n",
    "    \n",
    "    def get_vecs(self, text_list):\n",
    "        return self.vectorizer.transform(text_list)\n",
    "    \n",
    "    def split_text(self, text):\n",
    "        text_l = re.split(self.SENT_SPLIT_TOK, text)\n",
    "        text_l = [t for t in text_l if t != '']\n",
    "        return text_l"
   ]
  },
  {
   "cell_type": "markdown",
   "id": "3cab123a",
   "metadata": {},
   "source": [
    "# Evaluation "
   ]
  },
  {
   "cell_type": "code",
   "execution_count": 23,
   "id": "7d7163c2",
   "metadata": {},
   "outputs": [],
   "source": [
    "def make_prediction(model, row):\n",
    "    h1_text, h2_text = row['h1_text'], row['h2_text']\n",
    "    \n",
    "    summ_1, summ_2 = model.predict(h1_text, h2_text)\n",
    "    \n",
    "    row['cmos_lsum'] = summ_1\n",
    "    row['cmos_rsum'] = summ_2\n",
    "    \n",
    "    return row"
   ]
  },
  {
   "cell_type": "markdown",
   "id": "68845d31",
   "metadata": {},
   "source": [
    "### Vectorizer Training "
   ]
  },
  {
   "cell_type": "code",
   "execution_count": 24,
   "id": "431e1891",
   "metadata": {},
   "outputs": [],
   "source": [
    "vect = CountVectorizer(min_df = 5, max_df = 0.8)\n",
    "tf_vect = CountVectorizer(min_df = 5, max_df = 0.8)"
   ]
  },
  {
   "cell_type": "code",
   "execution_count": 26,
   "id": "867dcaa2",
   "metadata": {},
   "outputs": [],
   "source": [
    "vect = vect.fit(polisum['sm_text'])\n",
    "tf_vect = tf_vect.fit(polisum['sm_text'])"
   ]
  },
  {
   "cell_type": "code",
   "execution_count": 29,
   "id": "fef86504",
   "metadata": {},
   "outputs": [],
   "source": [
    "cmos    = CMOS(LAMBDA, vect)\n",
    "tf_cmos = CMOS(LAMBDA, tf_vect)"
   ]
  },
  {
   "cell_type": "code",
   "execution_count": 31,
   "id": "2778f103",
   "metadata": {},
   "outputs": [
    {
     "name": "stderr",
     "output_type": "stream",
     "text": [
      "100%|████████████████████████████████████████████████████████████████████████████████| 977/977 [32:56<00:00,  2.02s/it]\n"
     ]
    }
   ],
   "source": [
    "predictions = polisum.progress_apply(lambda row: make_prediction(cmos, row), axis = 1)"
   ]
  },
  {
   "cell_type": "code",
   "execution_count": 32,
   "id": "59acd5f8",
   "metadata": {},
   "outputs": [],
   "source": [
    "predictions.to_csv(RESULTS_PATH, index = None)"
   ]
  }
 ],
 "metadata": {
  "kernelspec": {
   "display_name": "Python 3",
   "language": "python",
   "name": "python3"
  },
  "language_info": {
   "codemirror_mode": {
    "name": "ipython",
    "version": 3
   },
   "file_extension": ".py",
   "mimetype": "text/x-python",
   "name": "python",
   "nbconvert_exporter": "python",
   "pygments_lexer": "ipython3",
   "version": "3.7.7"
  }
 },
 "nbformat": 4,
 "nbformat_minor": 5
}
