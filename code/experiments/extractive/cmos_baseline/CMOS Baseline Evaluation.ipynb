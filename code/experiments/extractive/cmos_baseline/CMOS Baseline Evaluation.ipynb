{
 "cells": [
  {
   "cell_type": "markdown",
   "id": "bb37fe6d",
   "metadata": {},
   "source": [
    "# Imports "
   ]
  },
  {
   "cell_type": "code",
   "execution_count": 49,
   "id": "0e22d5b4",
   "metadata": {},
   "outputs": [],
   "source": [
    "from cmos import CMOS\n",
    "\n",
    "import pandas as pd\n",
    "import numpy as np\n",
    "\n",
    "import re\n",
    "\n",
    "from sklearn.feature_extraction.text import CountVectorizer, TfidfVectorizer\n",
    "from sklearn.metrics import pairwise_distances\n",
    "\n",
    "import spacy\n",
    "\n",
    "from tqdm import tqdm\n",
    "tqdm.pandas()\n",
    "\n",
    "import itertools\n",
    "\n",
    "from rouge_score import rouge_scorer\n",
    "from bert_score import score\n",
    "from nltk.translate import bleu_score\n",
    "\n",
    "import statistics\n",
    "\n",
    "from typing import List, Tuple, Union, Optional"
   ]
  },
  {
   "cell_type": "markdown",
   "id": "62a41d94",
   "metadata": {},
   "source": [
    " # Settings and Configuration"
   ]
  },
  {
   "cell_type": "code",
   "execution_count": 34,
   "id": "8c63a510",
   "metadata": {},
   "outputs": [],
   "source": [
    "POLISUM_PATH = '../../../../data/data_clean/polisum_clean.csv'\n",
    "\n",
    "RESULTS_PATH = '../../../../results/cmos_results.csv'\n",
    "\n",
    "SENT_SPLIT_TOK = '|||'\n",
    "SENT_RSPLIT_TOK = '\\|\\|\\|'\n",
    "\n",
    "# Contrastiveness weight for CMOS model\n",
    "LAMBDA       = 0.5"
   ]
  },
  {
   "cell_type": "markdown",
   "id": "f7fd0dad",
   "metadata": {},
   "source": [
    "# Data Loading "
   ]
  },
  {
   "cell_type": "code",
   "execution_count": 36,
   "id": "47d008a9",
   "metadata": {},
   "outputs": [],
   "source": [
    "polisum = pd.read_csv(POLISUM_PATH)"
   ]
  },
  {
   "cell_type": "markdown",
   "id": "d222c93e",
   "metadata": {},
   "source": [
    "# Data Processing"
   ]
  },
  {
   "cell_type": "markdown",
   "id": "cd6f4f05",
   "metadata": {},
   "source": [
    "Contrastive Max-Sum Opinion Summarization filters out adjectives and negation terms when comparing texts for contrastiveness and representativeness. So, the data is preprocessed according to these steps. "
   ]
  },
  {
   "cell_type": "code",
   "execution_count": 38,
   "id": "92135085",
   "metadata": {},
   "outputs": [],
   "source": [
    "nlp = spacy.load('en_core_web_sm')\n",
    "url_regex = r'https?:\\/\\/\\S*'"
   ]
  },
  {
   "cell_type": "code",
   "execution_count": 39,
   "id": "d5cae902",
   "metadata": {},
   "outputs": [],
   "source": [
    "def remove_sal_terms(text: str) -> str:\n",
    "    '''\n",
    "        Removes salient terms (adjectives and negation terms) from text\n",
    "        \n",
    "        Parameters:\n",
    "            -text: str\n",
    "                Text to filter adjectives from\n",
    "        \n",
    "        Return\n",
    "            Text with salient terms removed\n",
    "    '''\n",
    "    \n",
    "    doc = nlp(text)\n",
    "    new_doc = []\n",
    "    for token in doc:\n",
    "        if token.pos_ != 'ADJ' and token.dep_ != 'neg':\n",
    "            new_doc.append(token.text)\n",
    "    \n",
    "    return ' '.join(new_doc)\n",
    "\n",
    "def process_text(text: str) -> str:\n",
    "    '''\n",
    "        Preprocess text by removing salient terms and remove urls or empty documents\n",
    "        \n",
    "        Parameters:\n",
    "            -text: str\n",
    "                Text to preprocess for CMOS\n",
    "        \n",
    "        Return\n",
    "            Preprocessed text according to CMOS preprocessing steps\n",
    "    '''\n",
    "    \n",
    "    text_l = re.split(SENT_RSPLIT_TOK, text)\n",
    "    text_l = [t for t in text_l if t not in ('', ' ')]\n",
    "    \n",
    "    new_text_l = []\n",
    "    \n",
    "    for single_text in text_l:\n",
    "        new_text_l.append(remove_sal_terms(single_text))\n",
    "    \n",
    "    return '|||'.join(new_text_l)"
   ]
  },
  {
   "cell_type": "code",
   "execution_count": 40,
   "id": "5888a835",
   "metadata": {},
   "outputs": [
    {
     "name": "stderr",
     "output_type": "stream",
     "text": [
      "100%|████████████████████████████████████████████████████████████████████████████████| 735/735 [02:53<00:00,  4.24it/s]\n",
      "100%|████████████████████████████████████████████████████████████████████████████████| 735/735 [02:49<00:00,  4.33it/s]\n"
     ]
    }
   ],
   "source": [
    "# Preprocess texts to prepare for inference\n",
    "polisum['h1_text'] = polisum['h1_text'].progress_apply(process_text)\n",
    "polisum['h2_text'] = polisum['h2_text'].progress_apply(process_text)"
   ]
  },
  {
   "cell_type": "markdown",
   "id": "7f435fe4",
   "metadata": {},
   "source": [
    "# Evaluation "
   ]
  },
  {
   "cell_type": "code",
   "execution_count": 43,
   "id": "54e698de",
   "metadata": {},
   "outputs": [],
   "source": [
    "def make_prediction(model, row):\n",
    "    '''\n",
    "        Pandas apply function to make contrastive summary pair predictions\n",
    "        \n",
    "        Parameters:\n",
    "            -model\n",
    "                Instantiated CMOS model to make predictions\n",
    "            -row\n",
    "                Current row of the DataFrame\n",
    "        \n",
    "        Return\n",
    "            A modified row containing CMOS predictions\n",
    "    '''\n",
    "    h1_text, h2_text = row['h1_text'], row['h2_text']\n",
    "    \n",
    "    summ_1, summ_2 = model.predict(h1_text, h2_text)\n",
    "    \n",
    "    row['cmos_lsum'] = summ_1\n",
    "    row['cmos_rsum'] = summ_2\n",
    "    \n",
    "    return row"
   ]
  },
  {
   "cell_type": "markdown",
   "id": "cddd2d30",
   "metadata": {},
   "source": [
    "### Vectorizer Training "
   ]
  },
  {
   "cell_type": "code",
   "execution_count": 44,
   "id": "a2b52468",
   "metadata": {},
   "outputs": [],
   "source": [
    "vect = CountVectorizer(min_df = 5, max_df = 0.8)\n",
    "tf_vect = CountVectorizer(min_df = 5, max_df = 0.8)"
   ]
  },
  {
   "cell_type": "code",
   "execution_count": 45,
   "id": "bd0aa3e7",
   "metadata": {},
   "outputs": [],
   "source": [
    "vect = vect.fit(polisum['sm_text'])\n",
    "tf_vect = tf_vect.fit(polisum['sm_text'])"
   ]
  },
  {
   "cell_type": "code",
   "execution_count": 46,
   "id": "5c7f93ff",
   "metadata": {},
   "outputs": [],
   "source": [
    "cmos    = CMOS(LAMBDA, vect)\n",
    "tf_cmos = CMOS(LAMBDA, tf_vect)"
   ]
  },
  {
   "cell_type": "code",
   "execution_count": 47,
   "id": "142b9b7c",
   "metadata": {},
   "outputs": [
    {
     "name": "stderr",
     "output_type": "stream",
     "text": [
      "100%|███████████████████████████████████████████████████████████████████████████████| 735/735 [00:03<00:00, 198.93it/s]\n"
     ]
    }
   ],
   "source": [
    "predictions = polisum.progress_apply(lambda row: make_prediction(cmos, row), axis = 1)"
   ]
  },
  {
   "cell_type": "code",
   "execution_count": 48,
   "id": "1f3cd753",
   "metadata": {},
   "outputs": [],
   "source": [
    "predictions.to_csv(RESULTS_PATH, index = None)"
   ]
  }
 ],
 "metadata": {
  "kernelspec": {
   "display_name": "Python 3",
   "language": "python",
   "name": "python3"
  },
  "language_info": {
   "codemirror_mode": {
    "name": "ipython",
    "version": 3
   },
   "file_extension": ".py",
   "mimetype": "text/x-python",
   "name": "python",
   "nbconvert_exporter": "python",
   "pygments_lexer": "ipython3",
   "version": "3.7.7"
  }
 },
 "nbformat": 4,
 "nbformat_minor": 5
}
