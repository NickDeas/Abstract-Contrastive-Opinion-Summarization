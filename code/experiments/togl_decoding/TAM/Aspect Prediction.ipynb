{
 "cells": [
  {
   "cell_type": "code",
   "execution_count": 33,
   "id": "0d5b1f15-41f4-48a2-bb90-bcb39cc01964",
   "metadata": {},
   "outputs": [],
   "source": [
    "import pandas as pd\n",
    "import numpy as np\n",
    "import json\n",
    "\n",
    "import torch\n",
    "from torch.utils.data import DataLoader\n",
    "\n",
    "from transformers import BartTokenizer\n",
    "\n",
    "from tam_lib import data_utils, modeling, evaluation"
   ]
  },
  {
   "cell_type": "code",
   "execution_count": 29,
   "id": "50a12a23-8b3f-4008-a792-1e6d06b6c542",
   "metadata": {},
   "outputs": [],
   "source": [
    "POLISUM_SRC = '../../../../data/polisum_clean.csv'\n",
    "CLEAN_OUTPUT = '../../../../data/polisum_tam'\n",
    "TAM_SAVE_PATH = '../../../../models/tam_model'\n",
    "TOGL_DIST_OUT = '../../../../results/togl_decoding/'\n",
    "\n",
    "TEXT_COL        = 'sm_text'\n",
    "CLEAN_TEXT_COL  = 'text_clean'\n",
    "SENT_SPLIT_TOK  = '|||'\n",
    "SENT_RSPLIT_TOK = '\\|\\|\\|'\n",
    "\n",
    "BATCH_SIZE = 64\n",
    "NUM_WORKERS = 10\n",
    "\n",
    "DEVICE = torch.device('cuda:0')"
   ]
  },
  {
   "cell_type": "markdown",
   "id": "da502d2f-9653-4081-b288-1c12aea0a07a",
   "metadata": {
    "tags": []
   },
   "source": [
    "# Loading Data "
   ]
  },
  {
   "cell_type": "code",
   "execution_count": 3,
   "id": "c1a919b1-3a87-4764-8c28-44767fe5b752",
   "metadata": {},
   "outputs": [
    {
     "name": "stdout",
     "output_type": "stream",
     "text": [
      "Reading data files\n",
      "Reading vectorizer\n"
     ]
    }
   ],
   "source": [
    "data_train, data_val, vectorizer = data_utils.load_data(CLEAN_OUTPUT)"
   ]
  },
  {
   "cell_type": "code",
   "execution_count": 4,
   "id": "13609634-8c72-4ea4-a4ed-b12307d19b4a",
   "metadata": {},
   "outputs": [],
   "source": [
    "polisum = pd.read_csv(POLISUM_SRC)"
   ]
  },
  {
   "cell_type": "code",
   "execution_count": 5,
   "id": "f5187e8c-cb6b-420e-8e66-ba89b69912c1",
   "metadata": {},
   "outputs": [],
   "source": [
    "train_ds = data_utils.DocDataset(pd.concat((data_train, data_val), axis = 0), \n",
    "                              text_col = CLEAN_TEXT_COL, \n",
    "                              vectorizer = vectorizer)"
   ]
  },
  {
   "cell_type": "code",
   "execution_count": 6,
   "id": "e8792d1d-d702-4f7b-93c6-9feafaebb086",
   "metadata": {},
   "outputs": [],
   "source": [
    "VOCAB_SIZE = len(vectorizer.vocabulary_)\n",
    "VECT_VOCAB = vectorizer.vocabulary_"
   ]
  },
  {
   "cell_type": "code",
   "execution_count": 7,
   "id": "30b690c9-e0b6-408f-a150-34363f7d09f5",
   "metadata": {},
   "outputs": [],
   "source": [
    "dl = DataLoader(train_ds, batch_size = 16, num_workers = NUM_WORKERS, shuffle = True)"
   ]
  },
  {
   "cell_type": "markdown",
   "id": "ca4fbc99-5b94-4470-be2a-3095b9a60800",
   "metadata": {},
   "source": [
    "# Loading Model "
   ]
  },
  {
   "cell_type": "code",
   "execution_count": 8,
   "id": "d05b8809-6d20-4bc9-b47d-084e1c237c5b",
   "metadata": {},
   "outputs": [],
   "source": [
    "tam = modeling.TAM.from_pretrained(TAM_SAVE_PATH, device = DEVICE)"
   ]
  },
  {
   "cell_type": "markdown",
   "id": "77302f19-4a3b-446d-892a-16477e3cfdb7",
   "metadata": {},
   "source": [
    "# Predicting Aspects"
   ]
  },
  {
   "cell_type": "code",
   "execution_count": 20,
   "id": "9a1b3851-64c6-4b9d-a5cb-4d48be198719",
   "metadata": {
    "scrolled": true,
    "tags": []
   },
   "outputs": [
    {
     "name": "stdout",
     "output_type": "stream",
     "text": [
      "Finished batch 3791\r"
     ]
    }
   ],
   "source": [
    "asps = {'asp1': None, 'asp2': None, 'title': []}\n",
    "\n",
    "i = 0\n",
    "for batch in dl:\n",
    "    bow = batch['bow'].to(DEVICE).squeeze()\n",
    "    asp1, asp2 = tam.pred_aspect_dists(bow)\n",
    "    \n",
    "    # asps['asp1'].append(asp1.cpu().detach())\n",
    "    # asps['asp2'].append(asp2.cpu().detach())\n",
    "    if asps['asp1'] is not None:\n",
    "        asps['asp1'] = torch.concat((asps['asp1'], asp1.cpu().detach()), axis = 0)\n",
    "        asps['asp2'] = torch.concat((asps['asp2'], asp2.cpu().detach()), axis = 0)\n",
    "    else:\n",
    "        asps['asp1'] = asp1.cpu().detach()\n",
    "        asps['asp2'] = asp2.cpu().detach()\n",
    "    asps['title'].append(batch['title'])\n",
    "    print(f'Finished batch {i}', end = '\\r')\n",
    "    i+=1"
   ]
  },
  {
   "cell_type": "code",
   "execution_count": 26,
   "id": "b028046f-85f3-4c2f-b00a-d53117d58be5",
   "metadata": {},
   "outputs": [],
   "source": [
    "asps['title'] = [title for title_l in asps['title'] for title in title_l]"
   ]
  },
  {
   "cell_type": "code",
   "execution_count": 34,
   "id": "35c127f6-a3a8-4a17-876f-f413e3d406a7",
   "metadata": {},
   "outputs": [],
   "source": [
    "torch.save(asps['asp1'], TOGL_DIST_OUT + '/asp1.pt')\n",
    "torch.save(asps['asp2'], TOGL_DIST_OUT + '/asp1.pt')\n",
    "with open(TOGL_DIST_OUT + '/asp1.pt', 'w') as f:\n",
    "    json.dump(asps['title'], f)"
   ]
  },
  {
   "cell_type": "code",
   "execution_count": null,
   "id": "be56035d-4315-4e48-8fa2-386a89d3f00a",
   "metadata": {},
   "outputs": [
    {
     "name": "stdout",
     "output_type": "stream",
     "text": [
      "Finished 13441 of 60671\r"
     ]
    }
   ],
   "source": [
    "c_asps1 = {key: None for key in set(asps['title'])}\n",
    "c_asps2 = {key: None for key in set(asps['title'])}\n",
    "\n",
    "for i, title in enumerate(asps['title']):\n",
    "    if c_asps1[title] is not None:\n",
    "        c_asps1[title] += asps['asp1']\n",
    "    else:\n",
    "        c_asps1[title] = asps['asp1']\n",
    "        \n",
    "    if c_asps2[title] is not None:\n",
    "        c_asps2[title] += asps['asp2']\n",
    "    else:\n",
    "        c_asps2[title] = asps['asp2']\n",
    "    \n",
    "    print(f'Finished {i} of {len(asps[\"title\"])}', end = '\\r')"
   ]
  },
  {
   "cell_type": "markdown",
   "id": "8ba119b3-3da1-4cb6-aa22-ce68de332e56",
   "metadata": {},
   "source": [
    "# Vocabulary Mapping "
   ]
  },
  {
   "cell_type": "code",
   "execution_count": 22,
   "id": "bf9abd8d-9926-4d3f-b353-6d072e0c4ea0",
   "metadata": {},
   "outputs": [
    {
     "data": {
      "application/vnd.jupyter.widget-view+json": {
       "model_id": "e3a1d19d5d5d4e93919b5727f950dbb1",
       "version_major": 2,
       "version_minor": 0
      },
      "text/plain": [
       "Downloading:   0%|          | 0.00/899k [00:00<?, ?B/s]"
      ]
     },
     "metadata": {},
     "output_type": "display_data"
    },
    {
     "data": {
      "application/vnd.jupyter.widget-view+json": {
       "model_id": "f03e44822104498b8a013762a5d33f15",
       "version_major": 2,
       "version_minor": 0
      },
      "text/plain": [
       "Downloading:   0%|          | 0.00/456k [00:00<?, ?B/s]"
      ]
     },
     "metadata": {},
     "output_type": "display_data"
    },
    {
     "data": {
      "application/vnd.jupyter.widget-view+json": {
       "model_id": "31e5b02d853c41cc9256284ef08d4961",
       "version_major": 2,
       "version_minor": 0
      },
      "text/plain": [
       "Downloading:   0%|          | 0.00/26.0 [00:00<?, ?B/s]"
      ]
     },
     "metadata": {},
     "output_type": "display_data"
    },
    {
     "data": {
      "application/vnd.jupyter.widget-view+json": {
       "model_id": "4bee84709508469aae106a70352025ad",
       "version_major": 2,
       "version_minor": 0
      },
      "text/plain": [
       "Downloading:   0%|          | 0.00/1.51k [00:00<?, ?B/s]"
      ]
     },
     "metadata": {},
     "output_type": "display_data"
    }
   ],
   "source": [
    "tokenizer = BartTokenizer.from_pretrained('facebook/bart-large-xsum')"
   ]
  },
  {
   "cell_type": "code",
   "execution_count": 23,
   "id": "24e125b0-0e70-4095-b216-22df62e6f7e7",
   "metadata": {},
   "outputs": [],
   "source": [
    "bart_vocab = tokenizer.get_vocab()"
   ]
  },
  {
   "cell_type": "code",
   "execution_count": 43,
   "id": "b9e5f4c4-7313-4dc0-ae3c-f9efff5f59c5",
   "metadata": {},
   "outputs": [],
   "source": [
    "vocab_map = {}"
   ]
  },
  {
   "cell_type": "code",
   "execution_count": 45,
   "id": "46082f86-f31b-4d71-bc92-60ca20107a56",
   "metadata": {},
   "outputs": [
    {
     "name": "stdout",
     "output_type": "stream",
     "text": [
      "Finished 9999 of 10000\r"
     ]
    }
   ],
   "source": [
    "for i, (term, idx) in enumerate(VECT_VOCAB.items()):\n",
    "    term2 = term[0].upper() + term[1:]\n",
    "    term3 = 'Ġ' + term\n",
    "    \n",
    "    vocab_map[idx] = []\n",
    "    for t in (term, term2, term3):\n",
    "        if term in bart_vocab.keys():\n",
    "            vocab_map[idx].append(bart_vocab[term])\n",
    "    if len(vocab_map[idx]) == 0:\n",
    "        del vocab_map[idx]\n",
    "    \n",
    "    print(f'Finished {i} of {VOCAB_SIZE}', end = '\\r')"
   ]
  },
  {
   "cell_type": "code",
   "execution_count": 50,
   "id": "7756f0ac-37f2-40e9-8673-dce9c4c593ba",
   "metadata": {},
   "outputs": [
    {
     "data": {
      "text/plain": [
       "(tensor([1, 2, 3, 4, 5, 7]), tensor([0, 1, 3, 5, 2, 4]))"
      ]
     },
     "execution_count": 51,
     "metadata": {},
     "output_type": "execute_result"
    }
   ],
   "source": [
    "torch.tensor([1, 2, 5, 3, 7, 4]).sort().values"
   ]
  },
  {
   "cell_type": "code",
   "execution_count": null,
   "id": "d299ba94-61de-4f42-b58b-e99e2093e04b",
   "metadata": {},
   "outputs": [],
   "source": []
  }
 ],
 "metadata": {
  "kernelspec": {
   "display_name": "Python 3 (ipykernel)",
   "language": "python",
   "name": "python3"
  },
  "language_info": {
   "codemirror_mode": {
    "name": "ipython",
    "version": 3
   },
   "file_extension": ".py",
   "mimetype": "text/x-python",
   "name": "python",
   "nbconvert_exporter": "python",
   "pygments_lexer": "ipython3",
   "version": "3.8.10"
  }
 },
 "nbformat": 4,
 "nbformat_minor": 5
}
