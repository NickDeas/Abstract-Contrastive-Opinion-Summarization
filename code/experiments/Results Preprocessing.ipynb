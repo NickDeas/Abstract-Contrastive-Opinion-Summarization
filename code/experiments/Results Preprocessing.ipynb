{
 "cells": [
  {
   "cell_type": "code",
   "execution_count": 1,
   "id": "e5f38825",
   "metadata": {},
   "outputs": [],
   "source": [
    "import pandas as pd\n",
    "\n",
    "import json"
   ]
  },
  {
   "cell_type": "code",
   "execution_count": 9,
   "id": "a6cad9ba",
   "metadata": {},
   "outputs": [],
   "source": [
    "BASE = '../../results/abs_baseline_res/'"
   ]
  },
  {
   "cell_type": "markdown",
   "id": "bd0ec174",
   "metadata": {},
   "source": [
    "# Bart "
   ]
  },
  {
   "cell_type": "code",
   "execution_count": 21,
   "id": "1780c547",
   "metadata": {},
   "outputs": [],
   "source": [
    "zres_file = '%s_%s_gens.txt'\n",
    "fres_file = '%s_%s_kf%s.txt'"
   ]
  },
  {
   "cell_type": "code",
   "execution_count": 51,
   "id": "968b39f6",
   "metadata": {},
   "outputs": [],
   "source": [
    "zbart_gens = {'title_date': [], 'bart_sum': []}\n",
    "with open(BASE + zres_file % ('bart', 'zshot'), 'r', encoding = 'utf-8') as f:\n",
    "    new_gens = f.readlines()\n",
    "    for gen in new_gens:\n",
    "        title = gen[:gen.index('_')]\n",
    "        post_title = gen[gen.index('_')+1:]\n",
    "        date = post_title[:post_title.index(', ')]\n",
    "        summ = post_title[post_title.index(', ') + 2:]\n",
    "        title_date = title + '_' + date\n",
    "        \n",
    "        zbart_gens['title_date'].append(title_date)\n",
    "        zbart_gens['bart_sum'].append(summ)"
   ]
  },
  {
   "cell_type": "code",
   "execution_count": 52,
   "id": "62c8c483",
   "metadata": {},
   "outputs": [],
   "source": [
    "fbart_gens = {'title_date': [], 'bart_sum': []}\n",
    "for i in range(5):\n",
    "    with open(BASE + fres_file % ('bart', 'fshot', i), 'r', encoding = 'utf-8') as f:\n",
    "        new_gens = f.readlines()\n",
    "        for gen in new_gens:\n",
    "            title = gen[:gen.index('_')]\n",
    "            post_title = gen[gen.index('_')+1:]\n",
    "            date = post_title[:post_title.index(', ')]\n",
    "            summ = post_title[post_title.index(', ') + 2:]\n",
    "            title_date = title + '_' + date\n",
    "            \n",
    "            fbart_gens['title_date'].append(title_date)\n",
    "            fbart_gens['bart_sum'].append(summ)\n",
    "            "
   ]
  },
  {
   "cell_type": "code",
   "execution_count": 53,
   "id": "78acb722",
   "metadata": {},
   "outputs": [],
   "source": [
    "zbart_gens = pd.DataFrame(zbart_gens)\n",
    "fbart_gens = pd.DataFrame(fbart_gens)"
   ]
  },
  {
   "cell_type": "code",
   "execution_count": 91,
   "id": "4ec46901",
   "metadata": {},
   "outputs": [],
   "source": [
    "fbart_gens = fbart_gens.sort_values('title_date').reset_index(drop = True)"
   ]
  },
  {
   "cell_type": "code",
   "execution_count": 92,
   "id": "12d8af2c",
   "metadata": {},
   "outputs": [],
   "source": [
    "fbart_gens1 = fbart_gens[fbart_gens.index % 2 == 0]\n",
    "fbart_gens2 = fbart_gens[fbart_gens.index % 2 == 1]"
   ]
  },
  {
   "cell_type": "code",
   "execution_count": 99,
   "id": "d7c7e661",
   "metadata": {},
   "outputs": [],
   "source": [
    "fbart_gens1.columns = ['title_date', 'bart_lsum']\n",
    "fbart_gens2.columns = ['title_date', 'bart_rsum']"
   ]
  },
  {
   "cell_type": "code",
   "execution_count": 100,
   "id": "d1e9a7fa",
   "metadata": {},
   "outputs": [],
   "source": [
    "fbart_gens = fbart_gens1.merge(fbart_gens2, on = 'title_date')"
   ]
  },
  {
   "cell_type": "code",
   "execution_count": 101,
   "id": "c3f00ef2",
   "metadata": {},
   "outputs": [],
   "source": [
    "zbart_gens.to_csv('../../results/bart_zshot_gens.csv', index = None)\n",
    "fbart_gens.to_csv('../../results/bart_fshot_gens.csv', index = None)"
   ]
  },
  {
   "cell_type": "markdown",
   "id": "1fb75b61",
   "metadata": {},
   "source": [
    "#  PRIMERA"
   ]
  },
  {
   "cell_type": "code",
   "execution_count": 63,
   "id": "5f4c3217",
   "metadata": {},
   "outputs": [],
   "source": [
    "zprim_gens = {'title_date': [], 'primera_sum': []}\n",
    "with open(BASE + zres_file % ('primera', 'zshot'), 'r', encoding = 'utf-8') as f:\n",
    "    new_gens = f.readlines()\n",
    "    for gen in new_gens:\n",
    "        title = gen[:gen.index('_')]\n",
    "        post_title = gen[gen.index('_')+1:]\n",
    "        date = post_title[:post_title.index(', ')]\n",
    "        summ = post_title[post_title.index(', ') + 2:]\n",
    "        title_date = title + '_' + date\n",
    "        \n",
    "        zprim_gens['title_date'].append(title_date)\n",
    "        zprim_gens['primera_sum'].append(summ)"
   ]
  },
  {
   "cell_type": "code",
   "execution_count": 64,
   "id": "ce0c711b",
   "metadata": {},
   "outputs": [],
   "source": [
    "fprim_gens = {'title_date': [], 'primera_sum': []}\n",
    "for i in (2, 3):\n",
    "    with open(BASE + fres_file % ('primera', 'fshot', i), 'r', encoding = 'utf-8') as f:\n",
    "        new_gens = f.readlines()\n",
    "        for gen in new_gens:\n",
    "            title = gen[:gen.index('_')]\n",
    "            post_title = gen[gen.index('_')+1:]\n",
    "            date = post_title[:post_title.index(', ')]\n",
    "            summ = post_title[post_title.index(', ') + 2:]\n",
    "            title_date = title + '_' + date\n",
    "            \n",
    "            fprim_gens['title_date'].append(title_date)\n",
    "            fprim_gens['primera_sum'].append(summ)\n",
    "            "
   ]
  },
  {
   "cell_type": "code",
   "execution_count": 68,
   "id": "f7e4cb48",
   "metadata": {},
   "outputs": [],
   "source": [
    "zprim_gens = pd.DataFrame(zprim_gens)\n",
    "fprim_gens = pd.DataFrame(fprim_gens)"
   ]
  },
  {
   "cell_type": "code",
   "execution_count": 82,
   "id": "f4ed28c5",
   "metadata": {},
   "outputs": [],
   "source": [
    "fprim_gens = fprim_gens.sort_values('title_date').reset_index(drop = True)"
   ]
  },
  {
   "cell_type": "code",
   "execution_count": 84,
   "id": "4a457869",
   "metadata": {},
   "outputs": [],
   "source": [
    "fprim_gens1 = fprim_gens[fprim_gens.index % 2 == 0]\n",
    "fprim_gens2 = fprim_gens[fprim_gens.index % 2 == 1]"
   ]
  },
  {
   "cell_type": "code",
   "execution_count": 88,
   "id": "7ac54508",
   "metadata": {},
   "outputs": [],
   "source": [
    "fprim_gens1.columns = ['title_date', 'primera_lsum']\n",
    "fprim_gens2.columns = ['title_date', 'primera_rsum']"
   ]
  },
  {
   "cell_type": "code",
   "execution_count": 90,
   "id": "f8ecc5c7",
   "metadata": {},
   "outputs": [],
   "source": [
    "fprim_gens = fprim_gens1.merge(fprim_gens2, on = 'title_date')"
   ]
  },
  {
   "cell_type": "code",
   "execution_count": 97,
   "id": "bd98e889",
   "metadata": {},
   "outputs": [],
   "source": [
    "zprim_gens.to_csv('../../results/primera_zshot_gens.csv', index = None)\n",
    "fprim_gens.to_csv('../../results/primera_fshot_gens.csv', index = None)"
   ]
  }
 ],
 "metadata": {
  "kernelspec": {
   "display_name": "Python 3",
   "language": "python",
   "name": "python3"
  },
  "language_info": {
   "codemirror_mode": {
    "name": "ipython",
    "version": 3
   },
   "file_extension": ".py",
   "mimetype": "text/x-python",
   "name": "python",
   "nbconvert_exporter": "python",
   "pygments_lexer": "ipython3",
   "version": "3.7.7"
  }
 },
 "nbformat": 4,
 "nbformat_minor": 5
}
